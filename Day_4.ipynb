{
 "cells": [
  {
   "cell_type": "code",
   "execution_count": 1,
   "id": "56c7525e-26ab-4131-8791-21fbac9e8ec3",
   "metadata": {},
   "outputs": [],
   "source": [
    "from pyspark.sql import SparkSession"
   ]
  },
  {
   "cell_type": "code",
   "execution_count": 2,
   "id": "a4705380-9ef1-4fc5-9e42-768bd2f6f9df",
   "metadata": {},
   "outputs": [],
   "source": [
    "spark = SparkSession.builder.getOrCreate()"
   ]
  },
  {
   "cell_type": "code",
   "execution_count": 3,
   "id": "f5472883-4cb5-4699-a9ed-e7534ceb81d0",
   "metadata": {},
   "outputs": [],
   "source": [
    "sc = spark.sparkContext"
   ]
  },
  {
   "cell_type": "code",
   "execution_count": 4,
   "id": "754d4fb1-1f66-4411-9452-aa031ef1ca3e",
   "metadata": {},
   "outputs": [
    {
     "data": {
      "text/html": [
       "\n",
       "            <div>\n",
       "                <p><b>SparkSession - hive</b></p>\n",
       "                \n",
       "        <div>\n",
       "            <p><b>SparkContext</b></p>\n",
       "\n",
       "            <p><a href=\"http://10.0.2.15:4040\">Spark UI</a></p>\n",
       "\n",
       "            <dl>\n",
       "              <dt>Version</dt>\n",
       "                <dd><code>v4.0.1</code></dd>\n",
       "              <dt>Master</dt>\n",
       "                <dd><code>local[*]</code></dd>\n",
       "              <dt>AppName</dt>\n",
       "                <dd><code>PySparkShell</code></dd>\n",
       "            </dl>\n",
       "        </div>\n",
       "        \n",
       "            </div>\n",
       "        "
      ],
      "text/plain": [
       "<pyspark.sql.session.SparkSession at 0x72b25b6902f0>"
      ]
     },
     "execution_count": 4,
     "metadata": {},
     "output_type": "execute_result"
    }
   ],
   "source": [
    "spark"
   ]
  },
  {
   "cell_type": "code",
   "execution_count": 5,
   "id": "b02c8fda-0208-4dc9-a68d-d612909cc584",
   "metadata": {},
   "outputs": [
    {
     "data": {
      "text/html": [
       "\n",
       "        <div>\n",
       "            <p><b>SparkContext</b></p>\n",
       "\n",
       "            <p><a href=\"http://10.0.2.15:4040\">Spark UI</a></p>\n",
       "\n",
       "            <dl>\n",
       "              <dt>Version</dt>\n",
       "                <dd><code>v4.0.1</code></dd>\n",
       "              <dt>Master</dt>\n",
       "                <dd><code>local[*]</code></dd>\n",
       "              <dt>AppName</dt>\n",
       "                <dd><code>PySparkShell</code></dd>\n",
       "            </dl>\n",
       "        </div>\n",
       "        "
      ],
      "text/plain": [
       "<SparkContext master=local[*] appName=PySparkShell>"
      ]
     },
     "execution_count": 5,
     "metadata": {},
     "output_type": "execute_result"
    }
   ],
   "source": [
    "sc"
   ]
  },
  {
   "cell_type": "code",
   "execution_count": 6,
   "id": "72ca3848-b434-4b75-beeb-77b1ca94605e",
   "metadata": {},
   "outputs": [
    {
     "data": {
      "text/html": [
       "<style>pre {white-space: pre !important; }</style>"
      ],
      "text/plain": [
       "<IPython.core.display.HTML object>"
      ]
     },
     "metadata": {},
     "output_type": "display_data"
    }
   ],
   "source": [
    "#Dispaly notebook cell with horizontal Scroll bar\n",
    "from IPython.display import display , HTML\n",
    "display(HTML(\"<style>pre {white-space: pre !important; }</style>\"))"
   ]
  },
  {
   "cell_type": "code",
   "execution_count": 7,
   "id": "9d480fe2-a73c-4714-bfcb-c1be020cb3b6",
   "metadata": {},
   "outputs": [],
   "source": [
    "data =[[1,\"Jules\",\"Verne\",\"http://www.example.com/1\",\"2014-01-01\",254,[\"email\",\"web\"]],\n",
    "       [2,\"H.G.\",\"Wells\",\"http://www.example.com/2\",\"2014-01-02\",123,[\"web\"]],\n",
    "       [3,\"Isaac\",\"Asimov\",\"http://www.example.com/3\",\"2014-02-01\",456,[\"email\",\"ads\",\"web\"]],\n",
    "       [4,\"Douglas\",\"Adams\",\"http://www.example.com/4\",\"2014-03-05\",321,[\"ads\",\"web\"]],\n",
    "       [5,\"Arthur C.\",\"Clarke\",\"http://www.example.com/5\",\"2014-04-01\",213,[\"email\",\"ads\"]],\n",
    "       [6,\"Frank\",\"Herbert\",\"http://www.example.com/6\",\"2014-04-15\",312,[\"email\",\"web\"]],\n",
    "       [7,\"Ursula K.\",\"Le Guin\",\"http://www.example.com/7\",\"2014-05-21\",213,[\"web\"]]]"
   ]
  },
  {
   "cell_type": "code",
   "execution_count": 8,
   "id": "65614bc4-7093-4acd-8033-6ebf7908e844",
   "metadata": {},
   "outputs": [],
   "source": [
    "MyNewSchema = 'ID INT not null, First STRING, Last STRING, Url STRING, Published STRING, Hits INT, Campaigns ARRAY<STRING>'"
   ]
  },
  {
   "cell_type": "code",
   "execution_count": 9,
   "id": "9212c645-e2d1-4f4a-aa7d-140533a6310c",
   "metadata": {},
   "outputs": [],
   "source": [
    "blogs_df = spark.createDataFrame(data , schema = MyNewSchema)"
   ]
  },
  {
   "cell_type": "code",
   "execution_count": 10,
   "id": "3cf0caad-5d69-47fd-a460-be610bf74e5b",
   "metadata": {},
   "outputs": [
    {
     "name": "stderr",
     "output_type": "stream",
     "text": [
      "                                                                                "
     ]
    },
    {
     "name": "stdout",
     "output_type": "stream",
     "text": [
      "+---+---------+-------+--------------------+----------+----+-----------------+\n",
      "| ID|    First|   Last|                 Url| Published|Hits|        Campaigns|\n",
      "+---+---------+-------+--------------------+----------+----+-----------------+\n",
      "|  1|    Jules|  Verne|http://www.exampl...|2014-01-01| 254|     [email, web]|\n",
      "|  2|     H.G.|  Wells|http://www.exampl...|2014-01-02| 123|            [web]|\n",
      "|  3|    Isaac| Asimov|http://www.exampl...|2014-02-01| 456|[email, ads, web]|\n",
      "|  4|  Douglas|  Adams|http://www.exampl...|2014-03-05| 321|       [ads, web]|\n",
      "|  5|Arthur C.| Clarke|http://www.exampl...|2014-04-01| 213|     [email, ads]|\n",
      "|  6|    Frank|Herbert|http://www.exampl...|2014-04-15| 312|     [email, web]|\n",
      "|  7|Ursula K.|Le Guin|http://www.exampl...|2014-05-21| 213|            [web]|\n",
      "+---+---------+-------+--------------------+----------+----+-----------------+\n",
      "\n"
     ]
    }
   ],
   "source": [
    "blogs_df.show()"
   ]
  },
  {
   "cell_type": "code",
   "execution_count": 11,
   "id": "5d0c1d38-ccfe-4b03-9197-4689863f5da2",
   "metadata": {},
   "outputs": [
    {
     "name": "stdout",
     "output_type": "stream",
     "text": [
      "+---+-----+------+------------------------+----------+----+-----------------+\n",
      "|ID |First|Last  |Url                     |Published |Hits|Campaigns        |\n",
      "+---+-----+------+------------------------+----------+----+-----------------+\n",
      "|1  |Jules|Verne |http://www.example.com/1|2014-01-01|254 |[email, web]     |\n",
      "|2  |H.G. |Wells |http://www.example.com/2|2014-01-02|123 |[web]            |\n",
      "|3  |Isaac|Asimov|http://www.example.com/3|2014-02-01|456 |[email, ads, web]|\n",
      "+---+-----+------+------------------------+----------+----+-----------------+\n",
      "only showing top 3 rows\n"
     ]
    }
   ],
   "source": [
    "blogs_df.show(3,truncate=False)"
   ]
  },
  {
   "cell_type": "code",
   "execution_count": 12,
   "id": "56826c3e-fc9a-4cff-b5ba-990a3ae1010a",
   "metadata": {},
   "outputs": [
    {
     "name": "stdout",
     "output_type": "stream",
     "text": [
      "+---+---------+-------+--------------------+----------+----+-----------------+\n",
      "| ID|    First|   Last|                 Url| Published|Hits|        Campaigns|\n",
      "+---+---------+-------+--------------------+----------+----+-----------------+\n",
      "|  5|Arthur C.| Clarke|http://www.exampl...|2014-04-01| 213|     [email, ads]|\n",
      "|  4|  Douglas|  Adams|http://www.exampl...|2014-03-05| 321|       [ads, web]|\n",
      "|  6|    Frank|Herbert|http://www.exampl...|2014-04-15| 312|     [email, web]|\n",
      "|  2|     H.G.|  Wells|http://www.exampl...|2014-01-02| 123|            [web]|\n",
      "|  3|    Isaac| Asimov|http://www.exampl...|2014-02-01| 456|[email, ads, web]|\n",
      "|  1|    Jules|  Verne|http://www.exampl...|2014-01-01| 254|     [email, web]|\n",
      "|  7|Ursula K.|Le Guin|http://www.exampl...|2014-05-21| 213|            [web]|\n",
      "+---+---------+-------+--------------------+----------+----+-----------------+\n",
      "\n"
     ]
    }
   ],
   "source": [
    "blogs_df.sort('First').show()"
   ]
  },
  {
   "cell_type": "code",
   "execution_count": 13,
   "id": "ce67cdeb-1d6b-4fad-a376-5d5bf9b73e91",
   "metadata": {},
   "outputs": [],
   "source": [
    "from pyspark.sql.functions import *"
   ]
  },
  {
   "cell_type": "code",
   "execution_count": 14,
   "id": "db04bd98-c5bf-48c1-ae23-a2946840504a",
   "metadata": {},
   "outputs": [
    {
     "name": "stdout",
     "output_type": "stream",
     "text": [
      "+---+---------+-------+--------------------+----------+----+-----------------+-----------------+\n",
      "| ID|    First|   Last|                 Url| Published|Hits|        Campaigns|             Full|\n",
      "+---+---------+-------+--------------------+----------+----+-----------------+-----------------+\n",
      "|  1|    Jules|  Verne|http://www.exampl...|2014-01-01| 254|     [email, web]|      Jules Verne|\n",
      "|  2|     H.G.|  Wells|http://www.exampl...|2014-01-02| 123|            [web]|       H.G. Wells|\n",
      "|  3|    Isaac| Asimov|http://www.exampl...|2014-02-01| 456|[email, ads, web]|     Isaac Asimov|\n",
      "|  4|  Douglas|  Adams|http://www.exampl...|2014-03-05| 321|       [ads, web]|    Douglas Adams|\n",
      "|  5|Arthur C.| Clarke|http://www.exampl...|2014-04-01| 213|     [email, ads]| Arthur C. Clarke|\n",
      "|  6|    Frank|Herbert|http://www.exampl...|2014-04-15| 312|     [email, web]|    Frank Herbert|\n",
      "|  7|Ursula K.|Le Guin|http://www.exampl...|2014-05-21| 213|            [web]|Ursula K. Le Guin|\n",
      "+---+---------+-------+--------------------+----------+----+-----------------+-----------------+\n",
      "\n"
     ]
    }
   ],
   "source": [
    "blogs_df.withColumn('Full',concat_ws(' ',col('First') , col('Last'))).show()"
   ]
  },
  {
   "cell_type": "code",
   "execution_count": 15,
   "id": "86262c55-cb91-49c4-8fa1-9e145f3fc8fe",
   "metadata": {},
   "outputs": [
    {
     "name": "stdout",
     "output_type": "stream",
     "text": [
      "+---+---------+-------+--------------------+----------+----+-----------------+\n",
      "| ID|    First|   Last|                 Url| Published|Hits|        Campaigns|\n",
      "+---+---------+-------+--------------------+----------+----+-----------------+\n",
      "|  7|Ursula K.|Le Guin|http://www.exampl...|2014-05-21| 213|            [web]|\n",
      "|  1|    Jules|  Verne|http://www.exampl...|2014-01-01| 254|     [email, web]|\n",
      "|  3|    Isaac| Asimov|http://www.exampl...|2014-02-01| 456|[email, ads, web]|\n",
      "|  2|     H.G.|  Wells|http://www.exampl...|2014-01-02| 123|            [web]|\n",
      "|  6|    Frank|Herbert|http://www.exampl...|2014-04-15| 312|     [email, web]|\n",
      "|  4|  Douglas|  Adams|http://www.exampl...|2014-03-05| 321|       [ads, web]|\n",
      "|  5|Arthur C.| Clarke|http://www.exampl...|2014-04-01| 213|     [email, ads]|\n",
      "+---+---------+-------+--------------------+----------+----+-----------------+\n",
      "\n"
     ]
    }
   ],
   "source": [
    "blogs_df.sort('First', ascending=False).show()"
   ]
  },
  {
   "cell_type": "code",
   "execution_count": 16,
   "id": "8b3e25ab-a8bc-45a1-a006-f4cdfd50d090",
   "metadata": {},
   "outputs": [
    {
     "name": "stdout",
     "output_type": "stream",
     "text": [
      "+---+---------+-------+--------------------+----------+----+-----------------+\n",
      "| ID|    First|   Last|                 Url| Published|Hits|        Campaigns|\n",
      "+---+---------+-------+--------------------+----------+----+-----------------+\n",
      "|  5|Arthur C.| Clarke|http://www.exampl...|2014-04-01| 213|     [email, ads]|\n",
      "|  4|  Douglas|  Adams|http://www.exampl...|2014-03-05| 321|       [ads, web]|\n",
      "|  6|    Frank|Herbert|http://www.exampl...|2014-04-15| 312|     [email, web]|\n",
      "|  2|     H.G.|  Wells|http://www.exampl...|2014-01-02| 123|            [web]|\n",
      "|  3|    Isaac| Asimov|http://www.exampl...|2014-02-01| 456|[email, ads, web]|\n",
      "|  1|    Jules|  Verne|http://www.exampl...|2014-01-01| 254|     [email, web]|\n",
      "|  7|Ursula K.|Le Guin|http://www.exampl...|2014-05-21| 213|            [web]|\n",
      "+---+---------+-------+--------------------+----------+----+-----------------+\n",
      "\n"
     ]
    },
    {
     "name": "stderr",
     "output_type": "stream",
     "text": [
      "                                                                                "
     ]
    }
   ],
   "source": [
    "blogs_df.sort(col('First').asc()).show()"
   ]
  },
  {
   "cell_type": "code",
   "execution_count": 17,
   "id": "2bde2189-234b-4687-9ca5-fb971989860b",
   "metadata": {},
   "outputs": [],
   "source": [
    "df = spark.read.csv('NullData.csv' , header=  True, inferSchema=True)"
   ]
  },
  {
   "cell_type": "code",
   "execution_count": 18,
   "id": "2333b470-7ed2-469e-a947-99bd613c23e1",
   "metadata": {},
   "outputs": [
    {
     "name": "stdout",
     "output_type": "stream",
     "text": [
      "+----+-----+-----+\n",
      "|  Id| Name|Sales|\n",
      "+----+-----+-----+\n",
      "|emp1| John| NULL|\n",
      "|emp2| NULL| NULL|\n",
      "|emp3| NULL|345.0|\n",
      "|emp4|Cindy|456.0|\n",
      "+----+-----+-----+\n",
      "\n"
     ]
    }
   ],
   "source": [
    "df.show()"
   ]
  },
  {
   "cell_type": "code",
   "execution_count": 19,
   "id": "c5b11a53-6c3f-4699-8e20-3baea76163e2",
   "metadata": {},
   "outputs": [
    {
     "name": "stdout",
     "output_type": "stream",
     "text": [
      "root\n",
      " |-- Id: string (nullable = true)\n",
      " |-- Name: string (nullable = true)\n",
      " |-- Sales: double (nullable = true)\n",
      "\n"
     ]
    }
   ],
   "source": [
    "df.printSchema()"
   ]
  },
  {
   "cell_type": "code",
   "execution_count": 20,
   "id": "380daff0-f24f-4657-9b66-f73c73eb022f",
   "metadata": {},
   "outputs": [],
   "source": [
    "df_notnull =df.na.drop()"
   ]
  },
  {
   "cell_type": "code",
   "execution_count": 21,
   "id": "31df89ef-35f6-4d46-aa7c-6b51bf2b8773",
   "metadata": {},
   "outputs": [
    {
     "name": "stdout",
     "output_type": "stream",
     "text": [
      "+----+-----+-----+\n",
      "|  Id| Name|Sales|\n",
      "+----+-----+-----+\n",
      "|emp4|Cindy|456.0|\n",
      "+----+-----+-----+\n",
      "\n"
     ]
    }
   ],
   "source": [
    "df_notnull.show()"
   ]
  },
  {
   "cell_type": "code",
   "execution_count": 22,
   "id": "a743c771-043b-4d7c-a0b9-407e73e4cabd",
   "metadata": {},
   "outputs": [
    {
     "name": "stdout",
     "output_type": "stream",
     "text": [
      "+----+-----+-----+\n",
      "|  Id| Name|Sales|\n",
      "+----+-----+-----+\n",
      "|emp4|Cindy|456.0|\n",
      "+----+-----+-----+\n",
      "\n"
     ]
    }
   ],
   "source": [
    "df.na.drop(how='any').show()"
   ]
  },
  {
   "cell_type": "code",
   "execution_count": 23,
   "id": "f0237c14-a8b9-404f-bf2f-5bbb63e831f9",
   "metadata": {},
   "outputs": [
    {
     "name": "stdout",
     "output_type": "stream",
     "text": [
      "+----+-----+-----+\n",
      "|  Id| Name|Sales|\n",
      "+----+-----+-----+\n",
      "|emp1| John| NULL|\n",
      "|emp2| NULL| NULL|\n",
      "|emp3| NULL|345.0|\n",
      "|emp4|Cindy|456.0|\n",
      "+----+-----+-----+\n",
      "\n"
     ]
    }
   ],
   "source": [
    "df.na.drop(how='all').show()"
   ]
  },
  {
   "cell_type": "code",
   "execution_count": 24,
   "id": "73197061-ac25-4977-9b5a-24d3ae5f67af",
   "metadata": {},
   "outputs": [
    {
     "name": "stdout",
     "output_type": "stream",
     "text": [
      "+----+-----+-----+\n",
      "|  Id| Name|Sales|\n",
      "+----+-----+-----+\n",
      "|emp1| John| NULL|\n",
      "|emp2| NULL| NULL|\n",
      "|emp3| NULL|345.0|\n",
      "|emp4|Cindy|456.0|\n",
      "+----+-----+-----+\n",
      "\n"
     ]
    }
   ],
   "source": [
    "df.na.drop(thresh=1).show() # not null"
   ]
  },
  {
   "cell_type": "code",
   "execution_count": 25,
   "id": "eeb8971d-534a-4b32-b74c-570e81ddc7c6",
   "metadata": {},
   "outputs": [
    {
     "name": "stdout",
     "output_type": "stream",
     "text": [
      "+----+-----+-----+\n",
      "|  Id| Name|Sales|\n",
      "+----+-----+-----+\n",
      "|emp1| John| NULL|\n",
      "|emp3| NULL|345.0|\n",
      "|emp4|Cindy|456.0|\n",
      "+----+-----+-----+\n",
      "\n"
     ]
    }
   ],
   "source": [
    "df.na.drop(thresh=2).show() # not null"
   ]
  },
  {
   "cell_type": "code",
   "execution_count": 26,
   "id": "2fd60a2b-dd14-4216-b50d-9183b91533b7",
   "metadata": {},
   "outputs": [
    {
     "name": "stdout",
     "output_type": "stream",
     "text": [
      "+----+-----+-----+\n",
      "|  Id| Name|Sales|\n",
      "+----+-----+-----+\n",
      "|emp4|Cindy|456.0|\n",
      "+----+-----+-----+\n",
      "\n"
     ]
    }
   ],
   "source": [
    "df.na.drop(thresh=3).show() # not null"
   ]
  },
  {
   "cell_type": "code",
   "execution_count": 27,
   "id": "f329760e-13fe-4cbd-84b2-aef6771d945d",
   "metadata": {},
   "outputs": [
    {
     "name": "stdout",
     "output_type": "stream",
     "text": [
      "+----+-----+-----+\n",
      "|  Id| Name|Sales|\n",
      "+----+-----+-----+\n",
      "|emp1| John| NULL|\n",
      "|emp4|Cindy|456.0|\n",
      "+----+-----+-----+\n",
      "\n"
     ]
    }
   ],
   "source": [
    "df.na.drop(subset=['Id' , 'Name']).show()"
   ]
  },
  {
   "cell_type": "code",
   "execution_count": 28,
   "id": "d3bafccf-7e6e-45fb-96df-9ed355622b31",
   "metadata": {},
   "outputs": [
    {
     "name": "stdout",
     "output_type": "stream",
     "text": [
      "+----+-----+-----+\n",
      "|  Id| Name|Sales|\n",
      "+----+-----+-----+\n",
      "|emp1| John| NULL|\n",
      "|emp2| NULL| NULL|\n",
      "|emp3| NULL|345.0|\n",
      "|emp4|Cindy|456.0|\n",
      "+----+-----+-----+\n",
      "\n"
     ]
    }
   ],
   "source": [
    "df.na.drop(subset=['Id' , 'Name'] , how = 'all').show()"
   ]
  },
  {
   "cell_type": "code",
   "execution_count": 29,
   "id": "17cf6ed4-9273-4714-984a-6d9dddef67b4",
   "metadata": {},
   "outputs": [
    {
     "name": "stdout",
     "output_type": "stream",
     "text": [
      "+----+--------+-----+\n",
      "|  Id|    Name|Sales|\n",
      "+----+--------+-----+\n",
      "|emp1|    John| NULL|\n",
      "|emp2|Any Name| NULL|\n",
      "|emp3|Any Name|345.0|\n",
      "|emp4|   Cindy|456.0|\n",
      "+----+--------+-----+\n",
      "\n"
     ]
    }
   ],
   "source": [
    "df.na.fill('Any Name').show()"
   ]
  },
  {
   "cell_type": "code",
   "execution_count": 30,
   "id": "875a5df6-cbb0-4fc0-98e6-c6423877c3d2",
   "metadata": {},
   "outputs": [
    {
     "name": "stdout",
     "output_type": "stream",
     "text": [
      "+----+-----+-----+\n",
      "|  Id| Name|Sales|\n",
      "+----+-----+-----+\n",
      "|emp1| John| 50.0|\n",
      "|emp2| NULL| 50.0|\n",
      "|emp3| NULL|345.0|\n",
      "|emp4|Cindy|456.0|\n",
      "+----+-----+-----+\n",
      "\n"
     ]
    }
   ],
   "source": [
    "df.na.fill(50).show()"
   ]
  },
  {
   "cell_type": "code",
   "execution_count": 31,
   "id": "ef7fed9a-0b30-4172-b13e-21669dbdc830",
   "metadata": {},
   "outputs": [
    {
     "data": {
      "text/plain": [
       "DataFrame[Id: string, Name: string, Sales: double]"
      ]
     },
     "execution_count": 31,
     "metadata": {},
     "output_type": "execute_result"
    }
   ],
   "source": [
    "df.na.fill(0 , subset=['Sales'])"
   ]
  },
  {
   "cell_type": "code",
   "execution_count": 32,
   "id": "8c16fecd-50be-47f8-8747-d34e93436a8f",
   "metadata": {},
   "outputs": [],
   "source": [
    "m = df.select(mean(col('Sales')).alias('mean_sales')).collect()"
   ]
  },
  {
   "cell_type": "code",
   "execution_count": 33,
   "id": "4c7fbf7b-cae9-4dba-9e93-83d5d2f53d36",
   "metadata": {},
   "outputs": [
    {
     "data": {
      "text/plain": [
       "400.5"
      ]
     },
     "execution_count": 33,
     "metadata": {},
     "output_type": "execute_result"
    }
   ],
   "source": [
    "m[0][0]"
   ]
  },
  {
   "cell_type": "code",
   "execution_count": 34,
   "id": "a16621f8-ddf4-456d-9682-3bfcb8a887f4",
   "metadata": {},
   "outputs": [
    {
     "data": {
      "text/plain": [
       "400.5"
      ]
     },
     "execution_count": 34,
     "metadata": {},
     "output_type": "execute_result"
    }
   ],
   "source": [
    "m[0].mean_sales"
   ]
  },
  {
   "cell_type": "code",
   "execution_count": 35,
   "id": "f6c78cc5-75a2-4e6b-8e29-e835e1636b90",
   "metadata": {},
   "outputs": [],
   "source": [
    "df_notnull =df.na.fill(m[0].mean_sales , subset=['Sales'])"
   ]
  },
  {
   "cell_type": "code",
   "execution_count": 36,
   "id": "a91270a4-55a8-40a4-b3b6-270aa5d95050",
   "metadata": {},
   "outputs": [
    {
     "name": "stdout",
     "output_type": "stream",
     "text": [
      "+----+-----+-----+\n",
      "|  Id| Name|Sales|\n",
      "+----+-----+-----+\n",
      "|emp1| John|400.5|\n",
      "|emp2| NULL|400.5|\n",
      "|emp3| NULL|345.0|\n",
      "|emp4|Cindy|456.0|\n",
      "+----+-----+-----+\n",
      "\n"
     ]
    }
   ],
   "source": [
    "df_notnull.show()"
   ]
  },
  {
   "cell_type": "code",
   "execution_count": 37,
   "id": "5de0bb3b-1b88-43ed-957e-b531c73fb76e",
   "metadata": {},
   "outputs": [
    {
     "name": "stderr",
     "output_type": "stream",
     "text": [
      "                                                                                "
     ]
    }
   ],
   "source": [
    "fire_df = spark.read.csv('sf-fire-calls.csv',header=True , inferSchema=True)"
   ]
  },
  {
   "cell_type": "code",
   "execution_count": 38,
   "id": "31ccd5d9-0fcd-428e-ac46-b8822d7dfaa7",
   "metadata": {},
   "outputs": [
    {
     "name": "stderr",
     "output_type": "stream",
     "text": [
      "25/10/17 20:40:41 WARN SparkStringUtils: Truncated the string representation of a plan since it was too large. This behavior can be adjusted by setting 'spark.sql.debug.maxToStringFields'.\n"
     ]
    },
    {
     "name": "stdout",
     "output_type": "stream",
     "text": [
      "+----------+------+--------------+----------------+----------+----------+--------------------+--------------------+--------------------+----+-------+---------+-----------+----+----------------+--------+-------------+-------+-------------+---------+--------+--------------------------+----------------------+------------------+--------------------+--------------------+-------------+---------+\n",
      "|CallNumber|UnitID|IncidentNumber|        CallType|  CallDate| WatchDate|CallFinalDisposition|       AvailableDtTm|             Address|City|Zipcode|Battalion|StationArea| Box|OriginalPriority|Priority|FinalPriority|ALSUnit|CallTypeGroup|NumAlarms|UnitType|UnitSequenceInCallDispatch|FirePreventionDistrict|SupervisorDistrict|        Neighborhood|            Location|        RowID|    Delay|\n",
      "+----------+------+--------------+----------------+----------+----------+--------------------+--------------------+--------------------+----+-------+---------+-----------+----+----------------+--------+-------------+-------+-------------+---------+--------+--------------------------+----------------------+------------------+--------------------+--------------------+-------------+---------+\n",
      "|  20110016|   T13|       2003235|  Structure Fire|01/11/2002|01/10/2002|               Other|01/11/2002 01:51:...|2000 Block of CAL...|  SF|  94109|      B04|         38|3362|               3|       3|            3|  false|         NULL|        1|   TRUCK|                         2|                     4|                 5|     Pacific Heights|(37.7895840679362...|020110016-T13|     2.95|\n",
      "|  20110022|   M17|       2003241|Medical Incident|01/11/2002|01/10/2002|               Other|01/11/2002 03:01:...|0 Block of SILVER...|  SF|  94124|      B10|         42|6495|               3|       3|            3|   true|         NULL|        1|   MEDIC|                         1|                    10|                10|Bayview Hunters P...|(37.7337623673897...|020110022-M17|      4.7|\n",
      "|  20110023|   M41|       2003242|Medical Incident|01/11/2002|01/10/2002|               Other|01/11/2002 02:39:...|MARKET ST/MCALLIS...|  SF|  94102|      B03|         01|1455|               3|       3|            3|   true|         NULL|        1|   MEDIC|                         2|                     3|                 6|          Tenderloin|(37.7811772186856...|020110023-M41|2.4333334|\n",
      "|  20110032|   E11|       2003250|    Vehicle Fire|01/11/2002|01/10/2002|               Other|01/11/2002 04:16:...|APPLETON AV/MISSI...|  SF|  94110|      B06|         32|5626|               3|       3|            3|  false|         NULL|        1|  ENGINE|                         1|                     6|                 9|      Bernal Heights|(37.7388432849018...|020110032-E11|      1.5|\n",
      "|  20110043|   B04|       2003259|          Alarms|01/11/2002|01/10/2002|               Other|01/11/2002 06:01:...|1400 Block of SUT...|  SF|  94109|      B04|         03|3223|               3|       3|            3|  false|         NULL|        1|   CHIEF|                         2|                     4|                 2|    Western Addition|(37.7872890372638...|020110043-B04|3.4833333|\n",
      "+----------+------+--------------+----------------+----------+----------+--------------------+--------------------+--------------------+----+-------+---------+-----------+----+----------------+--------+-------------+-------+-------------+---------+--------+--------------------------+----------------------+------------------+--------------------+--------------------+-------------+---------+\n",
      "only showing top 5 rows\n"
     ]
    }
   ],
   "source": [
    "fire_df.show(5)"
   ]
  },
  {
   "cell_type": "code",
   "execution_count": 39,
   "id": "0a97e1b7-63a4-4216-ae7b-21060dc16124",
   "metadata": {},
   "outputs": [
    {
     "name": "stdout",
     "output_type": "stream",
     "text": [
      "root\n",
      " |-- CallNumber: integer (nullable = true)\n",
      " |-- UnitID: string (nullable = true)\n",
      " |-- IncidentNumber: integer (nullable = true)\n",
      " |-- CallType: string (nullable = true)\n",
      " |-- CallDate: string (nullable = true)\n",
      " |-- WatchDate: string (nullable = true)\n",
      " |-- CallFinalDisposition: string (nullable = true)\n",
      " |-- AvailableDtTm: string (nullable = true)\n",
      " |-- Address: string (nullable = true)\n",
      " |-- City: string (nullable = true)\n",
      " |-- Zipcode: integer (nullable = true)\n",
      " |-- Battalion: string (nullable = true)\n",
      " |-- StationArea: string (nullable = true)\n",
      " |-- Box: string (nullable = true)\n",
      " |-- OriginalPriority: string (nullable = true)\n",
      " |-- Priority: string (nullable = true)\n",
      " |-- FinalPriority: integer (nullable = true)\n",
      " |-- ALSUnit: boolean (nullable = true)\n",
      " |-- CallTypeGroup: string (nullable = true)\n",
      " |-- NumAlarms: integer (nullable = true)\n",
      " |-- UnitType: string (nullable = true)\n",
      " |-- UnitSequenceInCallDispatch: integer (nullable = true)\n",
      " |-- FirePreventionDistrict: string (nullable = true)\n",
      " |-- SupervisorDistrict: string (nullable = true)\n",
      " |-- Neighborhood: string (nullable = true)\n",
      " |-- Location: string (nullable = true)\n",
      " |-- RowID: string (nullable = true)\n",
      " |-- Delay: double (nullable = true)\n",
      "\n"
     ]
    }
   ],
   "source": [
    "fire_df.printSchema()"
   ]
  },
  {
   "cell_type": "code",
   "execution_count": 40,
   "id": "3cd5790f-0200-45c8-be31-a39b46eafce1",
   "metadata": {},
   "outputs": [],
   "source": [
    "fire_df = spark.read.csv('sf-fire-calls.csv',header=True ,\n",
    "                         inferSchema=True, samplingRatio=0.001)"
   ]
  },
  {
   "cell_type": "code",
   "execution_count": 41,
   "id": "83d985ac-b3c0-47f7-9fdc-9bce22220974",
   "metadata": {},
   "outputs": [
    {
     "name": "stdout",
     "output_type": "stream",
     "text": [
      "root\n",
      " |-- CallNumber: integer (nullable = true)\n",
      " |-- UnitID: string (nullable = true)\n",
      " |-- IncidentNumber: integer (nullable = true)\n",
      " |-- CallType: string (nullable = true)\n",
      " |-- CallDate: string (nullable = true)\n",
      " |-- WatchDate: string (nullable = true)\n",
      " |-- CallFinalDisposition: string (nullable = true)\n",
      " |-- AvailableDtTm: string (nullable = true)\n",
      " |-- Address: string (nullable = true)\n",
      " |-- City: string (nullable = true)\n",
      " |-- Zipcode: integer (nullable = true)\n",
      " |-- Battalion: string (nullable = true)\n",
      " |-- StationArea: string (nullable = true)\n",
      " |-- Box: integer (nullable = true)\n",
      " |-- OriginalPriority: string (nullable = true)\n",
      " |-- Priority: string (nullable = true)\n",
      " |-- FinalPriority: integer (nullable = true)\n",
      " |-- ALSUnit: boolean (nullable = true)\n",
      " |-- CallTypeGroup: string (nullable = true)\n",
      " |-- NumAlarms: integer (nullable = true)\n",
      " |-- UnitType: string (nullable = true)\n",
      " |-- UnitSequenceInCallDispatch: integer (nullable = true)\n",
      " |-- FirePreventionDistrict: integer (nullable = true)\n",
      " |-- SupervisorDistrict: integer (nullable = true)\n",
      " |-- Neighborhood: string (nullable = true)\n",
      " |-- Location: string (nullable = true)\n",
      " |-- RowID: string (nullable = true)\n",
      " |-- Delay: double (nullable = true)\n",
      "\n"
     ]
    }
   ],
   "source": [
    "fire_df.printSchema()"
   ]
  },
  {
   "cell_type": "code",
   "execution_count": 42,
   "id": "56deb186-0a1f-4cf7-9c44-7875401f34d0",
   "metadata": {},
   "outputs": [
    {
     "data": {
      "text/plain": [
       "StructType([StructField('CallNumber', IntegerType(), True), StructField('UnitID', StringType(), True), StructField('IncidentNumber', IntegerType(), True), StructField('CallType', StringType(), True), StructField('CallDate', StringType(), True), StructField('WatchDate', StringType(), True), StructField('CallFinalDisposition', StringType(), True), StructField('AvailableDtTm', StringType(), True), StructField('Address', StringType(), True), StructField('City', StringType(), True), StructField('Zipcode', IntegerType(), True), StructField('Battalion', StringType(), True), StructField('StationArea', StringType(), True), StructField('Box', IntegerType(), True), StructField('OriginalPriority', StringType(), True), StructField('Priority', StringType(), True), StructField('FinalPriority', IntegerType(), True), StructField('ALSUnit', BooleanType(), True), StructField('CallTypeGroup', StringType(), True), StructField('NumAlarms', IntegerType(), True), StructField('UnitType', StringType(), True), StructField('UnitSequenceInCallDispatch', IntegerType(), True), StructField('FirePreventionDistrict', IntegerType(), True), StructField('SupervisorDistrict', IntegerType(), True), StructField('Neighborhood', StringType(), True), StructField('Location', StringType(), True), StructField('RowID', StringType(), True), StructField('Delay', DoubleType(), True)])"
      ]
     },
     "execution_count": 42,
     "metadata": {},
     "output_type": "execute_result"
    }
   ],
   "source": [
    "fire_df.schema"
   ]
  },
  {
   "cell_type": "code",
   "execution_count": 43,
   "id": "37b5b551-fd3b-4a0b-a247-c75b87bd67de",
   "metadata": {},
   "outputs": [],
   "source": [
    "fire_describe =fire_df.describe()"
   ]
  },
  {
   "cell_type": "code",
   "execution_count": 44,
   "id": "aa3101bb-4edf-45c7-94a0-ae248bfee430",
   "metadata": {},
   "outputs": [
    {
     "name": "stderr",
     "output_type": "stream",
     "text": [
      "[Stage 33:>                                                         (0 + 1) / 1]"
     ]
    },
    {
     "name": "stdout",
     "output_type": "stream",
     "text": [
      "+-------+--------------------+------------------+-----------------+--------------------+----------+----------+--------------------+--------------------+--------------------+-----------+------------------+---------+------------------+----------------+------------------+------------------+-------------------+--------------------+-------------------+--------+--------------------------+----------------------+------------------+--------------------+--------------------+-------------+------------------+\n",
      "|summary|          CallNumber|            UnitID|   IncidentNumber|            CallType|  CallDate| WatchDate|CallFinalDisposition|       AvailableDtTm|             Address|       City|           Zipcode|Battalion|       StationArea|             Box|  OriginalPriority|          Priority|      FinalPriority|       CallTypeGroup|          NumAlarms|UnitType|UnitSequenceInCallDispatch|FirePreventionDistrict|SupervisorDistrict|        Neighborhood|            Location|        RowID|             Delay|\n",
      "+-------+--------------------+------------------+-----------------+--------------------+----------+----------+--------------------+--------------------+--------------------+-----------+------------------+---------+------------------+----------------+------------------+------------------+-------------------+--------------------+-------------------+--------+--------------------------+----------------------+------------------+--------------------+--------------------+-------------+------------------+\n",
      "|  count|              175296|            175296|           175296|              175296|    175296|    175296|              175296|              173502|              175296|     175089|            175154|   175296|            175221|          175282|            174374|            175296|             175296|               75779|             175296|  175296|                    175295|                173915|            175170|              175296|              175296|       175296|            175296|\n",
      "|   mean|1.0023517638629518E8| 75.09678410773658|9900785.635057274|                NULL|      NULL|      NULL|                NULL|                NULL|                NULL|       NULL| 94113.58601573472|     NULL| 18.08921735922151| 4090.2165596011|2.7605317888321927|2.7449383763374695|  2.792174379335524|                NULL| 1.0049858525009128|    NULL|        2.1280413018055278|    4.7602276974384035| 5.989141976365816|                NULL|                NULL|         NULL|3.8923641541750156|\n",
      "| stddev|5.3969092834126554E7|12.818274120753552|5407019.524900537|                NULL|      NULL|      NULL|                NULL|                NULL|                NULL|       NULL|10.221869589794194|     NULL|14.463948601522205|2374.88222571495|0.5070550169980559|0.5170575577556945|0.40575247533832187|                NULL|0.09811952680742099|    NULL|        2.0543838673391677|    2.9348933918215114|2.7217404283152193|                NULL|                NULL|         NULL| 9.378286170882735|\n",
      "|    min|             1030128|                27|            30636|      Administrative|01/01/2001|01/01/2001|Against Medical A...|01/01/2001 01:28:...|0 Block of 0NB GG...|         BN|             94102|      B01|                01|             123|                 1|                 1|                  2|               Alarm|                  1| AIRPORT|                         1|                     1|                 1|Bayview Hunters P...|(37.6168823239251...|001030128-B04|       0.016666668|\n",
      "|    max|           183104004|               UU1|         18130302|Watercraft in Dis...|12/31/2017|12/31/2017|    Unable to Locate|12/31/2017 12:55:...|YOSEMITE AV/MENDE...|Yerba Buena|             94158|      B99|                A3|            9955|                 I|                 I|                  3|Potentially Life-...|                  5|   TRUCK|                        68|                    10|                11|    Western Addition|(37.8544643401172...|183104004-B01|           1844.55|\n",
      "+-------+--------------------+------------------+-----------------+--------------------+----------+----------+--------------------+--------------------+--------------------+-----------+------------------+---------+------------------+----------------+------------------+------------------+-------------------+--------------------+-------------------+--------+--------------------------+----------------------+------------------+--------------------+--------------------+-------------+------------------+\n",
      "\n"
     ]
    },
    {
     "name": "stderr",
     "output_type": "stream",
     "text": [
      "                                                                                "
     ]
    }
   ],
   "source": [
    "fire_describe.show()"
   ]
  },
  {
   "cell_type": "code",
   "execution_count": 45,
   "id": "09cd4931-e39f-4381-9cfa-630cd7e68a1f",
   "metadata": {},
   "outputs": [
    {
     "name": "stdout",
     "output_type": "stream",
     "text": [
      "+-------+--------------------+\n",
      "|summary|          CallNumber|\n",
      "+-------+--------------------+\n",
      "|  count|              175296|\n",
      "|   mean|1.0023517638629518E8|\n",
      "| stddev|5.3969092834126554E7|\n",
      "|    min|             1030128|\n",
      "|    max|           183104004|\n",
      "+-------+--------------------+\n",
      "\n"
     ]
    }
   ],
   "source": [
    "fire_describe.select('summary' , 'CallNumber').show()"
   ]
  },
  {
   "cell_type": "code",
   "execution_count": 46,
   "id": "a5c8eff1-3f2c-4368-a65d-edde693469b4",
   "metadata": {},
   "outputs": [
    {
     "name": "stdout",
     "output_type": "stream",
     "text": [
      "+----------+------+--------------+----------------+----------+----------+--------------------+----------------------+---------------------------+----+-------+---------+-----------+----+----------------+--------+-------------+-------+-------------+---------+--------+--------------------------+----------------------+------------------+---------------------+-------------------------------------+-------------+---------+\n",
      "|CallNumber|UnitID|IncidentNumber|CallType        |CallDate  |WatchDate |CallFinalDisposition|AvailableDtTm         |Address                    |City|Zipcode|Battalion|StationArea|Box |OriginalPriority|Priority|FinalPriority|ALSUnit|CallTypeGroup|NumAlarms|UnitType|UnitSequenceInCallDispatch|FirePreventionDistrict|SupervisorDistrict|Neighborhood         |Location                             |RowID        |Delay    |\n",
      "+----------+------+--------------+----------------+----------+----------+--------------------+----------------------+---------------------------+----+-------+---------+-----------+----+----------------+--------+-------------+-------+-------------+---------+--------+--------------------------+----------------------+------------------+---------------------+-------------------------------------+-------------+---------+\n",
      "|20110016  |T13   |2003235       |Structure Fire  |01/11/2002|01/10/2002|Other               |01/11/2002 01:51:44 AM|2000 Block of CALIFORNIA ST|SF  |94109  |B04      |38         |3362|3               |3       |3            |false  |NULL         |1        |TRUCK   |2                         |4                     |5                 |Pacific Heights      |(37.7895840679362, -122.428071912459)|020110016-T13|2.95     |\n",
      "|20110022  |M17   |2003241       |Medical Incident|01/11/2002|01/10/2002|Other               |01/11/2002 03:01:18 AM|0 Block of SILVERVIEW DR   |SF  |94124  |B10      |42         |6495|3               |3       |3            |true   |NULL         |1        |MEDIC   |1                         |10                    |10                |Bayview Hunters Point|(37.7337623673897, -122.396113802632)|020110022-M17|4.7      |\n",
      "|20110023  |M41   |2003242       |Medical Incident|01/11/2002|01/10/2002|Other               |01/11/2002 02:39:50 AM|MARKET ST/MCALLISTER ST    |SF  |94102  |B03      |01         |1455|3               |3       |3            |true   |NULL         |1        |MEDIC   |2                         |3                     |6                 |Tenderloin           |(37.7811772186856, -122.411699931232)|020110023-M41|2.4333334|\n",
      "|20110032  |E11   |2003250       |Vehicle Fire    |01/11/2002|01/10/2002|Other               |01/11/2002 04:16:46 AM|APPLETON AV/MISSION ST     |SF  |94110  |B06      |32         |5626|3               |3       |3            |false  |NULL         |1        |ENGINE  |1                         |6                     |9                 |Bernal Heights       |(37.7388432849018, -122.423948785199)|020110032-E11|1.5      |\n",
      "|20110043  |B04   |2003259       |Alarms          |01/11/2002|01/10/2002|Other               |01/11/2002 06:01:58 AM|1400 Block of SUTTER ST    |SF  |94109  |B04      |03         |3223|3               |3       |3            |false  |NULL         |1        |CHIEF   |2                         |4                     |2                 |Western Addition     |(37.7872890372638, -122.424236212664)|020110043-B04|3.4833333|\n",
      "+----------+------+--------------+----------------+----------+----------+--------------------+----------------------+---------------------------+----+-------+---------+-----------+----+----------------+--------+-------------+-------+-------------+---------+--------+--------------------------+----------------------+------------------+---------------------+-------------------------------------+-------------+---------+\n",
      "only showing top 5 rows\n"
     ]
    }
   ],
   "source": [
    "fire_df.show(5 , truncate = False)"
   ]
  },
  {
   "cell_type": "code",
   "execution_count": 47,
   "id": "f5bc821f-2c80-40ad-9d01-010803b44f28",
   "metadata": {},
   "outputs": [],
   "source": [
    "import pyspark.sql.functions as fn"
   ]
  },
  {
   "cell_type": "code",
   "execution_count": 48,
   "id": "fc589676-1ff7-44a5-bd21-34c0d05d3ac5",
   "metadata": {},
   "outputs": [],
   "source": [
    "from pyspark.sql.functions import *"
   ]
  },
  {
   "cell_type": "code",
   "execution_count": 49,
   "id": "da1725b5-311f-4356-9249-c2060f61e601",
   "metadata": {},
   "outputs": [],
   "source": [
    "#Lets DO Some data Preparations"
   ]
  },
  {
   "cell_type": "code",
   "execution_count": 50,
   "id": "94fa41dd-a87d-441b-838e-4e2cc3f14458",
   "metadata": {},
   "outputs": [],
   "source": [
    "df_Medical = (fire_df\n",
    "              .select('CallNumber','IncidentNumber','UnitID','CallType').where(col('CallType')=='Medical Incident'))"
   ]
  },
  {
   "cell_type": "code",
   "execution_count": 51,
   "id": "cbafabb3-b2e6-48d7-b2a4-cc91469716a0",
   "metadata": {},
   "outputs": [
    {
     "name": "stdout",
     "output_type": "stream",
     "text": [
      "+----------+--------------+------+----------------+\n",
      "|CallNumber|IncidentNumber|UnitID|        CallType|\n",
      "+----------+--------------+------+----------------+\n",
      "|  20110022|       2003241|   M17|Medical Incident|\n",
      "|  20110023|       2003242|   M41|Medical Incident|\n",
      "|  20110197|       2003343|   E05|Medical Incident|\n",
      "|  20110215|       2003348|   E06|Medical Incident|\n",
      "|  20110274|       2003381|   M07|Medical Incident|\n",
      "|  20110304|       2003399|   E03|Medical Incident|\n",
      "|  20110308|       2003403|   E14|Medical Incident|\n",
      "|  20110315|       2003409|   RC2|Medical Incident|\n",
      "|  20110330|       2003417|   E14|Medical Incident|\n",
      "|  20110330|       2003417|   M12|Medical Incident|\n",
      "|  20110350|       2003435|   M41|Medical Incident|\n",
      "|  20110428|       2003500|   M28|Medical Incident|\n",
      "|  20110467|       2003529|   T19|Medical Incident|\n",
      "|  20120016|       2003550|   E43|Medical Incident|\n",
      "|  20120044|       2003576|   M10|Medical Incident|\n",
      "|  20120045|       2003577|   E21|Medical Incident|\n",
      "|  20120052|       2003584|   M36|Medical Incident|\n",
      "|  20120061|       2003593|   M10|Medical Incident|\n",
      "|  20120127|       2003630|   M38|Medical Incident|\n",
      "|  20120142|       2003639|   E07|Medical Incident|\n",
      "+----------+--------------+------+----------------+\n",
      "only showing top 20 rows\n"
     ]
    }
   ],
   "source": [
    "df_Medical.show()"
   ]
  },
  {
   "cell_type": "code",
   "execution_count": 52,
   "id": "8eaffd0f-22e0-4543-a649-d3ce7546cd14",
   "metadata": {},
   "outputs": [],
   "source": [
    "df_NotMedical = (fire_df\n",
    "              .select('CallNumber','IncidentNumber','UnitID','CallType').where(col('CallType')!='Medical Incident'))"
   ]
  },
  {
   "cell_type": "code",
   "execution_count": 53,
   "id": "9125c0f1-cffc-4410-9b3a-be0971e1314c",
   "metadata": {},
   "outputs": [
    {
     "name": "stdout",
     "output_type": "stream",
     "text": [
      "+----------+--------------+------+-----------------------------+\n",
      "|CallNumber|IncidentNumber|UnitID|CallType                     |\n",
      "+----------+--------------+------+-----------------------------+\n",
      "|20110016  |2003235       |T13   |Structure Fire               |\n",
      "|20110032  |2003250       |E11   |Vehicle Fire                 |\n",
      "|20110043  |2003259       |B04   |Alarms                       |\n",
      "|20110072  |2003279       |T08   |Structure Fire               |\n",
      "|20110125  |2003301       |E33   |Alarms                       |\n",
      "|20110130  |2003304       |E36   |Alarms                       |\n",
      "|20110275  |2003382       |T15   |Structure Fire               |\n",
      "|20110313  |2003408       |B10   |Structure Fire               |\n",
      "|20110313  |2003408       |D3    |Structure Fire               |\n",
      "|20110313  |2003408       |E32   |Structure Fire               |\n",
      "|20110344  |2003429       |T06   |Odor (Strange / Unknown)     |\n",
      "|20110375  |2003453       |B05   |Alarms                       |\n",
      "|20110425  |2003497       |B01   |Structure Fire               |\n",
      "|20120020  |2003554       |E36   |Structure Fire               |\n",
      "|20120111  |2003618       |E18   |Odor (Strange / Unknown)     |\n",
      "|20120155  |2003649       |B08   |Odor (Strange / Unknown)     |\n",
      "|20120217  |2003695       |M03   |Structure Fire               |\n",
      "|20120295  |2003756       |B05   |Alarms                       |\n",
      "|20120311  |2003770       |E07   |Smoke Investigation (Outside)|\n",
      "|20120322  |2003777       |D2    |Structure Fire               |\n",
      "+----------+--------------+------+-----------------------------+\n",
      "only showing top 20 rows\n"
     ]
    }
   ],
   "source": [
    "df_NotMedical.show(truncate=False)"
   ]
  },
  {
   "cell_type": "code",
   "execution_count": 54,
   "id": "9c5cab0d-3726-4810-8fbb-04728e9c932e",
   "metadata": {},
   "outputs": [],
   "source": [
    "df_Medical = (fire_df\n",
    "              .select('CallNumber','IncidentNumber','UnitID','CallType').where('CallType = \"Medical Incident\"'))"
   ]
  },
  {
   "cell_type": "code",
   "execution_count": 55,
   "id": "a727ba1a-49d6-4fe8-9adf-21c550a2a029",
   "metadata": {},
   "outputs": [
    {
     "name": "stdout",
     "output_type": "stream",
     "text": [
      "+----------+--------------+------+----------------+\n",
      "|CallNumber|IncidentNumber|UnitID|        CallType|\n",
      "+----------+--------------+------+----------------+\n",
      "|  20110022|       2003241|   M17|Medical Incident|\n",
      "|  20110023|       2003242|   M41|Medical Incident|\n",
      "|  20110197|       2003343|   E05|Medical Incident|\n",
      "|  20110215|       2003348|   E06|Medical Incident|\n",
      "|  20110274|       2003381|   M07|Medical Incident|\n",
      "|  20110304|       2003399|   E03|Medical Incident|\n",
      "|  20110308|       2003403|   E14|Medical Incident|\n",
      "|  20110315|       2003409|   RC2|Medical Incident|\n",
      "|  20110330|       2003417|   E14|Medical Incident|\n",
      "|  20110330|       2003417|   M12|Medical Incident|\n",
      "|  20110350|       2003435|   M41|Medical Incident|\n",
      "|  20110428|       2003500|   M28|Medical Incident|\n",
      "|  20110467|       2003529|   T19|Medical Incident|\n",
      "|  20120016|       2003550|   E43|Medical Incident|\n",
      "|  20120044|       2003576|   M10|Medical Incident|\n",
      "|  20120045|       2003577|   E21|Medical Incident|\n",
      "|  20120052|       2003584|   M36|Medical Incident|\n",
      "|  20120061|       2003593|   M10|Medical Incident|\n",
      "|  20120127|       2003630|   M38|Medical Incident|\n",
      "|  20120142|       2003639|   E07|Medical Incident|\n",
      "+----------+--------------+------+----------------+\n",
      "only showing top 20 rows\n"
     ]
    }
   ],
   "source": [
    "df_Medical.show()"
   ]
  },
  {
   "cell_type": "code",
   "execution_count": 56,
   "id": "497d3b76-0e65-4a80-b8ad-8a28e83836ef",
   "metadata": {},
   "outputs": [
    {
     "name": "stdout",
     "output_type": "stream",
     "text": [
      "+----------+------+--------------+----------------+----------+----------+--------------------+--------------------+--------------------+----+-------+---------+-----------+----+----------------+--------+-------------+-------+-------------+---------+--------------+--------------------------+----------------------+------------------+--------------------+--------------------+-------------+---------+\n",
      "|CallNumber|UnitID|IncidentNumber|        CallType|  CallDate| WatchDate|CallFinalDisposition|       AvailableDtTm|             Address|City|Zipcode|Battalion|StationArea| Box|OriginalPriority|Priority|FinalPriority|ALSUnit|CallTypeGroup|NumAlarms|      UnitType|UnitSequenceInCallDispatch|FirePreventionDistrict|SupervisorDistrict|        Neighborhood|            Location|        RowID|    Delay|\n",
      "+----------+------+--------------+----------------+----------+----------+--------------------+--------------------+--------------------+----+-------+---------+-----------+----+----------------+--------+-------------+-------+-------------+---------+--------------+--------------------------+----------------------+------------------+--------------------+--------------------+-------------+---------+\n",
      "|  20110016|   T13|       2003235|  Structure Fire|01/11/2002|01/10/2002|               Other|01/11/2002 01:51:...|2000 Block of CAL...|  SF|  94109|      B04|         38|3362|               3|       3|            3|  false|         NULL|        1|         TRUCK|                         2|                     4|                 5|     Pacific Heights|(37.7895840679362...|020110016-T13|     2.95|\n",
      "|  20110022|   M17|       2003241|Medical Incident|01/11/2002|01/10/2002|               Other|01/11/2002 03:01:...|0 Block of SILVER...|  SF|  94124|      B10|         42|6495|               3|       3|            3|   true|         NULL|        1|         MEDIC|                         1|                    10|                10|Bayview Hunters P...|(37.7337623673897...|020110022-M17|      4.7|\n",
      "|  20110023|   M41|       2003242|Medical Incident|01/11/2002|01/10/2002|               Other|01/11/2002 02:39:...|MARKET ST/MCALLIS...|  SF|  94102|      B03|         01|1455|               3|       3|            3|   true|         NULL|        1|         MEDIC|                         2|                     3|                 6|          Tenderloin|(37.7811772186856...|020110023-M41|2.4333334|\n",
      "|  20110032|   E11|       2003250|    Vehicle Fire|01/11/2002|01/10/2002|               Other|01/11/2002 04:16:...|APPLETON AV/MISSI...|  SF|  94110|      B06|         32|5626|               3|       3|            3|  false|         NULL|        1|        ENGINE|                         1|                     6|                 9|      Bernal Heights|(37.7388432849018...|020110032-E11|      1.5|\n",
      "|  20110043|   B04|       2003259|          Alarms|01/11/2002|01/10/2002|               Other|01/11/2002 06:01:...|1400 Block of SUT...|  SF|  94109|      B04|         03|3223|               3|       3|            3|  false|         NULL|        1|         CHIEF|                         2|                     4|                 2|    Western Addition|(37.7872890372638...|020110043-B04|3.4833333|\n",
      "|  20110072|   T08|       2003279|  Structure Fire|01/11/2002|01/11/2002|               Other|01/11/2002 08:03:...|  BEALE ST/FOLSOM ST|  SF|  94105|      B03|         35|2122|               3|       3|            3|  false|         NULL|        1|         TRUCK|                         2|                     3|                 6|Financial Distric...|(37.7886866619654...|020110072-T08|     1.75|\n",
      "|  20110125|   E33|       2003301|          Alarms|01/11/2002|01/11/2002|               Other|01/11/2002 09:46:...|0 Block of FARALL...|  SF|  94112|      B09|         33|8324|               3|       3|            3|  false|         NULL|        1|        ENGINE|                         2|                     9|                11|Oceanview/Merced/...|(37.7140353531157...|020110125-E33|2.7166667|\n",
      "|  20110130|   E36|       2003304|          Alarms|01/11/2002|01/11/2002|               Other|01/11/2002 09:58:...|600 Block of POLK ST|  SF|  94102|      B02|         03|3114|               3|       3|            3|  false|         NULL|        1|        ENGINE|                         1|                     2|                 6|          Tenderloin|(37.7826266328595...|020110130-E36|1.7833333|\n",
      "|  20110197|   E05|       2003343|Medical Incident|01/11/2002|01/11/2002|               Other|01/11/2002 12:06:...|1500 Block of WEB...|  SF|  94115|      B04|         05|3513|               3|       3|            3|  false|         NULL|        1|        ENGINE|                         1|                     4|                 5|           Japantown|(37.784958590666,...|020110197-E05|1.5166667|\n",
      "|  20110215|   E06|       2003348|Medical Incident|01/11/2002|01/11/2002|               Other|01/11/2002 01:08:...|DIAMOND ST/MARKET ST|  SF|  94114|      B05|         06|5415|               3|       3|            3|  false|         NULL|        1|        ENGINE|                         1|                     5|                 8| Castro/Upper Market|(37.7618954753708...|020110215-E06|2.7666667|\n",
      "|  20110274|   M07|       2003381|Medical Incident|01/11/2002|01/11/2002|               Other|01/11/2002 03:31:...|2700 Block of MIS...|  SF|  94110|      B06|         11|5525|               1|       1|            2|   true|         NULL|        1|         MEDIC|                         1|                     6|                 9|             Mission|(37.7530339738059...|020110274-M07|2.1833334|\n",
      "|  20110275|   T15|       2003382|  Structure Fire|01/11/2002|01/11/2002|               Other|01/11/2002 02:59:...|BRUNSWICK ST/GUTT...|  SF|  94112|      B09|         43|6218|               3|       3|            3|  false|         NULL|        1|         TRUCK|                         1|                     9|                11|           Excelsior|(37.7105545807996...|020110275-T15|      2.5|\n",
      "|  20110304|   E03|       2003399|Medical Incident|01/11/2002|01/11/2002|               Other|01/11/2002 04:22:...|1000 Block of SUT...|  SF|  94109|      B04|         03|1557|               3|       3|            3|  false|         NULL|        1|        ENGINE|                         1|                     4|                 3|            Nob Hill|(37.7881263034393...|020110304-E03|2.4166667|\n",
      "|  20110308|   E14|       2003403|Medical Incident|01/11/2002|01/11/2002|               Other|01/11/2002 04:18:...|100 Block of 21ST...|  SF|  94121|      B07|         14|7173|               3|       3|            3|  false|         NULL|        1|        ENGINE|                         1|                     7|                 1|      Outer Richmond|(37.7850084431077...|020110308-E14|     4.95|\n",
      "|  20110313|   B10|       2003408|  Structure Fire|01/11/2002|01/11/2002|               Other|01/11/2002 04:09:...|700 Block of CAPP ST|  SF|  94110|      B06|         07|5472|               3|       3|            3|  false|         NULL|        1|         CHIEF|                         6|                     6|                 9|             Mission|(37.7547064357942...|020110313-B10|1.4166666|\n",
      "|  20110313|    D3|       2003408|  Structure Fire|01/11/2002|01/11/2002|               Other|01/11/2002 04:09:...|700 Block of CAPP ST|  SF|  94110|      B06|         07|5472|               3|       3|            3|  false|         NULL|        1|         CHIEF|                         4|                     6|                 9|             Mission|(37.7547064357942...| 020110313-D3|2.5333333|\n",
      "|  20110313|   E32|       2003408|  Structure Fire|01/11/2002|01/11/2002|               Other|01/11/2002 04:09:...|700 Block of CAPP ST|  SF|  94110|      B06|         07|5472|               3|       3|            3|   true|         NULL|        1|        ENGINE|                         8|                     6|                 9|             Mission|(37.7547064357942...|020110313-E32|1.8833333|\n",
      "|  20110315|   RC2|       2003409|Medical Incident|01/11/2002|01/11/2002|               Other|01/11/2002 04:34:...|200 Block of LAGU...|  SF|  94116|      B08|         20|8635|               3|       3|            3|   true|         NULL|        1|RESCUE CAPTAIN|                         2|                     8|                 7|  West of Twin Peaks|(37.7501117393668...|020110315-RC2|     5.35|\n",
      "|  20110330|   E14|       2003417|Medical Incident|01/11/2002|01/11/2002|               Other|01/11/2002 04:51:...|BALBOA ST/PARK PR...|  SF|  94118|      B07|         31|7145|               3|       3|            3|  false|         NULL|        1|        ENGINE|                         1|                     7|                 1|      Inner Richmond|(37.7768682293368...|020110330-E14|      2.0|\n",
      "|  20110330|   M12|       2003417|Medical Incident|01/11/2002|01/11/2002|               Other|01/11/2002 04:51:...|BALBOA ST/PARK PR...|  SF|  94118|      B07|         31|7145|               3|       3|            3|   true|         NULL|        1|         MEDIC|                         2|                     7|                 1|      Inner Richmond|(37.7768682293368...|020110330-M12|1.8166667|\n",
      "+----------+------+--------------+----------------+----------+----------+--------------------+--------------------+--------------------+----+-------+---------+-----------+----+----------------+--------+-------------+-------+-------------+---------+--------------+--------------------------+----------------------+------------------+--------------------+--------------------+-------------+---------+\n",
      "only showing top 20 rows\n"
     ]
    }
   ],
   "source": [
    "fire_df.show()"
   ]
  },
  {
   "cell_type": "code",
   "execution_count": 57,
   "id": "b0292494-012a-4b46-bc57-2bea4720a589",
   "metadata": {},
   "outputs": [
    {
     "data": {
      "text/plain": [
       "175296"
      ]
     },
     "execution_count": 57,
     "metadata": {},
     "output_type": "execute_result"
    }
   ],
   "source": [
    "fire_df.select('CallType').where(col('CallType')\n",
    "                                 .isNotNull()).count()"
   ]
  },
  {
   "cell_type": "code",
   "execution_count": 58,
   "id": "669213b4-77ad-4f63-80d3-911de69776c0",
   "metadata": {},
   "outputs": [
    {
     "name": "stdout",
     "output_type": "stream",
     "text": [
      "+----------------+\n",
      "|        CallType|\n",
      "+----------------+\n",
      "|  Structure Fire|\n",
      "|Medical Incident|\n",
      "|Medical Incident|\n",
      "|    Vehicle Fire|\n",
      "|          Alarms|\n",
      "|  Structure Fire|\n",
      "|          Alarms|\n",
      "|          Alarms|\n",
      "|Medical Incident|\n",
      "|Medical Incident|\n",
      "|Medical Incident|\n",
      "|  Structure Fire|\n",
      "|Medical Incident|\n",
      "|Medical Incident|\n",
      "|  Structure Fire|\n",
      "|  Structure Fire|\n",
      "|  Structure Fire|\n",
      "|Medical Incident|\n",
      "|Medical Incident|\n",
      "|Medical Incident|\n",
      "+----------------+\n",
      "only showing top 20 rows\n"
     ]
    }
   ],
   "source": [
    "fire_df.select('CallType').where(col('CallType')\n",
    "                                .isNotNull()).show()"
   ]
  },
  {
   "cell_type": "code",
   "execution_count": 59,
   "id": "4e7217ca-035e-4ad1-b1ef-a74cb20aa246",
   "metadata": {},
   "outputs": [
    {
     "data": {
      "text/plain": [
       "30"
      ]
     },
     "execution_count": 59,
     "metadata": {},
     "output_type": "execute_result"
    }
   ],
   "source": [
    "#show distinct call type\n",
    "\n",
    "fire_df.select('CallType').where(col('CallType')\n",
    "                                .isNotNull()).distinct().count()"
   ]
  },
  {
   "cell_type": "code",
   "execution_count": 60,
   "id": "35ff2a2e-68a5-4219-965a-50d28556c0af",
   "metadata": {},
   "outputs": [
    {
     "name": "stdout",
     "output_type": "stream",
     "text": [
      "+--------------------------------------------+\n",
      "|CallType                                    |\n",
      "+--------------------------------------------+\n",
      "|Elevator / Escalator Rescue                 |\n",
      "|Marine Fire                                 |\n",
      "|Aircraft Emergency                          |\n",
      "|Confined Space / Structure Collapse         |\n",
      "|Administrative                              |\n",
      "|Alarms                                      |\n",
      "|Odor (Strange / Unknown)                    |\n",
      "|Citizen Assist / Service Call               |\n",
      "|HazMat                                      |\n",
      "|Watercraft in Distress                      |\n",
      "|Explosion                                   |\n",
      "|Oil Spill                                   |\n",
      "|Vehicle Fire                                |\n",
      "|Suspicious Package                          |\n",
      "|Extrication / Entrapped (Machinery, Vehicle)|\n",
      "|Other                                       |\n",
      "|Outside Fire                                |\n",
      "|Traffic Collision                           |\n",
      "|Assist Police                               |\n",
      "|Gas Leak (Natural and LP Gases)             |\n",
      "+--------------------------------------------+\n",
      "only showing top 20 rows\n"
     ]
    }
   ],
   "source": [
    "#show distinct call type\n",
    "\n",
    "fire_df.select('CallType').where(col('CallType')\n",
    "                                .isNotNull()).distinct().show(truncate = False)"
   ]
  },
  {
   "cell_type": "code",
   "execution_count": 61,
   "id": "a3180310-339d-4de4-bd1a-079c5172f4aa",
   "metadata": {},
   "outputs": [
    {
     "name": "stdout",
     "output_type": "stream",
     "text": [
      "+----------------------------------+\n",
      "|CallType                          |\n",
      "+----------------------------------+\n",
      "|Watercraft in Distress            |\n",
      "|Water Rescue                      |\n",
      "|Vehicle Fire                      |\n",
      "|Train / Rail Incident             |\n",
      "|Traffic Collision                 |\n",
      "|Suspicious Package                |\n",
      "|Structure Fire                    |\n",
      "|Smoke Investigation (Outside)     |\n",
      "|Outside Fire                      |\n",
      "|Other                             |\n",
      "|Oil Spill                         |\n",
      "|Odor (Strange / Unknown)          |\n",
      "|Mutual Aid / Assist Outside Agency|\n",
      "|Medical Incident                  |\n",
      "|Marine Fire                       |\n",
      "|Industrial Accidents              |\n",
      "|High Angle Rescue                 |\n",
      "|HazMat                            |\n",
      "|Gas Leak (Natural and LP Gases)   |\n",
      "|Fuel Spill                        |\n",
      "+----------------------------------+\n",
      "only showing top 20 rows\n"
     ]
    }
   ],
   "source": [
    "#show distinct call type\n",
    "\n",
    "fire_df.select('CallType').where(col('CallType')\n",
    "                            .isNotNull()).distinct().sort('CallType',ascending=False).show(truncate = False)"
   ]
  },
  {
   "cell_type": "code",
   "execution_count": 62,
   "id": "105bd9b0-178c-4045-8939-546d8c4365a8",
   "metadata": {},
   "outputs": [
    {
     "name": "stderr",
     "output_type": "stream",
     "text": [
      "[Stage 58:===========================================>              (3 + 1) / 4]"
     ]
    },
    {
     "name": "stdout",
     "output_type": "stream",
     "text": [
      "+----------------------------------+\n",
      "|CallType                          |\n",
      "+----------------------------------+\n",
      "|Watercraft in Distress            |\n",
      "|Water Rescue                      |\n",
      "|Vehicle Fire                      |\n",
      "|Train / Rail Incident             |\n",
      "|Traffic Collision                 |\n",
      "|Suspicious Package                |\n",
      "|Structure Fire                    |\n",
      "|Smoke Investigation (Outside)     |\n",
      "|Outside Fire                      |\n",
      "|Other                             |\n",
      "|Oil Spill                         |\n",
      "|Odor (Strange / Unknown)          |\n",
      "|Mutual Aid / Assist Outside Agency|\n",
      "|Medical Incident                  |\n",
      "|Marine Fire                       |\n",
      "|Industrial Accidents              |\n",
      "|High Angle Rescue                 |\n",
      "|HazMat                            |\n",
      "|Gas Leak (Natural and LP Gases)   |\n",
      "|Fuel Spill                        |\n",
      "+----------------------------------+\n",
      "only showing top 20 rows\n"
     ]
    },
    {
     "name": "stderr",
     "output_type": "stream",
     "text": [
      "                                                                                "
     ]
    }
   ],
   "source": [
    "#show distinct call type\n",
    "\n",
    "fire_df.select('CallType').where(col('CallType')\n",
    "                            .isNotNull()).distinct().sort('CallType',ascending=False).show(truncate = False)"
   ]
  },
  {
   "cell_type": "code",
   "execution_count": 63,
   "id": "1eb8fb7e-045e-40dc-a024-47ec664df7fc",
   "metadata": {},
   "outputs": [],
   "source": [
    "#Rename Column\n",
    "new_fire_df = fire_df.withColumnRenamed('Delay', 'ResponseDelayMins')"
   ]
  },
  {
   "cell_type": "code",
   "execution_count": 64,
   "id": "59b53de3-5ece-431b-9c0b-26c70d69c2e2",
   "metadata": {},
   "outputs": [
    {
     "name": "stdout",
     "output_type": "stream",
     "text": [
      "+----------+------+--------------+----------------+----------+----------+--------------------+--------------------+--------------------+----+-------+---------+-----------+----+----------------+--------+-------------+-------+-------------+---------+--------------+--------------------------+----------------------+------------------+--------------------+--------------------+-------------+-----------------+\n",
      "|CallNumber|UnitID|IncidentNumber|        CallType|  CallDate| WatchDate|CallFinalDisposition|       AvailableDtTm|             Address|City|Zipcode|Battalion|StationArea| Box|OriginalPriority|Priority|FinalPriority|ALSUnit|CallTypeGroup|NumAlarms|      UnitType|UnitSequenceInCallDispatch|FirePreventionDistrict|SupervisorDistrict|        Neighborhood|            Location|        RowID|ResponseDelayMins|\n",
      "+----------+------+--------------+----------------+----------+----------+--------------------+--------------------+--------------------+----+-------+---------+-----------+----+----------------+--------+-------------+-------+-------------+---------+--------------+--------------------------+----------------------+------------------+--------------------+--------------------+-------------+-----------------+\n",
      "|  20110016|   T13|       2003235|  Structure Fire|01/11/2002|01/10/2002|               Other|01/11/2002 01:51:...|2000 Block of CAL...|  SF|  94109|      B04|         38|3362|               3|       3|            3|  false|         NULL|        1|         TRUCK|                         2|                     4|                 5|     Pacific Heights|(37.7895840679362...|020110016-T13|             2.95|\n",
      "|  20110022|   M17|       2003241|Medical Incident|01/11/2002|01/10/2002|               Other|01/11/2002 03:01:...|0 Block of SILVER...|  SF|  94124|      B10|         42|6495|               3|       3|            3|   true|         NULL|        1|         MEDIC|                         1|                    10|                10|Bayview Hunters P...|(37.7337623673897...|020110022-M17|              4.7|\n",
      "|  20110023|   M41|       2003242|Medical Incident|01/11/2002|01/10/2002|               Other|01/11/2002 02:39:...|MARKET ST/MCALLIS...|  SF|  94102|      B03|         01|1455|               3|       3|            3|   true|         NULL|        1|         MEDIC|                         2|                     3|                 6|          Tenderloin|(37.7811772186856...|020110023-M41|        2.4333334|\n",
      "|  20110032|   E11|       2003250|    Vehicle Fire|01/11/2002|01/10/2002|               Other|01/11/2002 04:16:...|APPLETON AV/MISSI...|  SF|  94110|      B06|         32|5626|               3|       3|            3|  false|         NULL|        1|        ENGINE|                         1|                     6|                 9|      Bernal Heights|(37.7388432849018...|020110032-E11|              1.5|\n",
      "|  20110043|   B04|       2003259|          Alarms|01/11/2002|01/10/2002|               Other|01/11/2002 06:01:...|1400 Block of SUT...|  SF|  94109|      B04|         03|3223|               3|       3|            3|  false|         NULL|        1|         CHIEF|                         2|                     4|                 2|    Western Addition|(37.7872890372638...|020110043-B04|        3.4833333|\n",
      "|  20110072|   T08|       2003279|  Structure Fire|01/11/2002|01/11/2002|               Other|01/11/2002 08:03:...|  BEALE ST/FOLSOM ST|  SF|  94105|      B03|         35|2122|               3|       3|            3|  false|         NULL|        1|         TRUCK|                         2|                     3|                 6|Financial Distric...|(37.7886866619654...|020110072-T08|             1.75|\n",
      "|  20110125|   E33|       2003301|          Alarms|01/11/2002|01/11/2002|               Other|01/11/2002 09:46:...|0 Block of FARALL...|  SF|  94112|      B09|         33|8324|               3|       3|            3|  false|         NULL|        1|        ENGINE|                         2|                     9|                11|Oceanview/Merced/...|(37.7140353531157...|020110125-E33|        2.7166667|\n",
      "|  20110130|   E36|       2003304|          Alarms|01/11/2002|01/11/2002|               Other|01/11/2002 09:58:...|600 Block of POLK ST|  SF|  94102|      B02|         03|3114|               3|       3|            3|  false|         NULL|        1|        ENGINE|                         1|                     2|                 6|          Tenderloin|(37.7826266328595...|020110130-E36|        1.7833333|\n",
      "|  20110197|   E05|       2003343|Medical Incident|01/11/2002|01/11/2002|               Other|01/11/2002 12:06:...|1500 Block of WEB...|  SF|  94115|      B04|         05|3513|               3|       3|            3|  false|         NULL|        1|        ENGINE|                         1|                     4|                 5|           Japantown|(37.784958590666,...|020110197-E05|        1.5166667|\n",
      "|  20110215|   E06|       2003348|Medical Incident|01/11/2002|01/11/2002|               Other|01/11/2002 01:08:...|DIAMOND ST/MARKET ST|  SF|  94114|      B05|         06|5415|               3|       3|            3|  false|         NULL|        1|        ENGINE|                         1|                     5|                 8| Castro/Upper Market|(37.7618954753708...|020110215-E06|        2.7666667|\n",
      "|  20110274|   M07|       2003381|Medical Incident|01/11/2002|01/11/2002|               Other|01/11/2002 03:31:...|2700 Block of MIS...|  SF|  94110|      B06|         11|5525|               1|       1|            2|   true|         NULL|        1|         MEDIC|                         1|                     6|                 9|             Mission|(37.7530339738059...|020110274-M07|        2.1833334|\n",
      "|  20110275|   T15|       2003382|  Structure Fire|01/11/2002|01/11/2002|               Other|01/11/2002 02:59:...|BRUNSWICK ST/GUTT...|  SF|  94112|      B09|         43|6218|               3|       3|            3|  false|         NULL|        1|         TRUCK|                         1|                     9|                11|           Excelsior|(37.7105545807996...|020110275-T15|              2.5|\n",
      "|  20110304|   E03|       2003399|Medical Incident|01/11/2002|01/11/2002|               Other|01/11/2002 04:22:...|1000 Block of SUT...|  SF|  94109|      B04|         03|1557|               3|       3|            3|  false|         NULL|        1|        ENGINE|                         1|                     4|                 3|            Nob Hill|(37.7881263034393...|020110304-E03|        2.4166667|\n",
      "|  20110308|   E14|       2003403|Medical Incident|01/11/2002|01/11/2002|               Other|01/11/2002 04:18:...|100 Block of 21ST...|  SF|  94121|      B07|         14|7173|               3|       3|            3|  false|         NULL|        1|        ENGINE|                         1|                     7|                 1|      Outer Richmond|(37.7850084431077...|020110308-E14|             4.95|\n",
      "|  20110313|   B10|       2003408|  Structure Fire|01/11/2002|01/11/2002|               Other|01/11/2002 04:09:...|700 Block of CAPP ST|  SF|  94110|      B06|         07|5472|               3|       3|            3|  false|         NULL|        1|         CHIEF|                         6|                     6|                 9|             Mission|(37.7547064357942...|020110313-B10|        1.4166666|\n",
      "|  20110313|    D3|       2003408|  Structure Fire|01/11/2002|01/11/2002|               Other|01/11/2002 04:09:...|700 Block of CAPP ST|  SF|  94110|      B06|         07|5472|               3|       3|            3|  false|         NULL|        1|         CHIEF|                         4|                     6|                 9|             Mission|(37.7547064357942...| 020110313-D3|        2.5333333|\n",
      "|  20110313|   E32|       2003408|  Structure Fire|01/11/2002|01/11/2002|               Other|01/11/2002 04:09:...|700 Block of CAPP ST|  SF|  94110|      B06|         07|5472|               3|       3|            3|   true|         NULL|        1|        ENGINE|                         8|                     6|                 9|             Mission|(37.7547064357942...|020110313-E32|        1.8833333|\n",
      "|  20110315|   RC2|       2003409|Medical Incident|01/11/2002|01/11/2002|               Other|01/11/2002 04:34:...|200 Block of LAGU...|  SF|  94116|      B08|         20|8635|               3|       3|            3|   true|         NULL|        1|RESCUE CAPTAIN|                         2|                     8|                 7|  West of Twin Peaks|(37.7501117393668...|020110315-RC2|             5.35|\n",
      "|  20110330|   E14|       2003417|Medical Incident|01/11/2002|01/11/2002|               Other|01/11/2002 04:51:...|BALBOA ST/PARK PR...|  SF|  94118|      B07|         31|7145|               3|       3|            3|  false|         NULL|        1|        ENGINE|                         1|                     7|                 1|      Inner Richmond|(37.7768682293368...|020110330-E14|              2.0|\n",
      "|  20110330|   M12|       2003417|Medical Incident|01/11/2002|01/11/2002|               Other|01/11/2002 04:51:...|BALBOA ST/PARK PR...|  SF|  94118|      B07|         31|7145|               3|       3|            3|   true|         NULL|        1|         MEDIC|                         2|                     7|                 1|      Inner Richmond|(37.7768682293368...|020110330-M12|        1.8166667|\n",
      "+----------+------+--------------+----------------+----------+----------+--------------------+--------------------+--------------------+----+-------+---------+-----------+----+----------------+--------+-------------+-------+-------------+---------+--------------+--------------------------+----------------------+------------------+--------------------+--------------------+-------------+-----------------+\n",
      "only showing top 20 rows\n"
     ]
    }
   ],
   "source": [
    "new_fire_df.show()"
   ]
  },
  {
   "cell_type": "code",
   "execution_count": 65,
   "id": "516f0825-09c9-45ef-8951-a80141220c34",
   "metadata": {},
   "outputs": [
    {
     "name": "stdout",
     "output_type": "stream",
     "text": [
      "root\n",
      " |-- CallNumber: integer (nullable = true)\n",
      " |-- UnitID: string (nullable = true)\n",
      " |-- IncidentNumber: integer (nullable = true)\n",
      " |-- CallType: string (nullable = true)\n",
      " |-- CallDate: string (nullable = true)\n",
      " |-- WatchDate: string (nullable = true)\n",
      " |-- CallFinalDisposition: string (nullable = true)\n",
      " |-- AvailableDtTm: string (nullable = true)\n",
      " |-- Address: string (nullable = true)\n",
      " |-- City: string (nullable = true)\n",
      " |-- Zipcode: integer (nullable = true)\n",
      " |-- Battalion: string (nullable = true)\n",
      " |-- StationArea: string (nullable = true)\n",
      " |-- Box: integer (nullable = true)\n",
      " |-- OriginalPriority: string (nullable = true)\n",
      " |-- Priority: string (nullable = true)\n",
      " |-- FinalPriority: integer (nullable = true)\n",
      " |-- ALSUnit: boolean (nullable = true)\n",
      " |-- CallTypeGroup: string (nullable = true)\n",
      " |-- NumAlarms: integer (nullable = true)\n",
      " |-- UnitType: string (nullable = true)\n",
      " |-- UnitSequenceInCallDispatch: integer (nullable = true)\n",
      " |-- FirePreventionDistrict: integer (nullable = true)\n",
      " |-- SupervisorDistrict: integer (nullable = true)\n",
      " |-- Neighborhood: string (nullable = true)\n",
      " |-- Location: string (nullable = true)\n",
      " |-- RowID: string (nullable = true)\n",
      " |-- ResponseDelayMins: double (nullable = true)\n",
      "\n"
     ]
    }
   ],
   "source": [
    "new_fire_df.printSchema()"
   ]
  },
  {
   "cell_type": "code",
   "execution_count": 66,
   "id": "eb27b52e-2e9f-4eee-964c-663a14194b5d",
   "metadata": {},
   "outputs": [
    {
     "name": "stdout",
     "output_type": "stream",
     "text": [
      "+-----------------+\n",
      "|ResponseDelayMins|\n",
      "+-----------------+\n",
      "|         5.016667|\n",
      "|         5.016667|\n",
      "|         5.016667|\n",
      "|         5.016667|\n",
      "|         5.016667|\n",
      "|         5.016667|\n",
      "|         5.016667|\n",
      "|         5.016667|\n",
      "|         5.016667|\n",
      "|         5.016667|\n",
      "|         5.016667|\n",
      "|         5.016667|\n",
      "|         5.016667|\n",
      "|         5.016667|\n",
      "|         5.016667|\n",
      "|         5.016667|\n",
      "|         5.016667|\n",
      "|         5.016667|\n",
      "|         5.016667|\n",
      "|         5.016667|\n",
      "+-----------------+\n",
      "only showing top 20 rows\n"
     ]
    }
   ],
   "source": [
    "new_fire_df.select('ResponseDelayMins').where(col('ResponseDelayMins')> 5).sort('ResponseDelayMins').show()"
   ]
  },
  {
   "cell_type": "code",
   "execution_count": 67,
   "id": "3128a912-145b-45db-9b0e-c2f38c0e7e49",
   "metadata": {},
   "outputs": [
    {
     "name": "stdout",
     "output_type": "stream",
     "text": [
      "root\n",
      " |-- CallNumber: integer (nullable = true)\n",
      " |-- UnitID: string (nullable = true)\n",
      " |-- IncidentNumber: integer (nullable = true)\n",
      " |-- CallType: string (nullable = true)\n",
      " |-- CallDate: string (nullable = true)\n",
      " |-- WatchDate: string (nullable = true)\n",
      " |-- CallFinalDisposition: string (nullable = true)\n",
      " |-- AvailableDtTm: string (nullable = true)\n",
      " |-- Address: string (nullable = true)\n",
      " |-- City: string (nullable = true)\n",
      " |-- Zipcode: integer (nullable = true)\n",
      " |-- Battalion: string (nullable = true)\n",
      " |-- StationArea: string (nullable = true)\n",
      " |-- Box: integer (nullable = true)\n",
      " |-- OriginalPriority: string (nullable = true)\n",
      " |-- Priority: string (nullable = true)\n",
      " |-- FinalPriority: integer (nullable = true)\n",
      " |-- ALSUnit: boolean (nullable = true)\n",
      " |-- CallTypeGroup: string (nullable = true)\n",
      " |-- NumAlarms: integer (nullable = true)\n",
      " |-- UnitType: string (nullable = true)\n",
      " |-- UnitSequenceInCallDispatch: integer (nullable = true)\n",
      " |-- FirePreventionDistrict: integer (nullable = true)\n",
      " |-- SupervisorDistrict: integer (nullable = true)\n",
      " |-- Neighborhood: string (nullable = true)\n",
      " |-- Location: string (nullable = true)\n",
      " |-- RowID: string (nullable = true)\n",
      " |-- ResponseDelayMins: double (nullable = true)\n",
      "\n"
     ]
    }
   ],
   "source": [
    "new_fire_df.printSchema()"
   ]
  },
  {
   "cell_type": "code",
   "execution_count": 68,
   "id": "be3c73c4-90e4-4d04-a2c1-7cca9947023a",
   "metadata": {},
   "outputs": [
    {
     "name": "stdout",
     "output_type": "stream",
     "text": [
      "+----------+\n",
      "|  CallDate|\n",
      "+----------+\n",
      "|01/11/2002|\n",
      "|01/11/2002|\n",
      "|01/11/2002|\n",
      "|01/11/2002|\n",
      "|01/11/2002|\n",
      "|01/11/2002|\n",
      "|01/11/2002|\n",
      "|01/11/2002|\n",
      "|01/11/2002|\n",
      "|01/11/2002|\n",
      "|01/11/2002|\n",
      "|01/11/2002|\n",
      "|01/11/2002|\n",
      "|01/11/2002|\n",
      "|01/11/2002|\n",
      "|01/11/2002|\n",
      "|01/11/2002|\n",
      "|01/11/2002|\n",
      "|01/11/2002|\n",
      "|01/11/2002|\n",
      "+----------+\n",
      "only showing top 20 rows\n"
     ]
    }
   ],
   "source": [
    "new_fire_df.select('CallDate').show()"
   ]
  },
  {
   "cell_type": "code",
   "execution_count": 70,
   "id": "d80424f1-6958-4595-bcda-35d0278f0945",
   "metadata": {},
   "outputs": [],
   "source": [
    "df_ts = new_fire_df.withColumn('CallDate_ts',to_timestamp(col('CallDate'),format('MM/dd/yyy'))).drop('CallDate')"
   ]
  },
  {
   "cell_type": "code",
   "execution_count": 71,
   "id": "8d9c1371-bd5f-4a55-8ba3-af35f34b0ee9",
   "metadata": {},
   "outputs": [
    {
     "name": "stdout",
     "output_type": "stream",
     "text": [
      "+----------+------+--------------+----------------+----------+--------------------+--------------------+--------------------+----+-------+---------+-----------+----+----------------+--------+-------------+-------+-------------+---------+--------------+--------------------------+----------------------+------------------+--------------------+--------------------+-------------+-----------------+-------------------+\n",
      "|CallNumber|UnitID|IncidentNumber|        CallType| WatchDate|CallFinalDisposition|       AvailableDtTm|             Address|City|Zipcode|Battalion|StationArea| Box|OriginalPriority|Priority|FinalPriority|ALSUnit|CallTypeGroup|NumAlarms|      UnitType|UnitSequenceInCallDispatch|FirePreventionDistrict|SupervisorDistrict|        Neighborhood|            Location|        RowID|ResponseDelayMins|        CallDate_ts|\n",
      "+----------+------+--------------+----------------+----------+--------------------+--------------------+--------------------+----+-------+---------+-----------+----+----------------+--------+-------------+-------+-------------+---------+--------------+--------------------------+----------------------+------------------+--------------------+--------------------+-------------+-----------------+-------------------+\n",
      "|  20110016|   T13|       2003235|  Structure Fire|01/10/2002|               Other|01/11/2002 01:51:...|2000 Block of CAL...|  SF|  94109|      B04|         38|3362|               3|       3|            3|  false|         NULL|        1|         TRUCK|                         2|                     4|                 5|     Pacific Heights|(37.7895840679362...|020110016-T13|             2.95|2002-01-11 00:00:00|\n",
      "|  20110022|   M17|       2003241|Medical Incident|01/10/2002|               Other|01/11/2002 03:01:...|0 Block of SILVER...|  SF|  94124|      B10|         42|6495|               3|       3|            3|   true|         NULL|        1|         MEDIC|                         1|                    10|                10|Bayview Hunters P...|(37.7337623673897...|020110022-M17|              4.7|2002-01-11 00:00:00|\n",
      "|  20110023|   M41|       2003242|Medical Incident|01/10/2002|               Other|01/11/2002 02:39:...|MARKET ST/MCALLIS...|  SF|  94102|      B03|         01|1455|               3|       3|            3|   true|         NULL|        1|         MEDIC|                         2|                     3|                 6|          Tenderloin|(37.7811772186856...|020110023-M41|        2.4333334|2002-01-11 00:00:00|\n",
      "|  20110032|   E11|       2003250|    Vehicle Fire|01/10/2002|               Other|01/11/2002 04:16:...|APPLETON AV/MISSI...|  SF|  94110|      B06|         32|5626|               3|       3|            3|  false|         NULL|        1|        ENGINE|                         1|                     6|                 9|      Bernal Heights|(37.7388432849018...|020110032-E11|              1.5|2002-01-11 00:00:00|\n",
      "|  20110043|   B04|       2003259|          Alarms|01/10/2002|               Other|01/11/2002 06:01:...|1400 Block of SUT...|  SF|  94109|      B04|         03|3223|               3|       3|            3|  false|         NULL|        1|         CHIEF|                         2|                     4|                 2|    Western Addition|(37.7872890372638...|020110043-B04|        3.4833333|2002-01-11 00:00:00|\n",
      "|  20110072|   T08|       2003279|  Structure Fire|01/11/2002|               Other|01/11/2002 08:03:...|  BEALE ST/FOLSOM ST|  SF|  94105|      B03|         35|2122|               3|       3|            3|  false|         NULL|        1|         TRUCK|                         2|                     3|                 6|Financial Distric...|(37.7886866619654...|020110072-T08|             1.75|2002-01-11 00:00:00|\n",
      "|  20110125|   E33|       2003301|          Alarms|01/11/2002|               Other|01/11/2002 09:46:...|0 Block of FARALL...|  SF|  94112|      B09|         33|8324|               3|       3|            3|  false|         NULL|        1|        ENGINE|                         2|                     9|                11|Oceanview/Merced/...|(37.7140353531157...|020110125-E33|        2.7166667|2002-01-11 00:00:00|\n",
      "|  20110130|   E36|       2003304|          Alarms|01/11/2002|               Other|01/11/2002 09:58:...|600 Block of POLK ST|  SF|  94102|      B02|         03|3114|               3|       3|            3|  false|         NULL|        1|        ENGINE|                         1|                     2|                 6|          Tenderloin|(37.7826266328595...|020110130-E36|        1.7833333|2002-01-11 00:00:00|\n",
      "|  20110197|   E05|       2003343|Medical Incident|01/11/2002|               Other|01/11/2002 12:06:...|1500 Block of WEB...|  SF|  94115|      B04|         05|3513|               3|       3|            3|  false|         NULL|        1|        ENGINE|                         1|                     4|                 5|           Japantown|(37.784958590666,...|020110197-E05|        1.5166667|2002-01-11 00:00:00|\n",
      "|  20110215|   E06|       2003348|Medical Incident|01/11/2002|               Other|01/11/2002 01:08:...|DIAMOND ST/MARKET ST|  SF|  94114|      B05|         06|5415|               3|       3|            3|  false|         NULL|        1|        ENGINE|                         1|                     5|                 8| Castro/Upper Market|(37.7618954753708...|020110215-E06|        2.7666667|2002-01-11 00:00:00|\n",
      "|  20110274|   M07|       2003381|Medical Incident|01/11/2002|               Other|01/11/2002 03:31:...|2700 Block of MIS...|  SF|  94110|      B06|         11|5525|               1|       1|            2|   true|         NULL|        1|         MEDIC|                         1|                     6|                 9|             Mission|(37.7530339738059...|020110274-M07|        2.1833334|2002-01-11 00:00:00|\n",
      "|  20110275|   T15|       2003382|  Structure Fire|01/11/2002|               Other|01/11/2002 02:59:...|BRUNSWICK ST/GUTT...|  SF|  94112|      B09|         43|6218|               3|       3|            3|  false|         NULL|        1|         TRUCK|                         1|                     9|                11|           Excelsior|(37.7105545807996...|020110275-T15|              2.5|2002-01-11 00:00:00|\n",
      "|  20110304|   E03|       2003399|Medical Incident|01/11/2002|               Other|01/11/2002 04:22:...|1000 Block of SUT...|  SF|  94109|      B04|         03|1557|               3|       3|            3|  false|         NULL|        1|        ENGINE|                         1|                     4|                 3|            Nob Hill|(37.7881263034393...|020110304-E03|        2.4166667|2002-01-11 00:00:00|\n",
      "|  20110308|   E14|       2003403|Medical Incident|01/11/2002|               Other|01/11/2002 04:18:...|100 Block of 21ST...|  SF|  94121|      B07|         14|7173|               3|       3|            3|  false|         NULL|        1|        ENGINE|                         1|                     7|                 1|      Outer Richmond|(37.7850084431077...|020110308-E14|             4.95|2002-01-11 00:00:00|\n",
      "|  20110313|   B10|       2003408|  Structure Fire|01/11/2002|               Other|01/11/2002 04:09:...|700 Block of CAPP ST|  SF|  94110|      B06|         07|5472|               3|       3|            3|  false|         NULL|        1|         CHIEF|                         6|                     6|                 9|             Mission|(37.7547064357942...|020110313-B10|        1.4166666|2002-01-11 00:00:00|\n",
      "|  20110313|    D3|       2003408|  Structure Fire|01/11/2002|               Other|01/11/2002 04:09:...|700 Block of CAPP ST|  SF|  94110|      B06|         07|5472|               3|       3|            3|  false|         NULL|        1|         CHIEF|                         4|                     6|                 9|             Mission|(37.7547064357942...| 020110313-D3|        2.5333333|2002-01-11 00:00:00|\n",
      "|  20110313|   E32|       2003408|  Structure Fire|01/11/2002|               Other|01/11/2002 04:09:...|700 Block of CAPP ST|  SF|  94110|      B06|         07|5472|               3|       3|            3|   true|         NULL|        1|        ENGINE|                         8|                     6|                 9|             Mission|(37.7547064357942...|020110313-E32|        1.8833333|2002-01-11 00:00:00|\n",
      "|  20110315|   RC2|       2003409|Medical Incident|01/11/2002|               Other|01/11/2002 04:34:...|200 Block of LAGU...|  SF|  94116|      B08|         20|8635|               3|       3|            3|   true|         NULL|        1|RESCUE CAPTAIN|                         2|                     8|                 7|  West of Twin Peaks|(37.7501117393668...|020110315-RC2|             5.35|2002-01-11 00:00:00|\n",
      "|  20110330|   E14|       2003417|Medical Incident|01/11/2002|               Other|01/11/2002 04:51:...|BALBOA ST/PARK PR...|  SF|  94118|      B07|         31|7145|               3|       3|            3|  false|         NULL|        1|        ENGINE|                         1|                     7|                 1|      Inner Richmond|(37.7768682293368...|020110330-E14|              2.0|2002-01-11 00:00:00|\n",
      "|  20110330|   M12|       2003417|Medical Incident|01/11/2002|               Other|01/11/2002 04:51:...|BALBOA ST/PARK PR...|  SF|  94118|      B07|         31|7145|               3|       3|            3|   true|         NULL|        1|         MEDIC|                         2|                     7|                 1|      Inner Richmond|(37.7768682293368...|020110330-M12|        1.8166667|2002-01-11 00:00:00|\n",
      "+----------+------+--------------+----------------+----------+--------------------+--------------------+--------------------+----+-------+---------+-----------+----+----------------+--------+-------------+-------+-------------+---------+--------------+--------------------------+----------------------+------------------+--------------------+--------------------+-------------+-----------------+-------------------+\n",
      "only showing top 20 rows\n"
     ]
    }
   ],
   "source": [
    "df_ts.show()"
   ]
  },
  {
   "cell_type": "code",
   "execution_count": 72,
   "id": "0d996303-bede-474c-a7e1-1cd4f8bc1e88",
   "metadata": {},
   "outputs": [
    {
     "name": "stdout",
     "output_type": "stream",
     "text": [
      "root\n",
      " |-- CallNumber: integer (nullable = true)\n",
      " |-- UnitID: string (nullable = true)\n",
      " |-- IncidentNumber: integer (nullable = true)\n",
      " |-- CallType: string (nullable = true)\n",
      " |-- WatchDate: string (nullable = true)\n",
      " |-- CallFinalDisposition: string (nullable = true)\n",
      " |-- AvailableDtTm: string (nullable = true)\n",
      " |-- Address: string (nullable = true)\n",
      " |-- City: string (nullable = true)\n",
      " |-- Zipcode: integer (nullable = true)\n",
      " |-- Battalion: string (nullable = true)\n",
      " |-- StationArea: string (nullable = true)\n",
      " |-- Box: integer (nullable = true)\n",
      " |-- OriginalPriority: string (nullable = true)\n",
      " |-- Priority: string (nullable = true)\n",
      " |-- FinalPriority: integer (nullable = true)\n",
      " |-- ALSUnit: boolean (nullable = true)\n",
      " |-- CallTypeGroup: string (nullable = true)\n",
      " |-- NumAlarms: integer (nullable = true)\n",
      " |-- UnitType: string (nullable = true)\n",
      " |-- UnitSequenceInCallDispatch: integer (nullable = true)\n",
      " |-- FirePreventionDistrict: integer (nullable = true)\n",
      " |-- SupervisorDistrict: integer (nullable = true)\n",
      " |-- Neighborhood: string (nullable = true)\n",
      " |-- Location: string (nullable = true)\n",
      " |-- RowID: string (nullable = true)\n",
      " |-- ResponseDelayMins: double (nullable = true)\n",
      " |-- CallDate_ts: timestamp (nullable = true)\n",
      "\n"
     ]
    }
   ],
   "source": [
    "df_ts.printSchema()"
   ]
  },
  {
   "cell_type": "code",
   "execution_count": 73,
   "id": "435ffad3-b318-4f3a-9b91-8d7886342d27",
   "metadata": {},
   "outputs": [
    {
     "name": "stderr",
     "output_type": "stream",
     "text": [
      "                                                                                "
     ]
    },
    {
     "name": "stdout",
     "output_type": "stream",
     "text": [
      "+--------+\n",
      "|CallYear|\n",
      "+--------+\n",
      "|    2000|\n",
      "|    2000|\n",
      "|    2000|\n",
      "|    2000|\n",
      "|    2000|\n",
      "|    2000|\n",
      "|    2000|\n",
      "|    2000|\n",
      "|    2000|\n",
      "|    2000|\n",
      "|    2000|\n",
      "|    2000|\n",
      "|    2000|\n",
      "|    2000|\n",
      "|    2000|\n",
      "|    2000|\n",
      "|    2000|\n",
      "|    2000|\n",
      "|    2000|\n",
      "|    2000|\n",
      "+--------+\n",
      "only showing top 20 rows\n"
     ]
    },
    {
     "name": "stderr",
     "output_type": "stream",
     "text": [
      "                                                                                "
     ]
    }
   ],
   "source": [
    "df_ts.select(fn.year('CallDate_ts').alias('CallYear')).where(col('CallYear')<2002).show()"
   ]
  },
  {
   "cell_type": "code",
   "execution_count": 74,
   "id": "33216cfa-0d38-4d8c-a919-7063a376d144",
   "metadata": {},
   "outputs": [
    {
     "name": "stderr",
     "output_type": "stream",
     "text": [
      "[Stage 67:===========================================>              (3 + 1) / 4]"
     ]
    },
    {
     "name": "stdout",
     "output_type": "stream",
     "text": [
      "+--------+\n",
      "|CallYear|\n",
      "+--------+\n",
      "|    2001|\n",
      "|    2000|\n",
      "+--------+\n",
      "\n"
     ]
    },
    {
     "name": "stderr",
     "output_type": "stream",
     "text": [
      "                                                                                "
     ]
    }
   ],
   "source": [
    "df_ts.select(fn.year('CallDate_ts').alias('CallYear')).where(col('CallYear')<2002).distinct().show()"
   ]
  },
  {
   "cell_type": "code",
   "execution_count": 76,
   "id": "ef216a77-e9ad-4826-b939-9891106bd8c0",
   "metadata": {},
   "outputs": [
    {
     "name": "stderr",
     "output_type": "stream",
     "text": [
      "[Stage 70:=============================>                            (2 + 2) / 4]"
     ]
    },
    {
     "name": "stdout",
     "output_type": "stream",
     "text": [
      "+--------+\n",
      "|CallYear|\n",
      "+--------+\n",
      "|    2000|\n",
      "|    2001|\n",
      "|    2002|\n",
      "|    2003|\n",
      "|    2004|\n",
      "|    2005|\n",
      "|    2006|\n",
      "|    2007|\n",
      "|    2008|\n",
      "|    2009|\n",
      "|    2010|\n",
      "|    2011|\n",
      "|    2012|\n",
      "|    2013|\n",
      "|    2014|\n",
      "|    2015|\n",
      "|    2016|\n",
      "|    2017|\n",
      "|    2018|\n",
      "+--------+\n",
      "\n"
     ]
    },
    {
     "name": "stderr",
     "output_type": "stream",
     "text": [
      "                                                                                "
     ]
    }
   ],
   "source": [
    "df_ts.select(fn.year('CallDate_ts').alias('CallYear')).distinct().orderBy('CallYear').show()"
   ]
  },
  {
   "cell_type": "code",
   "execution_count": 77,
   "id": "63b258d2-060c-4301-b127-d4aa8c6f1a82",
   "metadata": {},
   "outputs": [],
   "source": [
    "import pyspark.sql.functions as fn"
   ]
  },
  {
   "cell_type": "code",
   "execution_count": 78,
   "id": "ad1d105c-9e05-4d76-9cfe-84e652cca695",
   "metadata": {},
   "outputs": [
    {
     "name": "stderr",
     "output_type": "stream",
     "text": [
      "[Stage 73:=============================>                            (2 + 2) / 4]"
     ]
    },
    {
     "name": "stdout",
     "output_type": "stream",
     "text": [
      "+--------------------------------------------+------+\n",
      "|CallType                                    |Count |\n",
      "+--------------------------------------------+------+\n",
      "|Administrative                              |3     |\n",
      "|Mutual Aid / Assist Outside Agency          |9     |\n",
      "|Confined Space / Structure Collapse         |13    |\n",
      "|Marine Fire                                 |14    |\n",
      "|Suspicious Package                          |15    |\n",
      "|Oil Spill                                   |21    |\n",
      "|Watercraft in Distress                      |28    |\n",
      "|Extrication / Entrapped (Machinery, Vehicle)|28    |\n",
      "|High Angle Rescue                           |32    |\n",
      "|Assist Police                               |35    |\n",
      "|Aircraft Emergency                          |36    |\n",
      "|Train / Rail Incident                       |57    |\n",
      "|Explosion                                   |89    |\n",
      "|Industrial Accidents                        |94    |\n",
      "|HazMat                                      |124   |\n",
      "|Fuel Spill                                  |193   |\n",
      "|Smoke Investigation (Outside)               |391   |\n",
      "|Elevator / Escalator Rescue                 |453   |\n",
      "|Electrical Hazard                           |482   |\n",
      "|Odor (Strange / Unknown)                    |490   |\n",
      "|Water Rescue                                |755   |\n",
      "|Gas Leak (Natural and LP Gases)             |764   |\n",
      "|Vehicle Fire                                |854   |\n",
      "|Outside Fire                                |2094  |\n",
      "|Other                                       |2166  |\n",
      "|Citizen Assist / Service Call               |2524  |\n",
      "|Traffic Collision                           |7013  |\n",
      "|Alarms                                      |19406 |\n",
      "|Structure Fire                              |23319 |\n",
      "|Medical Incident                            |113794|\n",
      "+--------------------------------------------+------+\n",
      "\n"
     ]
    },
    {
     "name": "stderr",
     "output_type": "stream",
     "text": [
      "                                                                                "
     ]
    }
   ],
   "source": [
    "(df_ts.select('CallType').\n",
    " where(col('CallType').isNotNull()).\n",
    " groupBy('CallType').\n",
    " agg(fn.count(col('CallType')).alias('Count')).\n",
    " orderBy('Count').\n",
    " show(30 ,truncate =False))"
   ]
  },
  {
   "cell_type": "code",
   "execution_count": 85,
   "id": "83ce61c3-fc0b-4ff9-b54e-bd68d9242c9d",
   "metadata": {},
   "outputs": [
    {
     "name": "stderr",
     "output_type": "stream",
     "text": [
      "[Stage 85:===========================================>              (3 + 1) / 4]"
     ]
    },
    {
     "name": "stdout",
     "output_type": "stream",
     "text": [
      "+--------------------------------------------+------+\n",
      "|CallType                                    |Count |\n",
      "+--------------------------------------------+------+\n",
      "|Administrative                              |3     |\n",
      "|Mutual Aid / Assist Outside Agency          |9     |\n",
      "|Confined Space / Structure Collapse         |13    |\n",
      "|Marine Fire                                 |14    |\n",
      "|Suspicious Package                          |15    |\n",
      "|Oil Spill                                   |21    |\n",
      "|Watercraft in Distress                      |28    |\n",
      "|Extrication / Entrapped (Machinery, Vehicle)|28    |\n",
      "|High Angle Rescue                           |32    |\n",
      "|Assist Police                               |35    |\n",
      "|Aircraft Emergency                          |36    |\n",
      "|Train / Rail Incident                       |57    |\n",
      "|Explosion                                   |89    |\n",
      "|Industrial Accidents                        |94    |\n",
      "|HazMat                                      |124   |\n",
      "|Fuel Spill                                  |193   |\n",
      "|Smoke Investigation (Outside)               |391   |\n",
      "|Elevator / Escalator Rescue                 |453   |\n",
      "|Electrical Hazard                           |482   |\n",
      "|Odor (Strange / Unknown)                    |490   |\n",
      "|Water Rescue                                |755   |\n",
      "|Gas Leak (Natural and LP Gases)             |764   |\n",
      "|Vehicle Fire                                |854   |\n",
      "|Outside Fire                                |2094  |\n",
      "|Other                                       |2166  |\n",
      "|Citizen Assist / Service Call               |2524  |\n",
      "|Traffic Collision                           |7013  |\n",
      "|Alarms                                      |19406 |\n",
      "|Structure Fire                              |23319 |\n",
      "|Medical Incident                            |113794|\n",
      "+--------------------------------------------+------+\n",
      "\n"
     ]
    },
    {
     "name": "stderr",
     "output_type": "stream",
     "text": [
      "                                                                                "
     ]
    }
   ],
   "source": [
    "(df_ts.select('CallType').\n",
    " where(col('CallType').isNotNull()).\n",
    " groupBy('CallType').\n",
    " agg(fn.count(col('CallType')).alias('Count')).\n",
    " orderBy('Count').\n",
    " show(30 ,truncate =False))"
   ]
  },
  {
   "cell_type": "code",
   "execution_count": 82,
   "id": "d34b3006-e47e-4366-8824-2dc300d8d2f5",
   "metadata": {},
   "outputs": [
    {
     "name": "stdout",
     "output_type": "stream",
     "text": [
      "root\n",
      " |-- CallNumber: integer (nullable = true)\n",
      " |-- UnitID: string (nullable = true)\n",
      " |-- IncidentNumber: integer (nullable = true)\n",
      " |-- CallType: string (nullable = true)\n",
      " |-- WatchDate: string (nullable = true)\n",
      " |-- CallFinalDisposition: string (nullable = true)\n",
      " |-- AvailableDtTm: string (nullable = true)\n",
      " |-- Address: string (nullable = true)\n",
      " |-- City: string (nullable = true)\n",
      " |-- Zipcode: integer (nullable = true)\n",
      " |-- Battalion: string (nullable = true)\n",
      " |-- StationArea: string (nullable = true)\n",
      " |-- Box: integer (nullable = true)\n",
      " |-- OriginalPriority: string (nullable = true)\n",
      " |-- Priority: string (nullable = true)\n",
      " |-- FinalPriority: integer (nullable = true)\n",
      " |-- ALSUnit: boolean (nullable = true)\n",
      " |-- CallTypeGroup: string (nullable = true)\n",
      " |-- NumAlarms: integer (nullable = true)\n",
      " |-- UnitType: string (nullable = true)\n",
      " |-- UnitSequenceInCallDispatch: integer (nullable = true)\n",
      " |-- FirePreventionDistrict: integer (nullable = true)\n",
      " |-- SupervisorDistrict: integer (nullable = true)\n",
      " |-- Neighborhood: string (nullable = true)\n",
      " |-- Location: string (nullable = true)\n",
      " |-- RowID: string (nullable = true)\n",
      " |-- ResponseDelayMins: double (nullable = true)\n",
      " |-- CallDate_ts: timestamp (nullable = true)\n",
      "\n"
     ]
    }
   ],
   "source": [
    "df_ts.printSchema()"
   ]
  },
  {
   "cell_type": "code",
   "execution_count": 90,
   "id": "50294ad3-f57f-4fed-91ce-b28c50308662",
   "metadata": {},
   "outputs": [
    {
     "name": "stderr",
     "output_type": "stream",
     "text": [
      "[Stage 94:===========================================>              (3 + 1) / 4]"
     ]
    },
    {
     "name": "stdout",
     "output_type": "stream",
     "text": [
      "+--------------------------------------------+--------------------+\n",
      "|CallType                                    |ResponseDelayMinsAvg|\n",
      "+--------------------------------------------+--------------------+\n",
      "|Alarms                                      |3.5427290545084023  |\n",
      "|Structure Fire                              |3.679561015471939   |\n",
      "|Aircraft Emergency                          |3.7731481499999995  |\n",
      "|Traffic Collision                           |3.7891320888732336  |\n",
      "|Medical Incident                            |3.874868183815835   |\n",
      "|Vehicle Fire                                |3.903922713407494   |\n",
      "|Explosion                                   |4.110674168539325   |\n",
      "|Outside Fire                                |4.181948425367715   |\n",
      "|Elevator / Escalator Rescue                 |4.3378219334878585  |\n",
      "|Extrication / Entrapped (Machinery, Vehicle)|4.391666678571429   |\n",
      "|Smoke Investigation (Outside)               |4.466069897851662   |\n",
      "|Gas Leak (Natural and LP Gases)             |4.583398778403142   |\n",
      "|Odor (Strange / Unknown)                    |4.947959182         |\n",
      "|Oil Spill                                   |4.977777761904761   |\n",
      "|Industrial Accidents                        |5.0147163340425545  |\n",
      "|Electrical Hazard                           |5.178112038174274   |\n",
      "|Citizen Assist / Service Call               |5.473342576604596   |\n",
      "|Fuel Spill                                  |5.49222798238342    |\n",
      "|Other                                       |5.5051554324219785  |\n",
      "|Water Rescue                                |5.507748342145694   |\n",
      "|High Angle Rescue                           |6.048958375         |\n",
      "|Suspicious Package                          |6.5766667199999995  |\n",
      "|Watercraft in Distress                      |6.886904817857143   |\n",
      "|Confined Space / Structure Collapse         |6.915384576923078   |\n",
      "|Marine Fire                                 |6.928571314285715   |\n",
      "|HazMat                                      |7.527016126612902   |\n",
      "|Administrative                              |12.261111333333332  |\n",
      "|Train / Rail Incident                       |16.452046763157895  |\n",
      "|Assist Police                               |26.981903994285712  |\n",
      "|Mutual Aid / Assist Outside Agency          |38.416666311111115  |\n",
      "+--------------------------------------------+--------------------+\n",
      "\n"
     ]
    },
    {
     "name": "stderr",
     "output_type": "stream",
     "text": [
      "                                                                                "
     ]
    }
   ],
   "source": [
    "(df_ts.select('CallType','ResponseDelayMins').                               \n",
    " where(col('CallType').isNotNull()).\n",
    " groupBy('CallType').\n",
    " agg(fn.avg(col('ResponseDelayMins')).alias('ResponseDelayMinsAvg')).\n",
    " orderBy('ResponseDelayMinsAvg').\n",
    " show(30 ,truncate =False))"
   ]
  },
  {
   "cell_type": "code",
   "execution_count": 92,
   "id": "d546dd8d-86e1-412c-82a3-00267cb9d432",
   "metadata": {},
   "outputs": [
    {
     "name": "stdout",
     "output_type": "stream",
     "text": [
      "+--------------------------------------------+--------------------+--------------------+\n",
      "|CallType                                    |ResponseDelayMinsAvg|ResponseDelayMinsMax|\n",
      "+--------------------------------------------+--------------------+--------------------+\n",
      "|Alarms                                      |3.5427290545084023  |1844.55             |\n",
      "|Structure Fire                              |3.679561015471939   |1370.2333           |\n",
      "|Aircraft Emergency                          |3.7731481499999995  |13.166667           |\n",
      "|Traffic Collision                           |3.7891320888732336  |239.95              |\n",
      "|Medical Incident                            |3.874868183815835   |721.4               |\n",
      "|Vehicle Fire                                |3.903922713407494   |62.833332           |\n",
      "|Explosion                                   |4.110674168539325   |22.833334           |\n",
      "|Outside Fire                                |4.181948425367715   |340.11667           |\n",
      "|Elevator / Escalator Rescue                 |4.3378219334878585  |48.716667           |\n",
      "|Extrication / Entrapped (Machinery, Vehicle)|4.391666678571429   |9.35                |\n",
      "|Smoke Investigation (Outside)               |4.466069897851662   |43.9                |\n",
      "|Gas Leak (Natural and LP Gases)             |4.583398778403142   |76.566666           |\n",
      "|Odor (Strange / Unknown)                    |4.947959182         |58.116665           |\n",
      "|Oil Spill                                   |4.977777761904761   |29.916666           |\n",
      "|Industrial Accidents                        |5.0147163340425545  |29.766666           |\n",
      "|Electrical Hazard                           |5.178112038174274   |159.66667           |\n",
      "|Citizen Assist / Service Call               |5.473342576604596   |142.8               |\n",
      "|Fuel Spill                                  |5.49222798238342    |57.433334           |\n",
      "|Other                                       |5.5051554324219785  |405.7               |\n",
      "|Water Rescue                                |5.507748342145694   |82.85               |\n",
      "|High Angle Rescue                           |6.048958375         |25.616667           |\n",
      "|Suspicious Package                          |6.5766667199999995  |14.483334           |\n",
      "|Watercraft in Distress                      |6.886904817857143   |16.333334           |\n",
      "|Confined Space / Structure Collapse         |6.915384576923078   |25.133333           |\n",
      "|Marine Fire                                 |6.928571314285715   |13.183333           |\n",
      "|HazMat                                      |7.527016126612902   |84.76667            |\n",
      "|Administrative                              |12.261111333333332  |31.983334           |\n",
      "|Train / Rail Incident                       |16.452046763157895  |406.63333           |\n",
      "|Assist Police                               |26.981903994285712  |628.61664           |\n",
      "|Mutual Aid / Assist Outside Agency          |38.416666311111115  |302.88333           |\n",
      "+--------------------------------------------+--------------------+--------------------+\n",
      "\n"
     ]
    }
   ],
   "source": [
    "(df_ts.select('CallType','ResponseDelayMins').                               \n",
    " where(col('CallType').isNotNull()).\n",
    " groupBy('CallType').\n",
    " agg(fn.avg(col('ResponseDelayMins')).alias('ResponseDelayMinsAvg'),fn.max(col('ResponseDelayMins')).alias('ResponseDelayMinsMax')).\n",
    " orderBy('ResponseDelayMinsAvg','ResponseDelayMinsMax').\n",
    " show(30 ,truncate =False))"
   ]
  },
  {
   "cell_type": "code",
   "execution_count": 95,
   "id": "5d24af80-4af7-4674-8ce8-1cac152ba042",
   "metadata": {},
   "outputs": [],
   "source": [
    "df_response = (df_ts.select('CallType','ResponseDelayMins').                               \n",
    " where(col('CallType').isNotNull()).\n",
    " groupBy('CallType').\n",
    " agg(fn.avg(col('ResponseDelayMins')).alias('ResponseDelayMinsAvg'),fn.max(col('ResponseDelayMins')).alias('ResponseDelayMinsMax')).\n",
    " orderBy('ResponseDelayMinsAvg','ResponseDelayMinsMax'))"
   ]
  },
  {
   "cell_type": "code",
   "execution_count": 96,
   "id": "b98a5815-7b8e-4358-85f3-ef853dc0a880",
   "metadata": {},
   "outputs": [
    {
     "name": "stderr",
     "output_type": "stream",
     "text": [
      "                                                                                "
     ]
    }
   ],
   "source": [
    "df_pandas = df_response.toPandas()"
   ]
  },
  {
   "cell_type": "code",
   "execution_count": 99,
   "id": "b309bddb-56f7-4128-b3f4-ed1c656e65b8",
   "metadata": {},
   "outputs": [
    {
     "data": {
      "text/html": [
       "<div>\n",
       "<style scoped>\n",
       "    .dataframe tbody tr th:only-of-type {\n",
       "        vertical-align: middle;\n",
       "    }\n",
       "\n",
       "    .dataframe tbody tr th {\n",
       "        vertical-align: top;\n",
       "    }\n",
       "\n",
       "    .dataframe thead th {\n",
       "        text-align: right;\n",
       "    }\n",
       "</style>\n",
       "<table border=\"1\" class=\"dataframe\">\n",
       "  <thead>\n",
       "    <tr style=\"text-align: right;\">\n",
       "      <th></th>\n",
       "      <th>CallType</th>\n",
       "      <th>ResponseDelayMinsAvg</th>\n",
       "      <th>ResponseDelayMinsMax</th>\n",
       "    </tr>\n",
       "  </thead>\n",
       "  <tbody>\n",
       "    <tr>\n",
       "      <th>0</th>\n",
       "      <td>Alarms</td>\n",
       "      <td>3.542729</td>\n",
       "      <td>1844.550000</td>\n",
       "    </tr>\n",
       "    <tr>\n",
       "      <th>1</th>\n",
       "      <td>Structure Fire</td>\n",
       "      <td>3.679561</td>\n",
       "      <td>1370.233300</td>\n",
       "    </tr>\n",
       "    <tr>\n",
       "      <th>2</th>\n",
       "      <td>Aircraft Emergency</td>\n",
       "      <td>3.773148</td>\n",
       "      <td>13.166667</td>\n",
       "    </tr>\n",
       "    <tr>\n",
       "      <th>3</th>\n",
       "      <td>Traffic Collision</td>\n",
       "      <td>3.789132</td>\n",
       "      <td>239.950000</td>\n",
       "    </tr>\n",
       "    <tr>\n",
       "      <th>4</th>\n",
       "      <td>Medical Incident</td>\n",
       "      <td>3.874868</td>\n",
       "      <td>721.400000</td>\n",
       "    </tr>\n",
       "    <tr>\n",
       "      <th>5</th>\n",
       "      <td>Vehicle Fire</td>\n",
       "      <td>3.903923</td>\n",
       "      <td>62.833332</td>\n",
       "    </tr>\n",
       "    <tr>\n",
       "      <th>6</th>\n",
       "      <td>Explosion</td>\n",
       "      <td>4.110674</td>\n",
       "      <td>22.833334</td>\n",
       "    </tr>\n",
       "    <tr>\n",
       "      <th>7</th>\n",
       "      <td>Outside Fire</td>\n",
       "      <td>4.181948</td>\n",
       "      <td>340.116670</td>\n",
       "    </tr>\n",
       "    <tr>\n",
       "      <th>8</th>\n",
       "      <td>Elevator / Escalator Rescue</td>\n",
       "      <td>4.337822</td>\n",
       "      <td>48.716667</td>\n",
       "    </tr>\n",
       "    <tr>\n",
       "      <th>9</th>\n",
       "      <td>Extrication / Entrapped (Machinery, Vehicle)</td>\n",
       "      <td>4.391667</td>\n",
       "      <td>9.350000</td>\n",
       "    </tr>\n",
       "  </tbody>\n",
       "</table>\n",
       "</div>"
      ],
      "text/plain": [
       "                                       CallType  ResponseDelayMinsAvg  \\\n",
       "0                                        Alarms              3.542729   \n",
       "1                                Structure Fire              3.679561   \n",
       "2                            Aircraft Emergency              3.773148   \n",
       "3                             Traffic Collision              3.789132   \n",
       "4                              Medical Incident              3.874868   \n",
       "5                                  Vehicle Fire              3.903923   \n",
       "6                                     Explosion              4.110674   \n",
       "7                                  Outside Fire              4.181948   \n",
       "8                   Elevator / Escalator Rescue              4.337822   \n",
       "9  Extrication / Entrapped (Machinery, Vehicle)              4.391667   \n",
       "\n",
       "   ResponseDelayMinsMax  \n",
       "0           1844.550000  \n",
       "1           1370.233300  \n",
       "2             13.166667  \n",
       "3            239.950000  \n",
       "4            721.400000  \n",
       "5             62.833332  \n",
       "6             22.833334  \n",
       "7            340.116670  \n",
       "8             48.716667  \n",
       "9              9.350000  "
      ]
     },
     "execution_count": 99,
     "metadata": {},
     "output_type": "execute_result"
    }
   ],
   "source": [
    "df_pandas.head(10)"
   ]
  },
  {
   "cell_type": "code",
   "execution_count": 101,
   "id": "b753d6c7-8ae9-470b-be48-f6cdedd9cfb6",
   "metadata": {},
   "outputs": [],
   "source": [
    "#-----------------------------------------------------------------------------------------------\n",
    "\n",
    "# -------------How to write sql query & read and write from different Data Sources !------------\n",
    "\n",
    "#-----------------------------------------------------------------------------------------------\n"
   ]
  },
  {
   "cell_type": "code",
   "execution_count": 108,
   "id": "0a70c2b4-02e6-42b2-b31e-dbd6af795494",
   "metadata": {},
   "outputs": [],
   "source": [
    "data_schema ='date STRING , delay INT , distance INT , Origin STRING , destination STRING'"
   ]
  },
  {
   "cell_type": "code",
   "execution_count": 109,
   "id": "35b235d6-9675-45c7-a4a1-6b997406a42a",
   "metadata": {},
   "outputs": [],
   "source": [
    "df = spark.read.csv('csv/departuredelays.csv' , schema = data_schema , header = True)"
   ]
  },
  {
   "cell_type": "code",
   "execution_count": 110,
   "id": "3b5242b0-a040-423a-a875-010b1fea5f97",
   "metadata": {},
   "outputs": [
    {
     "name": "stdout",
     "output_type": "stream",
     "text": [
      "+--------+-----+--------+------+-----------+\n",
      "|    date|delay|distance|Origin|destination|\n",
      "+--------+-----+--------+------+-----------+\n",
      "|01011245|    6|     602|   ABE|        ATL|\n",
      "|01020600|   -8|     369|   ABE|        DTW|\n",
      "|01021245|   -2|     602|   ABE|        ATL|\n",
      "|01020605|   -4|     602|   ABE|        ATL|\n",
      "|01031245|   -4|     602|   ABE|        ATL|\n",
      "|01030605|    0|     602|   ABE|        ATL|\n",
      "|01041243|   10|     602|   ABE|        ATL|\n",
      "|01040605|   28|     602|   ABE|        ATL|\n",
      "|01051245|   88|     602|   ABE|        ATL|\n",
      "|01050605|    9|     602|   ABE|        ATL|\n",
      "|01061215|   -6|     602|   ABE|        ATL|\n",
      "|01061725|   69|     602|   ABE|        ATL|\n",
      "|01061230|    0|     369|   ABE|        DTW|\n",
      "|01060625|   -3|     602|   ABE|        ATL|\n",
      "|01070600|    0|     369|   ABE|        DTW|\n",
      "|01071725|    0|     602|   ABE|        ATL|\n",
      "|01071230|    0|     369|   ABE|        DTW|\n",
      "|01070625|    0|     602|   ABE|        ATL|\n",
      "|01071219|    0|     569|   ABE|        ORD|\n",
      "|01080600|    0|     369|   ABE|        DTW|\n",
      "+--------+-----+--------+------+-----------+\n",
      "only showing top 20 rows\n"
     ]
    }
   ],
   "source": [
    "df.show()"
   ]
  },
  {
   "cell_type": "code",
   "execution_count": 111,
   "id": "24871862-118e-423b-8f98-5908b6fe8cbe",
   "metadata": {},
   "outputs": [],
   "source": [
    "df.createOrReplaceTempView('Flight_delays')"
   ]
  },
  {
   "cell_type": "code",
   "execution_count": 114,
   "id": "8d8b8860-bc8d-46a4-a468-c58934bf00b0",
   "metadata": {},
   "outputs": [],
   "source": [
    "df_delay =df.select('*').where(col('delay')>5)"
   ]
  },
  {
   "cell_type": "code",
   "execution_count": 124,
   "id": "02bf9001-e60b-4649-b7b9-a4e8a5313ecf",
   "metadata": {},
   "outputs": [],
   "source": [
    "df_delay_sql = spark.sql('SELECT * from Flight_delays where delay > 5')"
   ]
  },
  {
   "cell_type": "code",
   "execution_count": 125,
   "id": "7efc58c1-76fc-4c1a-93b9-daee241a91eb",
   "metadata": {},
   "outputs": [
    {
     "name": "stdout",
     "output_type": "stream",
     "text": [
      "+--------+-----+--------+------+-----------+\n",
      "|    date|delay|distance|Origin|destination|\n",
      "+--------+-----+--------+------+-----------+\n",
      "|01011245|    6|     602|   ABE|        ATL|\n",
      "|01041243|   10|     602|   ABE|        ATL|\n",
      "|01040605|   28|     602|   ABE|        ATL|\n",
      "|01051245|   88|     602|   ABE|        ATL|\n",
      "|01050605|    9|     602|   ABE|        ATL|\n",
      "|01061725|   69|     602|   ABE|        ATL|\n",
      "|01081230|   33|     369|   ABE|        DTW|\n",
      "|01081219|   54|     569|   ABE|        ORD|\n",
      "|01091215|   43|     602|   ABE|        ATL|\n",
      "|01090600|  151|     369|   ABE|        DTW|\n",
      "|01090625|    8|     602|   ABE|        ATL|\n",
      "|01091219|   83|     569|   ABE|        ORD|\n",
      "|01101725|    7|     602|   ABE|        ATL|\n",
      "|01100625|   52|     602|   ABE|        ATL|\n",
      "|01111215|  127|     602|   ABE|        ATL|\n",
      "|01131215|   14|     602|   ABE|        ATL|\n",
      "|01130625|   29|     602|   ABE|        ATL|\n",
      "|01161219|   68|     569|   ABE|        ORD|\n",
      "|01210600|   89|     369|   ABE|        DTW|\n",
      "|01211230|   44|     369|   ABE|        DTW|\n",
      "+--------+-----+--------+------+-----------+\n",
      "only showing top 20 rows\n"
     ]
    }
   ],
   "source": [
    "df_delay_sql.show()"
   ]
  },
  {
   "cell_type": "code",
   "execution_count": 126,
   "id": "d331be02-0770-4464-812c-5f607664788d",
   "metadata": {},
   "outputs": [],
   "source": [
    "df_delay_sql = spark.sql('''SELECT * from Flight_delays \n",
    "where Origin =\"SFO\" AND destination = 'DTW' AND delay >30\n",
    "order by delay DESC''')"
   ]
  },
  {
   "cell_type": "code",
   "execution_count": 127,
   "id": "c101c59c-d5f2-4881-b535-081ac449e039",
   "metadata": {},
   "outputs": [
    {
     "name": "stderr",
     "output_type": "stream",
     "text": [
      "[Stage 121:==========================================>              (3 + 1) / 4]"
     ]
    },
    {
     "name": "stdout",
     "output_type": "stream",
     "text": [
      "+--------+-----+--------+------+-----------+\n",
      "|    date|delay|distance|Origin|destination|\n",
      "+--------+-----+--------+------+-----------+\n",
      "|02202310|  291|    1806|   SFO|        DTW|\n",
      "|03160700|  261|    1806|   SFO|        DTW|\n",
      "|03292255|  166|    1806|   SFO|        DTW|\n",
      "|01201130|  152|    1806|   SFO|        DTW|\n",
      "|02191132|   84|    1806|   SFO|        DTW|\n",
      "|01051323|   71|    1806|   SFO|        DTW|\n",
      "|03231135|   50|    1806|   SFO|        DTW|\n",
      "|02051130|   49|    1806|   SFO|        DTW|\n",
      "|03121135|   49|    1806|   SFO|        DTW|\n",
      "|02232310|   45|    1806|   SFO|        DTW|\n",
      "|03261135|   42|    1806|   SFO|        DTW|\n",
      "|02091130|   40|    1806|   SFO|        DTW|\n",
      "|03021135|   40|    1806|   SFO|        DTW|\n",
      "|02141132|   40|    1806|   SFO|        DTW|\n",
      "|01032245|   38|    1806|   SFO|        DTW|\n",
      "|01052245|   38|    1806|   SFO|        DTW|\n",
      "|01051132|   31|    1806|   SFO|        DTW|\n",
      "+--------+-----+--------+------+-----------+\n",
      "\n"
     ]
    },
    {
     "name": "stderr",
     "output_type": "stream",
     "text": [
      "                                                                                "
     ]
    }
   ],
   "source": [
    "df_delay_sql.show()"
   ]
  },
  {
   "cell_type": "code",
   "execution_count": 129,
   "id": "3a34aeb3-22d3-436b-96e2-51b494b8beb8",
   "metadata": {},
   "outputs": [
    {
     "name": "stdout",
     "output_type": "stream",
     "text": [
      "+-----+------+-----------+----------------+\n",
      "|delay|Origin|destination|   Flight_delays|\n",
      "+-----+------+-----------+----------------+\n",
      "|    6|   ABE|        ATL|Tolerable Delays|\n",
      "|   -8|   ABE|        DTW|           Early|\n",
      "|   -2|   ABE|        ATL|           Early|\n",
      "|   -4|   ABE|        ATL|           Early|\n",
      "|   -4|   ABE|        ATL|           Early|\n",
      "|    0|   ABE|        ATL|       No Delays|\n",
      "|   10|   ABE|        ATL|Tolerable Delays|\n",
      "|   28|   ABE|        ATL|Tolerable Delays|\n",
      "|   88|   ABE|        ATL|     Short Delay|\n",
      "|    9|   ABE|        ATL|Tolerable Delays|\n",
      "|   -6|   ABE|        ATL|           Early|\n",
      "|   69|   ABE|        ATL|     Short Delay|\n",
      "|    0|   ABE|        DTW|       No Delays|\n",
      "|   -3|   ABE|        ATL|           Early|\n",
      "|    0|   ABE|        DTW|       No Delays|\n",
      "|    0|   ABE|        ATL|       No Delays|\n",
      "|    0|   ABE|        DTW|       No Delays|\n",
      "|    0|   ABE|        ATL|       No Delays|\n",
      "|    0|   ABE|        ORD|       No Delays|\n",
      "|    0|   ABE|        DTW|       No Delays|\n",
      "+-----+------+-----------+----------------+\n",
      "only showing top 20 rows\n"
     ]
    }
   ],
   "source": [
    "spark.sql(\"\"\"\n",
    "SELECT delay , Origin , destination ,\n",
    "CASE\n",
    "WHEN delay > 360 Then 'Very Long Delay'\n",
    "WHEN delay > 120 AND delay < 360 Then 'Long Delays'\n",
    "WHEN delay > 60 AND delay < 120 Then 'Short Delay'\n",
    "WHEN delay > 0 AND delay < 60 Then 'Tolerable Delays'\n",
    "WHEN delay = 0  Then 'No Delays'\n",
    "ELSE 'Early'\n",
    "END AS Flight_delays\n",
    "FROM Flight_delays\n",
    "\"\"\").show()"
   ]
  },
  {
   "cell_type": "code",
   "execution_count": 143,
   "id": "47daa639-653d-4544-a415-85a8ade82b04",
   "metadata": {},
   "outputs": [
    {
     "name": "stderr",
     "output_type": "stream",
     "text": [
      "[Stage 131:==========================================>              (3 + 1) / 4]"
     ]
    },
    {
     "name": "stdout",
     "output_type": "stream",
     "text": [
      "+-----+------+-----------+---------------+\n",
      "|delay|Origin|destination|         status|\n",
      "+-----+------+-----------+---------------+\n",
      "|  367|   LRD|        IAH|Very Long Delay|\n",
      "|  395|   ABI|        DFW|Very Long Delay|\n",
      "|  397|   ORD|        EWR|Very Long Delay|\n",
      "|  543|   ATL|        CMH|Very Long Delay|\n",
      "|  424|   RSW|        BWI|Very Long Delay|\n",
      "|  385|   ABQ|        ATL|Very Long Delay|\n",
      "|  463|   PHL|        PHX|Very Long Delay|\n",
      "|  489|   ABQ|        ATL|Very Long Delay|\n",
      "|  400|   MCO|        PVD|Very Long Delay|\n",
      "|  394|   ABQ|        DEN|Very Long Delay|\n",
      "|  444|   ORD|        FLL|Very Long Delay|\n",
      "|  580|   AEX|        ATL|Very Long Delay|\n",
      "|  397|   SEA|        ATL|Very Long Delay|\n",
      "|  500|   AEX|        ATL|Very Long Delay|\n",
      "|  688|   ORD|        IAH|Very Long Delay|\n",
      "|  414|   AEX|        IAH|Very Long Delay|\n",
      "|  549|   LSE|        ORD|Very Long Delay|\n",
      "|  374|   AEX|        DFW|Very Long Delay|\n",
      "|  543|   ORF|        ATL|Very Long Delay|\n",
      "|  463|   AEX|        DFW|Very Long Delay|\n",
      "+-----+------+-----------+---------------+\n",
      "only showing top 20 rows\n"
     ]
    },
    {
     "name": "stderr",
     "output_type": "stream",
     "text": [
      "                                                                                "
     ]
    }
   ],
   "source": [
    "(   df.select ('delay', 'Origin','destination',\n",
    "               fn.when(col('delay')>360,'Very Long Delay').otherwise('Not Very Long').alias('status')).\n",
    " sort('status' , ascending =False).\n",
    " show()   )"
   ]
  },
  {
   "cell_type": "code",
   "execution_count": null,
   "id": "e3073a27-156a-45fd-86b4-e0a71f1a48c5",
   "metadata": {},
   "outputs": [],
   "source": [
    "# ------------------------------- Spark With Different Data Sources---------------------------\n",
    "# --------------------------------------------------------------------------------------------"
   ]
  },
  {
   "cell_type": "code",
   "execution_count": 147,
   "id": "ef9a869d-44fb-4037-9748-48de38baafe6",
   "metadata": {},
   "outputs": [
    {
     "name": "stderr",
     "output_type": "stream",
     "text": [
      "                                                                                "
     ]
    }
   ],
   "source": [
    "df_parquet = spark.read.parquet('parquet/2010-summary.parquet')"
   ]
  },
  {
   "cell_type": "code",
   "execution_count": 148,
   "id": "21a8fa22-7b1b-44f3-aa01-24a086e24fce",
   "metadata": {},
   "outputs": [
    {
     "name": "stdout",
     "output_type": "stream",
     "text": [
      "root\n",
      " |-- DEST_COUNTRY_NAME: string (nullable = true)\n",
      " |-- ORIGIN_COUNTRY_NAME: string (nullable = true)\n",
      " |-- count: long (nullable = true)\n",
      "\n"
     ]
    }
   ],
   "source": [
    "df_parquet.printSchema()"
   ]
  },
  {
   "cell_type": "code",
   "execution_count": 152,
   "id": "2c9d9d38-1554-4d96-a340-75b37a1a2d6b",
   "metadata": {},
   "outputs": [
    {
     "name": "stdout",
     "output_type": "stream",
     "text": [
      "+--------------------+-------------------+-----+\n",
      "|   DEST_COUNTRY_NAME|ORIGIN_COUNTRY_NAME|count|\n",
      "+--------------------+-------------------+-----+\n",
      "|       United States|            Romania|    1|\n",
      "|       United States|            Ireland|  264|\n",
      "|       United States|              India|   69|\n",
      "|               Egypt|      United States|   24|\n",
      "|   Equatorial Guinea|      United States|    1|\n",
      "|       United States|          Singapore|   25|\n",
      "|       United States|            Grenada|   54|\n",
      "|          Costa Rica|      United States|  477|\n",
      "|             Senegal|      United States|   29|\n",
      "|       United States|   Marshall Islands|   44|\n",
      "|              Guyana|      United States|   17|\n",
      "|       United States|       Sint Maarten|   53|\n",
      "|               Malta|      United States|    1|\n",
      "|             Bolivia|      United States|   46|\n",
      "|            Anguilla|      United States|   21|\n",
      "|Turks and Caicos ...|      United States|  136|\n",
      "|       United States|        Afghanistan|    2|\n",
      "|Saint Vincent and...|      United States|    1|\n",
      "|               Italy|      United States|  390|\n",
      "|       United States|             Russia|  156|\n",
      "+--------------------+-------------------+-----+\n",
      "only showing top 20 rows\n"
     ]
    }
   ],
   "source": [
    "df_parquet.show()"
   ]
  },
  {
   "cell_type": "code",
   "execution_count": 155,
   "id": "47f35fe9-c5d1-44c7-9214-614eb3a9c817",
   "metadata": {},
   "outputs": [
    {
     "name": "stderr",
     "output_type": "stream",
     "text": [
      "                                                                                "
     ]
    }
   ],
   "source": [
    "df_csv = spark.read.csv('csv/',header = True , inferSchema=True)"
   ]
  },
  {
   "cell_type": "code",
   "execution_count": 156,
   "id": "4bc0b56b-701c-408b-ad69-2e3b47f02288",
   "metadata": {},
   "outputs": [
    {
     "name": "stdout",
     "output_type": "stream",
     "text": [
      "+--------+-----+--------+------+-----------+\n",
      "|    date|delay|distance|origin|destination|\n",
      "+--------+-----+--------+------+-----------+\n",
      "|01011245|    6|     602|   ABE|        ATL|\n",
      "|01020600|   -8|     369|   ABE|        DTW|\n",
      "|01021245|   -2|     602|   ABE|        ATL|\n",
      "|01020605|   -4|     602|   ABE|        ATL|\n",
      "|01031245|   -4|     602|   ABE|        ATL|\n",
      "|01030605|    0|     602|   ABE|        ATL|\n",
      "|01041243|   10|     602|   ABE|        ATL|\n",
      "|01040605|   28|     602|   ABE|        ATL|\n",
      "|01051245|   88|     602|   ABE|        ATL|\n",
      "|01050605|    9|     602|   ABE|        ATL|\n",
      "|01061215|   -6|     602|   ABE|        ATL|\n",
      "|01061725|   69|     602|   ABE|        ATL|\n",
      "|01061230|    0|     369|   ABE|        DTW|\n",
      "|01060625|   -3|     602|   ABE|        ATL|\n",
      "|01070600|    0|     369|   ABE|        DTW|\n",
      "|01071725|    0|     602|   ABE|        ATL|\n",
      "|01071230|    0|     369|   ABE|        DTW|\n",
      "|01070625|    0|     602|   ABE|        ATL|\n",
      "|01071219|    0|     569|   ABE|        ORD|\n",
      "|01080600|    0|     369|   ABE|        DTW|\n",
      "+--------+-----+--------+------+-----------+\n",
      "only showing top 20 rows\n"
     ]
    }
   ],
   "source": [
    "df_csv.show()"
   ]
  },
  {
   "cell_type": "code",
   "execution_count": 163,
   "id": "aef9ee08-7cea-4bf4-a00b-012ce2f24aa2",
   "metadata": {},
   "outputs": [
    {
     "name": "stderr",
     "output_type": "stream",
     "text": [
      "                                                                                "
     ]
    }
   ],
   "source": [
    "df_parquet.write.format('parquet').mode('overwrite').save('Saved_Parquet')"
   ]
  },
  {
   "cell_type": "code",
   "execution_count": null,
   "id": "f8077b0d-7b32-41b0-a6ef-8f1a744eba52",
   "metadata": {},
   "outputs": [],
   "source": []
  }
 ],
 "metadata": {
  "kernelspec": {
   "display_name": "Python 3 (ipykernel)",
   "language": "python",
   "name": "python3"
  },
  "language_info": {
   "codemirror_mode": {
    "name": "ipython",
    "version": 3
   },
   "file_extension": ".py",
   "mimetype": "text/x-python",
   "name": "python",
   "nbconvert_exporter": "python",
   "pygments_lexer": "ipython3",
   "version": "3.13.5"
  }
 },
 "nbformat": 4,
 "nbformat_minor": 5
}
