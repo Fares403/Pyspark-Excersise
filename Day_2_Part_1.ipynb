{
 "cells": [
  {
   "cell_type": "code",
   "execution_count": 112,
   "id": "0d6271b4-d72f-4688-8c5b-38ee0d4e948d",
   "metadata": {},
   "outputs": [],
   "source": [
    "import findspark"
   ]
  },
  {
   "cell_type": "code",
   "execution_count": 113,
   "id": "509c6000-ddbf-4142-9014-508be83d45d0",
   "metadata": {},
   "outputs": [],
   "source": [
    "findspark.init()"
   ]
  },
  {
   "cell_type": "code",
   "execution_count": 114,
   "id": "dc54290a-ebae-414f-be80-bba0bc0f0a64",
   "metadata": {},
   "outputs": [],
   "source": [
    "from pyspark.sql import SparkSession"
   ]
  },
  {
   "cell_type": "code",
   "execution_count": 115,
   "id": "abf726b6-7a7c-4945-8ddb-f78a833449cb",
   "metadata": {},
   "outputs": [],
   "source": [
    "spark = SparkSession.builder.getOrCreate()"
   ]
  },
  {
   "cell_type": "code",
   "execution_count": 116,
   "id": "3c8629b5-8c5d-479d-9630-65dc423f393b",
   "metadata": {},
   "outputs": [
    {
     "data": {
      "text/html": [
       "\n",
       "            <div>\n",
       "                <p><b>SparkSession - hive</b></p>\n",
       "                \n",
       "        <div>\n",
       "            <p><b>SparkContext</b></p>\n",
       "\n",
       "            <p><a href=\"http://10.0.2.15:4040\">Spark UI</a></p>\n",
       "\n",
       "            <dl>\n",
       "              <dt>Version</dt>\n",
       "                <dd><code>v4.0.1</code></dd>\n",
       "              <dt>Master</dt>\n",
       "                <dd><code>local[*]</code></dd>\n",
       "              <dt>AppName</dt>\n",
       "                <dd><code>PySparkShell</code></dd>\n",
       "            </dl>\n",
       "        </div>\n",
       "        \n",
       "            </div>\n",
       "        "
      ],
      "text/plain": [
       "<pyspark.sql.session.SparkSession at 0x7ef40cf402f0>"
      ]
     },
     "execution_count": 116,
     "metadata": {},
     "output_type": "execute_result"
    }
   ],
   "source": [
    "spark"
   ]
  },
  {
   "cell_type": "code",
   "execution_count": 117,
   "id": "d91c0fcf-7e6c-49c1-981b-dbc50efaab33",
   "metadata": {},
   "outputs": [],
   "source": [
    "sc = spark.sparkContext"
   ]
  },
  {
   "cell_type": "code",
   "execution_count": 118,
   "id": "2ac13212-69bf-480b-8379-6322ee228414",
   "metadata": {},
   "outputs": [],
   "source": [
    "import numpy as np "
   ]
  },
  {
   "cell_type": "code",
   "execution_count": 119,
   "id": "0eec1575-9ec0-4024-94af-3d85f63eecbc",
   "metadata": {},
   "outputs": [],
   "source": [
    "data = np.arange(1,51)"
   ]
  },
  {
   "cell_type": "code",
   "execution_count": 120,
   "id": "f54ab150-4e91-42ea-9aa7-c32abbd5efc8",
   "metadata": {},
   "outputs": [],
   "source": [
    "rdd0 = sc.parallelize(data)"
   ]
  },
  {
   "cell_type": "code",
   "execution_count": 121,
   "id": "0cfd6be4-794c-41f0-9b85-60849ee34b44",
   "metadata": {},
   "outputs": [
    {
     "data": {
      "text/plain": [
       "ParallelCollectionRDD[19] at readRDDFromFile at PythonRDD.scala:297"
      ]
     },
     "execution_count": 121,
     "metadata": {},
     "output_type": "execute_result"
    }
   ],
   "source": [
    "rdd0"
   ]
  },
  {
   "cell_type": "code",
   "execution_count": 122,
   "id": "89c29a01-dfd1-4c5c-8069-13a0db56e12e",
   "metadata": {},
   "outputs": [],
   "source": [
    "rdd1 = rdd0.map(lambda x : x ** 2)"
   ]
  },
  {
   "cell_type": "code",
   "execution_count": 123,
   "id": "4b577579-8d1f-492f-87da-b60e77fee44a",
   "metadata": {},
   "outputs": [
    {
     "data": {
      "text/plain": [
       "PythonRDD[20] at RDD at PythonRDD.scala:56"
      ]
     },
     "execution_count": 123,
     "metadata": {},
     "output_type": "execute_result"
    }
   ],
   "source": [
    "rdd1"
   ]
  },
  {
   "cell_type": "code",
   "execution_count": 124,
   "id": "448e3b03-7a31-49e6-9934-69b7aca7234b",
   "metadata": {},
   "outputs": [],
   "source": [
    "rdd2 = rdd1.map(lambda x : x % 4)"
   ]
  },
  {
   "cell_type": "code",
   "execution_count": 125,
   "id": "2f2ae35a-9033-40ea-8e13-970cf1ba6115",
   "metadata": {},
   "outputs": [
    {
     "data": {
      "text/plain": [
       "PythonRDD[21] at RDD at PythonRDD.scala:56"
      ]
     },
     "execution_count": 125,
     "metadata": {},
     "output_type": "execute_result"
    }
   ],
   "source": [
    "rdd2"
   ]
  },
  {
   "cell_type": "code",
   "execution_count": 126,
   "id": "6510803e-9cf5-4d0f-bdf1-368a315a5652",
   "metadata": {},
   "outputs": [
    {
     "data": {
      "text/plain": [
       "3"
      ]
     },
     "execution_count": 126,
     "metadata": {},
     "output_type": "execute_result"
    }
   ],
   "source": [
    "rdd0.getNumPartitions()"
   ]
  },
  {
   "cell_type": "code",
   "execution_count": 127,
   "id": "b61f72f5-b2f4-429c-972c-4a1c19c7a353",
   "metadata": {},
   "outputs": [
    {
     "data": {
      "text/plain": [
       "[np.int64(1),\n",
       " np.int64(0),\n",
       " np.int64(1),\n",
       " np.int64(0),\n",
       " np.int64(1),\n",
       " np.int64(0),\n",
       " np.int64(1),\n",
       " np.int64(0),\n",
       " np.int64(1),\n",
       " np.int64(0),\n",
       " np.int64(1),\n",
       " np.int64(0),\n",
       " np.int64(1),\n",
       " np.int64(0),\n",
       " np.int64(1),\n",
       " np.int64(0),\n",
       " np.int64(1),\n",
       " np.int64(0),\n",
       " np.int64(1),\n",
       " np.int64(0),\n",
       " np.int64(1),\n",
       " np.int64(0),\n",
       " np.int64(1),\n",
       " np.int64(0),\n",
       " np.int64(1),\n",
       " np.int64(0),\n",
       " np.int64(1),\n",
       " np.int64(0),\n",
       " np.int64(1),\n",
       " np.int64(0),\n",
       " np.int64(1),\n",
       " np.int64(0),\n",
       " np.int64(1),\n",
       " np.int64(0),\n",
       " np.int64(1),\n",
       " np.int64(0),\n",
       " np.int64(1),\n",
       " np.int64(0),\n",
       " np.int64(1),\n",
       " np.int64(0),\n",
       " np.int64(1),\n",
       " np.int64(0),\n",
       " np.int64(1),\n",
       " np.int64(0),\n",
       " np.int64(1),\n",
       " np.int64(0),\n",
       " np.int64(1),\n",
       " np.int64(0),\n",
       " np.int64(1),\n",
       " np.int64(0)]"
      ]
     },
     "execution_count": 127,
     "metadata": {},
     "output_type": "execute_result"
    }
   ],
   "source": [
    "rdd2.collect()"
   ]
  },
  {
   "cell_type": "code",
   "execution_count": 128,
   "id": "4375d09e-922b-468f-a3cf-8c40d421e736",
   "metadata": {},
   "outputs": [
    {
     "data": {
      "text/plain": [
       "[np.int64(1),\n",
       " np.int64(4),\n",
       " np.int64(9),\n",
       " np.int64(16),\n",
       " np.int64(25),\n",
       " np.int64(36),\n",
       " np.int64(49),\n",
       " np.int64(64),\n",
       " np.int64(81),\n",
       " np.int64(100),\n",
       " np.int64(121),\n",
       " np.int64(144),\n",
       " np.int64(169),\n",
       " np.int64(196),\n",
       " np.int64(225),\n",
       " np.int64(256),\n",
       " np.int64(289),\n",
       " np.int64(324),\n",
       " np.int64(361),\n",
       " np.int64(400),\n",
       " np.int64(441),\n",
       " np.int64(484),\n",
       " np.int64(529),\n",
       " np.int64(576),\n",
       " np.int64(625),\n",
       " np.int64(676),\n",
       " np.int64(729),\n",
       " np.int64(784),\n",
       " np.int64(841),\n",
       " np.int64(900),\n",
       " np.int64(961),\n",
       " np.int64(1024),\n",
       " np.int64(1089),\n",
       " np.int64(1156),\n",
       " np.int64(1225),\n",
       " np.int64(1296),\n",
       " np.int64(1369),\n",
       " np.int64(1444),\n",
       " np.int64(1521),\n",
       " np.int64(1600),\n",
       " np.int64(1681),\n",
       " np.int64(1764),\n",
       " np.int64(1849),\n",
       " np.int64(1936),\n",
       " np.int64(2025),\n",
       " np.int64(2116),\n",
       " np.int64(2209),\n",
       " np.int64(2304),\n",
       " np.int64(2401),\n",
       " np.int64(2500)]"
      ]
     },
     "execution_count": 128,
     "metadata": {},
     "output_type": "execute_result"
    }
   ],
   "source": [
    "rdd1.collect() # output in list"
   ]
  },
  {
   "cell_type": "code",
   "execution_count": 129,
   "id": "f069b71a-ed14-4c9d-8f54-a91512c83018",
   "metadata": {},
   "outputs": [
    {
     "data": {
      "text/plain": [
       "[np.int64(1),\n",
       " np.int64(2),\n",
       " np.int64(3),\n",
       " np.int64(4),\n",
       " np.int64(5),\n",
       " np.int64(6),\n",
       " np.int64(7),\n",
       " np.int64(8),\n",
       " np.int64(9),\n",
       " np.int64(10),\n",
       " np.int64(11),\n",
       " np.int64(12),\n",
       " np.int64(13),\n",
       " np.int64(14),\n",
       " np.int64(15),\n",
       " np.int64(16),\n",
       " np.int64(17),\n",
       " np.int64(18),\n",
       " np.int64(19),\n",
       " np.int64(20),\n",
       " np.int64(21),\n",
       " np.int64(22),\n",
       " np.int64(23),\n",
       " np.int64(24),\n",
       " np.int64(25),\n",
       " np.int64(26),\n",
       " np.int64(27),\n",
       " np.int64(28),\n",
       " np.int64(29),\n",
       " np.int64(30),\n",
       " np.int64(31),\n",
       " np.int64(32),\n",
       " np.int64(33),\n",
       " np.int64(34),\n",
       " np.int64(35),\n",
       " np.int64(36),\n",
       " np.int64(37),\n",
       " np.int64(38),\n",
       " np.int64(39),\n",
       " np.int64(40),\n",
       " np.int64(41),\n",
       " np.int64(42),\n",
       " np.int64(43),\n",
       " np.int64(44),\n",
       " np.int64(45),\n",
       " np.int64(46),\n",
       " np.int64(47),\n",
       " np.int64(48),\n",
       " np.int64(49),\n",
       " np.int64(50)]"
      ]
     },
     "execution_count": 129,
     "metadata": {},
     "output_type": "execute_result"
    }
   ],
   "source": [
    "rdd0.collect()"
   ]
  },
  {
   "cell_type": "code",
   "execution_count": 130,
   "id": "3d87a2e9-0994-410d-9aa0-dfe417df9aeb",
   "metadata": {},
   "outputs": [
    {
     "data": {
      "text/plain": [
       "[np.int64(1), np.int64(4), np.int64(9), np.int64(16)]"
      ]
     },
     "execution_count": 130,
     "metadata": {},
     "output_type": "execute_result"
    }
   ],
   "source": [
    "rdd1.take(4)"
   ]
  },
  {
   "cell_type": "code",
   "execution_count": 131,
   "id": "cdc842c0-1ab4-4de7-a7bf-bc6f309cc36d",
   "metadata": {},
   "outputs": [],
   "source": [
    "rdd3 = rdd1.map(lambda x : x**3)"
   ]
  },
  {
   "cell_type": "code",
   "execution_count": 132,
   "id": "b5647afd-8f69-48dd-a026-01ba932500db",
   "metadata": {},
   "outputs": [],
   "source": [
    "rdd4 = rdd1.map(lambda x :x/2)"
   ]
  },
  {
   "cell_type": "code",
   "execution_count": 133,
   "id": "8ad1403a-3b1b-4986-9a0c-ec016e7a3f58",
   "metadata": {},
   "outputs": [
    {
     "name": "stdout",
     "output_type": "stream",
     "text": [
      "CPU times: user 4.44 ms, sys: 8 ms, total: 12.4 ms\n",
      "Wall time: 208 ms\n"
     ]
    },
    {
     "data": {
      "text/plain": [
       "[np.float64(0.5),\n",
       " np.float64(2.0),\n",
       " np.float64(4.5),\n",
       " np.float64(8.0),\n",
       " np.float64(12.5),\n",
       " np.float64(18.0),\n",
       " np.float64(24.5),\n",
       " np.float64(32.0),\n",
       " np.float64(40.5),\n",
       " np.float64(50.0),\n",
       " np.float64(60.5),\n",
       " np.float64(72.0),\n",
       " np.float64(84.5),\n",
       " np.float64(98.0),\n",
       " np.float64(112.5),\n",
       " np.float64(128.0),\n",
       " np.float64(144.5),\n",
       " np.float64(162.0),\n",
       " np.float64(180.5),\n",
       " np.float64(200.0),\n",
       " np.float64(220.5),\n",
       " np.float64(242.0),\n",
       " np.float64(264.5),\n",
       " np.float64(288.0),\n",
       " np.float64(312.5),\n",
       " np.float64(338.0),\n",
       " np.float64(364.5),\n",
       " np.float64(392.0),\n",
       " np.float64(420.5),\n",
       " np.float64(450.0),\n",
       " np.float64(480.5),\n",
       " np.float64(512.0),\n",
       " np.float64(544.5),\n",
       " np.float64(578.0),\n",
       " np.float64(612.5),\n",
       " np.float64(648.0),\n",
       " np.float64(684.5),\n",
       " np.float64(722.0),\n",
       " np.float64(760.5),\n",
       " np.float64(800.0),\n",
       " np.float64(840.5),\n",
       " np.float64(882.0),\n",
       " np.float64(924.5),\n",
       " np.float64(968.0),\n",
       " np.float64(1012.5),\n",
       " np.float64(1058.0),\n",
       " np.float64(1104.5),\n",
       " np.float64(1152.0),\n",
       " np.float64(1200.5),\n",
       " np.float64(1250.0)]"
      ]
     },
     "execution_count": 133,
     "metadata": {},
     "output_type": "execute_result"
    }
   ],
   "source": [
    "%%time\n",
    "rdd4.collect()"
   ]
  },
  {
   "cell_type": "code",
   "execution_count": 134,
   "id": "ae9cd3d5-0af7-4bb3-b13c-6ff0aa6f64f2",
   "metadata": {},
   "outputs": [
    {
     "name": "stdout",
     "output_type": "stream",
     "text": [
      "CPU times: user 0 ns, sys: 16.4 ms, total: 16.4 ms\n",
      "Wall time: 311 ms\n"
     ]
    },
    {
     "data": {
      "text/plain": [
       "[np.int64(1),\n",
       " np.int64(64),\n",
       " np.int64(729),\n",
       " np.int64(4096),\n",
       " np.int64(15625),\n",
       " np.int64(46656),\n",
       " np.int64(117649),\n",
       " np.int64(262144),\n",
       " np.int64(531441),\n",
       " np.int64(1000000),\n",
       " np.int64(1771561),\n",
       " np.int64(2985984),\n",
       " np.int64(4826809),\n",
       " np.int64(7529536),\n",
       " np.int64(11390625),\n",
       " np.int64(16777216),\n",
       " np.int64(24137569),\n",
       " np.int64(34012224),\n",
       " np.int64(47045881),\n",
       " np.int64(64000000),\n",
       " np.int64(85766121),\n",
       " np.int64(113379904),\n",
       " np.int64(148035889),\n",
       " np.int64(191102976),\n",
       " np.int64(244140625),\n",
       " np.int64(308915776),\n",
       " np.int64(387420489),\n",
       " np.int64(481890304),\n",
       " np.int64(594823321),\n",
       " np.int64(729000000),\n",
       " np.int64(887503681),\n",
       " np.int64(1073741824),\n",
       " np.int64(1291467969),\n",
       " np.int64(1544804416),\n",
       " np.int64(1838265625),\n",
       " np.int64(2176782336),\n",
       " np.int64(2565726409),\n",
       " np.int64(3010936384),\n",
       " np.int64(3518743761),\n",
       " np.int64(4096000000),\n",
       " np.int64(4750104241),\n",
       " np.int64(5489031744),\n",
       " np.int64(6321363049),\n",
       " np.int64(7256313856),\n",
       " np.int64(8303765625),\n",
       " np.int64(9474296896),\n",
       " np.int64(10779215329),\n",
       " np.int64(12230590464),\n",
       " np.int64(13841287201),\n",
       " np.int64(15625000000)]"
      ]
     },
     "execution_count": 134,
     "metadata": {},
     "output_type": "execute_result"
    }
   ],
   "source": [
    "%%time\n",
    "rdd3.collect()"
   ]
  },
  {
   "cell_type": "code",
   "execution_count": 135,
   "id": "09e538a8-5c44-4a05-80a5-3470d5979edd",
   "metadata": {},
   "outputs": [
    {
     "data": {
      "text/plain": [
       "PythonRDD[20] at RDD at PythonRDD.scala:56"
      ]
     },
     "execution_count": 135,
     "metadata": {},
     "output_type": "execute_result"
    }
   ],
   "source": [
    "rdd1.cache()"
   ]
  },
  {
   "cell_type": "code",
   "execution_count": 136,
   "id": "dd280b13-df7e-4761-a40a-ebb72cfc0cf7",
   "metadata": {},
   "outputs": [
    {
     "name": "stdout",
     "output_type": "stream",
     "text": [
      "CPU times: user 888 μs, sys: 14.3 ms, total: 15.2 ms\n",
      "Wall time: 393 ms\n"
     ]
    },
    {
     "data": {
      "text/plain": [
       "[np.float64(0.5),\n",
       " np.float64(2.0),\n",
       " np.float64(4.5),\n",
       " np.float64(8.0),\n",
       " np.float64(12.5),\n",
       " np.float64(18.0),\n",
       " np.float64(24.5),\n",
       " np.float64(32.0),\n",
       " np.float64(40.5),\n",
       " np.float64(50.0),\n",
       " np.float64(60.5),\n",
       " np.float64(72.0),\n",
       " np.float64(84.5),\n",
       " np.float64(98.0),\n",
       " np.float64(112.5),\n",
       " np.float64(128.0),\n",
       " np.float64(144.5),\n",
       " np.float64(162.0),\n",
       " np.float64(180.5),\n",
       " np.float64(200.0),\n",
       " np.float64(220.5),\n",
       " np.float64(242.0),\n",
       " np.float64(264.5),\n",
       " np.float64(288.0),\n",
       " np.float64(312.5),\n",
       " np.float64(338.0),\n",
       " np.float64(364.5),\n",
       " np.float64(392.0),\n",
       " np.float64(420.5),\n",
       " np.float64(450.0),\n",
       " np.float64(480.5),\n",
       " np.float64(512.0),\n",
       " np.float64(544.5),\n",
       " np.float64(578.0),\n",
       " np.float64(612.5),\n",
       " np.float64(648.0),\n",
       " np.float64(684.5),\n",
       " np.float64(722.0),\n",
       " np.float64(760.5),\n",
       " np.float64(800.0),\n",
       " np.float64(840.5),\n",
       " np.float64(882.0),\n",
       " np.float64(924.5),\n",
       " np.float64(968.0),\n",
       " np.float64(1012.5),\n",
       " np.float64(1058.0),\n",
       " np.float64(1104.5),\n",
       " np.float64(1152.0),\n",
       " np.float64(1200.5),\n",
       " np.float64(1250.0)]"
      ]
     },
     "execution_count": 136,
     "metadata": {},
     "output_type": "execute_result"
    }
   ],
   "source": [
    "%%time\n",
    "rdd4.collect()"
   ]
  },
  {
   "cell_type": "code",
   "execution_count": 137,
   "id": "c0fd6473-1681-4385-8a4d-7cc4834e3266",
   "metadata": {},
   "outputs": [
    {
     "name": "stdout",
     "output_type": "stream",
     "text": [
      "CPU times: user 0 ns, sys: 11.1 ms, total: 11.1 ms\n",
      "Wall time: 202 ms\n"
     ]
    },
    {
     "data": {
      "text/plain": [
       "[np.float64(0.5),\n",
       " np.float64(2.0),\n",
       " np.float64(4.5),\n",
       " np.float64(8.0),\n",
       " np.float64(12.5),\n",
       " np.float64(18.0),\n",
       " np.float64(24.5),\n",
       " np.float64(32.0),\n",
       " np.float64(40.5),\n",
       " np.float64(50.0),\n",
       " np.float64(60.5),\n",
       " np.float64(72.0),\n",
       " np.float64(84.5),\n",
       " np.float64(98.0),\n",
       " np.float64(112.5),\n",
       " np.float64(128.0),\n",
       " np.float64(144.5),\n",
       " np.float64(162.0),\n",
       " np.float64(180.5),\n",
       " np.float64(200.0),\n",
       " np.float64(220.5),\n",
       " np.float64(242.0),\n",
       " np.float64(264.5),\n",
       " np.float64(288.0),\n",
       " np.float64(312.5),\n",
       " np.float64(338.0),\n",
       " np.float64(364.5),\n",
       " np.float64(392.0),\n",
       " np.float64(420.5),\n",
       " np.float64(450.0),\n",
       " np.float64(480.5),\n",
       " np.float64(512.0),\n",
       " np.float64(544.5),\n",
       " np.float64(578.0),\n",
       " np.float64(612.5),\n",
       " np.float64(648.0),\n",
       " np.float64(684.5),\n",
       " np.float64(722.0),\n",
       " np.float64(760.5),\n",
       " np.float64(800.0),\n",
       " np.float64(840.5),\n",
       " np.float64(882.0),\n",
       " np.float64(924.5),\n",
       " np.float64(968.0),\n",
       " np.float64(1012.5),\n",
       " np.float64(1058.0),\n",
       " np.float64(1104.5),\n",
       " np.float64(1152.0),\n",
       " np.float64(1200.5),\n",
       " np.float64(1250.0)]"
      ]
     },
     "execution_count": 137,
     "metadata": {},
     "output_type": "execute_result"
    }
   ],
   "source": [
    "%%time\n",
    "rdd4.collect()"
   ]
  },
  {
   "cell_type": "code",
   "execution_count": 138,
   "id": "cdf029b0-d4d0-4b79-ac98-d06fa63bfccd",
   "metadata": {},
   "outputs": [
    {
     "name": "stdout",
     "output_type": "stream",
     "text": [
      "CPU times: user 0 ns, sys: 13.9 ms, total: 13.9 ms\n",
      "Wall time: 264 ms\n"
     ]
    },
    {
     "data": {
      "text/plain": [
       "[np.int64(1),\n",
       " np.int64(64),\n",
       " np.int64(729),\n",
       " np.int64(4096),\n",
       " np.int64(15625),\n",
       " np.int64(46656),\n",
       " np.int64(117649),\n",
       " np.int64(262144),\n",
       " np.int64(531441),\n",
       " np.int64(1000000),\n",
       " np.int64(1771561),\n",
       " np.int64(2985984),\n",
       " np.int64(4826809),\n",
       " np.int64(7529536),\n",
       " np.int64(11390625),\n",
       " np.int64(16777216),\n",
       " np.int64(24137569),\n",
       " np.int64(34012224),\n",
       " np.int64(47045881),\n",
       " np.int64(64000000),\n",
       " np.int64(85766121),\n",
       " np.int64(113379904),\n",
       " np.int64(148035889),\n",
       " np.int64(191102976),\n",
       " np.int64(244140625),\n",
       " np.int64(308915776),\n",
       " np.int64(387420489),\n",
       " np.int64(481890304),\n",
       " np.int64(594823321),\n",
       " np.int64(729000000),\n",
       " np.int64(887503681),\n",
       " np.int64(1073741824),\n",
       " np.int64(1291467969),\n",
       " np.int64(1544804416),\n",
       " np.int64(1838265625),\n",
       " np.int64(2176782336),\n",
       " np.int64(2565726409),\n",
       " np.int64(3010936384),\n",
       " np.int64(3518743761),\n",
       " np.int64(4096000000),\n",
       " np.int64(4750104241),\n",
       " np.int64(5489031744),\n",
       " np.int64(6321363049),\n",
       " np.int64(7256313856),\n",
       " np.int64(8303765625),\n",
       " np.int64(9474296896),\n",
       " np.int64(10779215329),\n",
       " np.int64(12230590464),\n",
       " np.int64(13841287201),\n",
       " np.int64(15625000000)]"
      ]
     },
     "execution_count": 138,
     "metadata": {},
     "output_type": "execute_result"
    }
   ],
   "source": [
    "%%time\n",
    "rdd3.collect()"
   ]
  },
  {
   "cell_type": "code",
   "execution_count": null,
   "id": "eee37c87-1b82-4e8c-b736-a783531104ed",
   "metadata": {},
   "outputs": [],
   "source": []
  }
 ],
 "metadata": {
  "kernelspec": {
   "display_name": "Python 3 (ipykernel)",
   "language": "python",
   "name": "python3"
  },
  "language_info": {
   "codemirror_mode": {
    "name": "ipython",
    "version": 3
   },
   "file_extension": ".py",
   "mimetype": "text/x-python",
   "name": "python",
   "nbconvert_exporter": "python",
   "pygments_lexer": "ipython3",
   "version": "3.13.5"
  }
 },
 "nbformat": 4,
 "nbformat_minor": 5
}
