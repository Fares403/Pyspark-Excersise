{
 "cells": [
  {
   "cell_type": "code",
   "execution_count": 160,
   "id": "4d669244-8b6f-417d-80fd-95f5df635123",
   "metadata": {},
   "outputs": [],
   "source": [
    "from pyspark.sql import SparkSession\n"
   ]
  },
  {
   "cell_type": "code",
   "execution_count": 161,
   "id": "a5a9c9eb-79de-4e44-905c-b86cf7c5e992",
   "metadata": {},
   "outputs": [],
   "source": [
    "spark = SparkSession.builder.getOrCreate()"
   ]
  },
  {
   "cell_type": "code",
   "execution_count": 162,
   "id": "e726c6ba-ba23-4c98-bb4e-03c873639818",
   "metadata": {},
   "outputs": [],
   "source": [
    "sc = spark.sparkContext"
   ]
  },
  {
   "cell_type": "code",
   "execution_count": 163,
   "id": "bc34cd33-deee-4197-9dd7-9621cd9af952",
   "metadata": {},
   "outputs": [],
   "source": [
    "df = spark.read.parquet('sf-airbnb-clean.parquet/')"
   ]
  },
  {
   "cell_type": "code",
   "execution_count": 164,
   "id": "ddb59ee0-f84e-4d7b-bfdb-5bcfda0fbb4a",
   "metadata": {},
   "outputs": [
    {
     "name": "stdout",
     "output_type": "stream",
     "text": [
      "root\n",
      " |-- host_is_superhost: string (nullable = true)\n",
      " |-- cancellation_policy: string (nullable = true)\n",
      " |-- instant_bookable: string (nullable = true)\n",
      " |-- host_total_listings_count: double (nullable = true)\n",
      " |-- neighbourhood_cleansed: string (nullable = true)\n",
      " |-- latitude: double (nullable = true)\n",
      " |-- longitude: double (nullable = true)\n",
      " |-- property_type: string (nullable = true)\n",
      " |-- room_type: string (nullable = true)\n",
      " |-- accommodates: double (nullable = true)\n",
      " |-- bathrooms: double (nullable = true)\n",
      " |-- bedrooms: double (nullable = true)\n",
      " |-- beds: double (nullable = true)\n",
      " |-- bed_type: string (nullable = true)\n",
      " |-- minimum_nights: double (nullable = true)\n",
      " |-- number_of_reviews: double (nullable = true)\n",
      " |-- review_scores_rating: double (nullable = true)\n",
      " |-- review_scores_accuracy: double (nullable = true)\n",
      " |-- review_scores_cleanliness: double (nullable = true)\n",
      " |-- review_scores_checkin: double (nullable = true)\n",
      " |-- review_scores_communication: double (nullable = true)\n",
      " |-- review_scores_location: double (nullable = true)\n",
      " |-- review_scores_value: double (nullable = true)\n",
      " |-- price: double (nullable = true)\n",
      " |-- bedrooms_na: double (nullable = true)\n",
      " |-- bathrooms_na: double (nullable = true)\n",
      " |-- beds_na: double (nullable = true)\n",
      " |-- review_scores_rating_na: double (nullable = true)\n",
      " |-- review_scores_accuracy_na: double (nullable = true)\n",
      " |-- review_scores_cleanliness_na: double (nullable = true)\n",
      " |-- review_scores_checkin_na: double (nullable = true)\n",
      " |-- review_scores_communication_na: double (nullable = true)\n",
      " |-- review_scores_location_na: double (nullable = true)\n",
      " |-- review_scores_value_na: double (nullable = true)\n",
      "\n"
     ]
    }
   ],
   "source": [
    "df.printSchema()"
   ]
  },
  {
   "cell_type": "code",
   "execution_count": 165,
   "id": "cf702fb7-eb04-40a5-afbd-0d58152bd9dd",
   "metadata": {},
   "outputs": [
    {
     "name": "stdout",
     "output_type": "stream",
     "text": [
      "+---------+--------+-----+\n",
      "|bathrooms|bedrooms|price|\n",
      "+---------+--------+-----+\n",
      "|      1.0|     1.0|170.0|\n",
      "|      1.0|     2.0|235.0|\n",
      "|      4.0|     1.0| 65.0|\n",
      "|      4.0|     1.0| 65.0|\n",
      "|      1.5|     2.0|785.0|\n",
      "|      1.0|     2.0|255.0|\n",
      "|      1.0|     1.0|139.0|\n",
      "|      1.0|     1.0|135.0|\n",
      "|      1.0|     2.0|265.0|\n",
      "|      1.0|     3.0|177.0|\n",
      "|      2.0|     3.0|194.0|\n",
      "|      1.5|     1.0|139.0|\n",
      "|      4.0|     1.0| 85.0|\n",
      "|      3.0|     1.0| 85.0|\n",
      "|      1.0|     1.0| 79.0|\n",
      "|      1.0|     2.0|136.0|\n",
      "|      1.0|     1.0|215.0|\n",
      "|      2.0|     2.0|450.0|\n",
      "|      1.0|     0.0|107.0|\n",
      "|      1.0|     1.0|110.0|\n",
      "+---------+--------+-----+\n",
      "only showing top 20 rows\n"
     ]
    }
   ],
   "source": [
    "df.select('bathrooms' , 'bedrooms','price').show()"
   ]
  },
  {
   "cell_type": "code",
   "execution_count": 166,
   "id": "6b9e56ad-5978-4a9b-ba26-bea577fb6db0",
   "metadata": {},
   "outputs": [],
   "source": [
    "trainDF , testDF = df.randomSplit([0.8 , 0.2], seed=42)"
   ]
  },
  {
   "cell_type": "code",
   "execution_count": 167,
   "id": "8d08c5f4-04b7-4183-833f-5f3b75b88448",
   "metadata": {},
   "outputs": [
    {
     "data": {
      "text/html": [
       "<style>pre {white-space: pre !important; }</style>"
      ],
      "text/plain": [
       "<IPython.core.display.HTML object>"
      ]
     },
     "metadata": {},
     "output_type": "display_data"
    }
   ],
   "source": [
    "#Dispaly notebook cell with horizontal Scroll bar\n",
    "from IPython.display import display , HTML\n",
    "display(HTML(\"<style>pre {white-space: pre !important; }</style>\"))"
   ]
  },
  {
   "cell_type": "code",
   "execution_count": 168,
   "id": "f0fa3a40-e872-42bd-a471-2bfc3f6ad83a",
   "metadata": {
    "scrolled": true
   },
   "outputs": [
    {
     "name": "stdout",
     "output_type": "stream",
     "text": [
      "+-----------------+-------------------+----------------+-------------------------+----------------------+--------+----------+-------------+---------------+------------+---------+--------+----+-------------+--------------+-----------------+--------------------+----------------------+-------------------------+---------------------+---------------------------+----------------------+-------------------+-----+-----------+------------+-------+-----------------------+-------------------------+----------------------------+------------------------+------------------------------+-------------------------+----------------------+\n",
      "|host_is_superhost|cancellation_policy|instant_bookable|host_total_listings_count|neighbourhood_cleansed|latitude|longitude |property_type|room_type      |accommodates|bathrooms|bedrooms|beds|bed_type     |minimum_nights|number_of_reviews|review_scores_rating|review_scores_accuracy|review_scores_cleanliness|review_scores_checkin|review_scores_communication|review_scores_location|review_scores_value|price|bedrooms_na|bathrooms_na|beds_na|review_scores_rating_na|review_scores_accuracy_na|review_scores_cleanliness_na|review_scores_checkin_na|review_scores_communication_na|review_scores_location_na|review_scores_value_na|\n",
      "+-----------------+-------------------+----------------+-------------------------+----------------------+--------+----------+-------------+---------------+------------+---------+--------+----+-------------+--------------+-----------------+--------------------+----------------------+-------------------------+---------------------+---------------------------+----------------------+-------------------+-----+-----------+------------+-------+-----------------------+-------------------------+----------------------------+------------------------+------------------------------+-------------------------+----------------------+\n",
      "|f                |flexible           |f               |0.0                      |Diamond Heights       |37.7431 |-122.44509|House        |Private room   |2.0         |1.0      |1.0     |1.0 |Real Bed     |1.0           |1.0              |100.0               |10.0                  |10.0                     |10.0                 |10.0                       |10.0                  |10.0               |200.0|0.0        |0.0         |0.0    |0.0                    |0.0                      |0.0                         |0.0                     |0.0                           |0.0                      |0.0                   |\n",
      "|f                |flexible           |f               |1.0                      |Bayview               |37.71178|-122.38762|Apartment    |Entire home/apt|3.0         |1.0      |1.0     |1.0 |Real Bed     |90.0          |13.0             |88.0                |10.0                  |9.0                      |8.0                  |9.0                        |10.0                  |10.0               |130.0|0.0        |0.0         |0.0    |0.0                    |0.0                      |0.0                         |0.0                     |0.0                           |0.0                      |0.0                   |\n",
      "|f                |flexible           |f               |1.0                      |Bayview               |37.72241|-122.39829|Guest suite  |Entire home/apt|4.0         |1.0      |1.0     |3.0 |Real Bed     |1.0           |12.0             |98.0                |10.0                  |10.0                     |10.0                 |10.0                       |9.0                   |10.0               |95.0 |0.0        |0.0         |0.0    |0.0                    |0.0                      |0.0                         |0.0                     |0.0                           |0.0                      |0.0                   |\n",
      "|f                |flexible           |f               |1.0                      |Bayview               |37.72979|-122.37094|Apartment    |Entire home/apt|2.0         |1.0      |1.0     |1.0 |Real Bed     |180.0         |1.0              |100.0               |10.0                  |10.0                     |10.0                 |10.0                       |10.0                  |10.0               |250.0|0.0        |0.0         |0.0    |0.0                    |0.0                      |0.0                         |0.0                     |0.0                           |0.0                      |0.0                   |\n",
      "|f                |flexible           |f               |1.0                      |Bayview               |37.73072|-122.38907|House        |Entire home/apt|6.0         |3.0      |3.0     |3.0 |Real Bed     |30.0          |0.0              |98.0                |10.0                  |10.0                     |10.0                 |10.0                       |10.0                  |10.0               |250.0|0.0        |0.0         |0.0    |1.0                    |1.0                      |1.0                         |1.0                     |1.0                           |1.0                      |1.0                   |\n",
      "|f                |flexible           |f               |1.0                      |Bayview               |37.7352 |-122.38566|House        |Private room   |2.0         |1.0      |1.0     |1.0 |Real Bed     |2.0           |100.0            |96.0                |10.0                  |9.0                      |10.0                 |10.0                       |9.0                   |10.0               |115.0|0.0        |0.0         |0.0    |0.0                    |0.0                      |0.0                         |0.0                     |0.0                           |0.0                      |0.0                   |\n",
      "|f                |flexible           |f               |1.0                      |Bernal Heights        |37.7326 |-122.41423|Condominium  |Private room   |2.0         |1.5      |1.0     |1.0 |Real Bed     |2.0           |36.0             |96.0                |10.0                  |10.0                     |10.0                 |10.0                       |10.0                  |10.0               |105.0|0.0        |0.0         |0.0    |0.0                    |0.0                      |0.0                         |0.0                     |0.0                           |0.0                      |0.0                   |\n",
      "|f                |flexible           |f               |1.0                      |Bernal Heights        |37.73615|-122.41245|House        |Private room   |2.0         |1.0      |1.0     |2.0 |Real Bed     |1.0           |194.0            |91.0                |9.0                   |9.0                      |10.0                 |10.0                       |9.0                   |9.0                |86.0 |0.0        |0.0         |0.0    |0.0                    |0.0                      |0.0                         |0.0                     |0.0                           |0.0                      |0.0                   |\n",
      "|f                |flexible           |f               |1.0                      |Bernal Heights        |37.73765|-122.41247|Apartment    |Entire home/apt|4.0         |1.0      |1.0     |2.0 |Real Bed     |2.0           |4.0              |95.0                |10.0                  |10.0                     |10.0                 |9.0                        |9.0                   |10.0               |100.0|0.0        |0.0         |0.0    |0.0                    |0.0                      |0.0                         |0.0                     |0.0                           |0.0                      |0.0                   |\n",
      "|f                |flexible           |f               |1.0                      |Bernal Heights        |37.73826|-122.41693|House        |Entire home/apt|4.0         |1.0      |2.0     |2.0 |Real Bed     |4.0           |2.0              |100.0               |10.0                  |10.0                     |10.0                 |10.0                       |10.0                  |10.0               |220.0|0.0        |0.0         |0.0    |0.0                    |0.0                      |0.0                         |0.0                     |0.0                           |0.0                      |0.0                   |\n",
      "|f                |flexible           |f               |1.0                      |Bernal Heights        |37.73994|-122.41502|Guest suite  |Entire home/apt|3.0         |1.0      |1.0     |2.0 |Real Bed     |30.0          |2.0              |100.0               |10.0                  |9.0                      |10.0                 |10.0                       |10.0                  |10.0               |110.0|0.0        |0.0         |0.0    |0.0                    |0.0                      |0.0                         |0.0                     |0.0                           |0.0                      |0.0                   |\n",
      "|f                |flexible           |f               |1.0                      |Bernal Heights        |37.7418 |-122.41674|House        |Private room   |3.0         |1.0      |1.0     |1.0 |Real Bed     |2.0           |5.0              |100.0               |10.0                  |10.0                     |10.0                 |10.0                       |10.0                  |10.0               |130.0|0.0        |0.0         |0.0    |0.0                    |0.0                      |0.0                         |0.0                     |0.0                           |0.0                      |0.0                   |\n",
      "|f                |flexible           |f               |1.0                      |Bernal Heights        |37.74191|-122.40843|House        |Private room   |2.0         |1.0      |1.0     |1.0 |Real Bed     |1.0           |1.0              |100.0               |10.0                  |10.0                     |10.0                 |10.0                       |10.0                  |10.0               |250.0|0.0        |0.0         |0.0    |0.0                    |0.0                      |0.0                         |0.0                     |0.0                           |0.0                      |0.0                   |\n",
      "|f                |flexible           |f               |1.0                      |Bernal Heights        |37.7422 |-122.42091|Guest suite  |Private room   |4.0         |1.0      |1.0     |3.0 |Real Bed     |3.0           |49.0             |95.0                |10.0                  |10.0                     |10.0                 |10.0                       |10.0                  |9.0                |100.0|0.0        |0.0         |0.0    |0.0                    |0.0                      |0.0                         |0.0                     |0.0                           |0.0                      |0.0                   |\n",
      "|f                |flexible           |f               |1.0                      |Bernal Heights        |37.74387|-122.42338|Apartment    |Entire home/apt|4.0         |2.0      |3.0     |2.0 |Real Bed     |30.0          |10.0             |98.0                |10.0                  |10.0                     |10.0                 |10.0                       |10.0                  |10.0               |350.0|0.0        |0.0         |0.0    |0.0                    |0.0                      |0.0                         |0.0                     |0.0                           |0.0                      |0.0                   |\n",
      "|f                |flexible           |f               |1.0                      |Bernal Heights        |37.74494|-122.41034|House        |Entire home/apt|4.0         |2.0      |2.0     |2.0 |Pull-out Sofa|30.0          |0.0              |98.0                |10.0                  |10.0                     |10.0                 |10.0                       |10.0                  |10.0               |200.0|0.0        |0.0         |0.0    |1.0                    |1.0                      |1.0                         |1.0                     |1.0                           |1.0                      |1.0                   |\n",
      "|f                |flexible           |f               |1.0                      |Bernal Heights        |37.74552|-122.41195|Apartment    |Entire home/apt|2.0         |2.0      |1.0     |1.0 |Real Bed     |2.0           |4.0              |100.0               |10.0                  |10.0                     |10.0                 |10.0                       |10.0                  |10.0               |250.0|0.0        |0.0         |0.0    |0.0                    |0.0                      |0.0                         |0.0                     |0.0                           |0.0                      |0.0                   |\n",
      "|f                |flexible           |f               |1.0                      |Bernal Heights        |37.74605|-122.42209|Guest suite  |Entire home/apt|4.0         |1.0      |2.0     |3.0 |Real Bed     |2.0           |0.0              |98.0                |10.0                  |10.0                     |10.0                 |10.0                       |10.0                  |10.0               |299.0|0.0        |0.0         |0.0    |1.0                    |1.0                      |1.0                         |1.0                     |1.0                           |1.0                      |1.0                   |\n",
      "|f                |flexible           |f               |1.0                      |Castro/Upper Market   |37.758  |-122.42991|Condominium  |Private room   |2.0         |1.5      |1.0     |1.0 |Real Bed     |2.0           |27.0             |100.0               |10.0                  |10.0                     |10.0                 |10.0                       |10.0                  |10.0               |95.0 |0.0        |0.0         |0.0    |0.0                    |0.0                      |0.0                         |0.0                     |0.0                           |0.0                      |0.0                   |\n",
      "|f                |flexible           |f               |1.0                      |Castro/Upper Market   |37.75881|-122.44118|House        |Entire home/apt|5.0         |2.5      |3.0     |3.0 |Real Bed     |2.0           |7.0              |100.0               |10.0                  |10.0                     |10.0                 |10.0                       |10.0                  |10.0               |500.0|0.0        |0.0         |0.0    |0.0                    |0.0                      |0.0                         |0.0                     |0.0                           |0.0                      |0.0                   |\n",
      "+-----------------+-------------------+----------------+-------------------------+----------------------+--------+----------+-------------+---------------+------------+---------+--------+----+-------------+--------------+-----------------+--------------------+----------------------+-------------------------+---------------------+---------------------------+----------------------+-------------------+-----+-----------+------------+-------+-----------------------+-------------------------+----------------------------+------------------------+------------------------------+-------------------------+----------------------+\n",
      "only showing top 20 rows\n"
     ]
    }
   ],
   "source": [
    "trainDF.show(truncate=False)"
   ]
  },
  {
   "cell_type": "code",
   "execution_count": 169,
   "id": "6b8b2cac-e657-4077-9fe3-e22c9def9de6",
   "metadata": {},
   "outputs": [],
   "source": [
    "from pyspark.ml.feature import VectorAssembler"
   ]
  },
  {
   "cell_type": "code",
   "execution_count": 170,
   "id": "b3f44e9d-5584-4f9c-8a9b-5d5de92b7e53",
   "metadata": {},
   "outputs": [],
   "source": [
    "vecAssembler = VectorAssembler(inputCols=['bathrooms','bedrooms'] , outputCol='features')"
   ]
  },
  {
   "cell_type": "code",
   "execution_count": 171,
   "id": "78893e4e-a453-4977-8480-04a39798df42",
   "metadata": {},
   "outputs": [],
   "source": [
    "vectrainDF = vecAssembler.transform(trainDF)"
   ]
  },
  {
   "cell_type": "code",
   "execution_count": 172,
   "id": "fe38b312-3fb0-46c9-8e3b-77e469b41f53",
   "metadata": {},
   "outputs": [
    {
     "name": "stdout",
     "output_type": "stream",
     "text": [
      "root\n",
      " |-- host_is_superhost: string (nullable = true)\n",
      " |-- cancellation_policy: string (nullable = true)\n",
      " |-- instant_bookable: string (nullable = true)\n",
      " |-- host_total_listings_count: double (nullable = true)\n",
      " |-- neighbourhood_cleansed: string (nullable = true)\n",
      " |-- latitude: double (nullable = true)\n",
      " |-- longitude: double (nullable = true)\n",
      " |-- property_type: string (nullable = true)\n",
      " |-- room_type: string (nullable = true)\n",
      " |-- accommodates: double (nullable = true)\n",
      " |-- bathrooms: double (nullable = true)\n",
      " |-- bedrooms: double (nullable = true)\n",
      " |-- beds: double (nullable = true)\n",
      " |-- bed_type: string (nullable = true)\n",
      " |-- minimum_nights: double (nullable = true)\n",
      " |-- number_of_reviews: double (nullable = true)\n",
      " |-- review_scores_rating: double (nullable = true)\n",
      " |-- review_scores_accuracy: double (nullable = true)\n",
      " |-- review_scores_cleanliness: double (nullable = true)\n",
      " |-- review_scores_checkin: double (nullable = true)\n",
      " |-- review_scores_communication: double (nullable = true)\n",
      " |-- review_scores_location: double (nullable = true)\n",
      " |-- review_scores_value: double (nullable = true)\n",
      " |-- price: double (nullable = true)\n",
      " |-- bedrooms_na: double (nullable = true)\n",
      " |-- bathrooms_na: double (nullable = true)\n",
      " |-- beds_na: double (nullable = true)\n",
      " |-- review_scores_rating_na: double (nullable = true)\n",
      " |-- review_scores_accuracy_na: double (nullable = true)\n",
      " |-- review_scores_cleanliness_na: double (nullable = true)\n",
      " |-- review_scores_checkin_na: double (nullable = true)\n",
      " |-- review_scores_communication_na: double (nullable = true)\n",
      " |-- review_scores_location_na: double (nullable = true)\n",
      " |-- review_scores_value_na: double (nullable = true)\n",
      " |-- features: vector (nullable = true)\n",
      "\n"
     ]
    }
   ],
   "source": [
    "vectrainDF.printSchema()"
   ]
  },
  {
   "cell_type": "code",
   "execution_count": 173,
   "id": "ffa21ea1-43e1-4a0d-8920-2bec30c5ea9a",
   "metadata": {},
   "outputs": [
    {
     "name": "stdout",
     "output_type": "stream",
     "text": [
      "+---------+--------+---------+-----+\n",
      "|bathrooms|bedrooms| features|price|\n",
      "+---------+--------+---------+-----+\n",
      "|      1.0|     1.0|[1.0,1.0]|200.0|\n",
      "|      1.0|     1.0|[1.0,1.0]|130.0|\n",
      "|      1.0|     1.0|[1.0,1.0]| 95.0|\n",
      "|      1.0|     1.0|[1.0,1.0]|250.0|\n",
      "|      3.0|     3.0|[3.0,3.0]|250.0|\n",
      "|      1.0|     1.0|[1.0,1.0]|115.0|\n",
      "|      1.5|     1.0|[1.5,1.0]|105.0|\n",
      "|      1.0|     1.0|[1.0,1.0]| 86.0|\n",
      "|      1.0|     1.0|[1.0,1.0]|100.0|\n",
      "|      1.0|     2.0|[1.0,2.0]|220.0|\n",
      "|      1.0|     1.0|[1.0,1.0]|110.0|\n",
      "|      1.0|     1.0|[1.0,1.0]|130.0|\n",
      "|      1.0|     1.0|[1.0,1.0]|250.0|\n",
      "|      1.0|     1.0|[1.0,1.0]|100.0|\n",
      "|      2.0|     3.0|[2.0,3.0]|350.0|\n",
      "|      2.0|     2.0|[2.0,2.0]|200.0|\n",
      "|      2.0|     1.0|[2.0,1.0]|250.0|\n",
      "|      1.0|     2.0|[1.0,2.0]|299.0|\n",
      "|      1.5|     1.0|[1.5,1.0]| 95.0|\n",
      "|      2.5|     3.0|[2.5,3.0]|500.0|\n",
      "+---------+--------+---------+-----+\n",
      "only showing top 20 rows\n"
     ]
    },
    {
     "name": "stderr",
     "output_type": "stream",
     "text": [
      "                                                                                "
     ]
    }
   ],
   "source": [
    "vectrainDF.select('bathrooms' ,'bedrooms','features','price').show()"
   ]
  },
  {
   "cell_type": "code",
   "execution_count": 174,
   "id": "e9598895-26e7-4414-978d-b3eff22912f3",
   "metadata": {},
   "outputs": [],
   "source": [
    "from pyspark.ml.regression import LinearRegression"
   ]
  },
  {
   "cell_type": "code",
   "execution_count": 175,
   "id": "5d61b779-c3df-4e98-bf13-3730fa678fb1",
   "metadata": {},
   "outputs": [],
   "source": [
    "lr = LinearRegression(featuresCol='features',labelCol='price',predictionCol='prediction') "
   ]
  },
  {
   "cell_type": "code",
   "execution_count": 176,
   "id": "d3630f1b-6529-41fd-af09-ef26d0f36071",
   "metadata": {},
   "outputs": [
    {
     "name": "stderr",
     "output_type": "stream",
     "text": [
      "25/10/22 01:39:33 WARN Instrumentation: [b9becafb] regParam is zero, which might cause numerical instability and overfitting.\n"
     ]
    }
   ],
   "source": [
    "lrModel = lr.fit(vectrainDF)"
   ]
  },
  {
   "cell_type": "code",
   "execution_count": 177,
   "id": "4d24d791-2c11-4312-898e-15084706d272",
   "metadata": {},
   "outputs": [],
   "source": [
    "predDF =lrModel.transform(vectrainDF)"
   ]
  },
  {
   "cell_type": "code",
   "execution_count": 178,
   "id": "c50465c2-ca48-4274-a6b4-f9ce711769d1",
   "metadata": {},
   "outputs": [
    {
     "name": "stdout",
     "output_type": "stream",
     "text": [
      "+-----+------------------+\n",
      "|price|        prediction|\n",
      "+-----+------------------+\n",
      "|200.0|167.92639278679684|\n",
      "|130.0|167.92639278679684|\n",
      "| 95.0|167.92639278679684|\n",
      "|250.0|167.92639278679684|\n",
      "|250.0| 435.4958619420832|\n",
      "|115.0|167.92639278679684|\n",
      "|105.0|175.66710604765103|\n",
      "| 86.0|167.92639278679684|\n",
      "|100.0|167.92639278679684|\n",
      "|220.0|286.22970084273163|\n",
      "|110.0|167.92639278679684|\n",
      "|130.0|167.92639278679684|\n",
      "|250.0|167.92639278679684|\n",
      "|100.0|167.92639278679684|\n",
      "|350.0| 420.0144354203748|\n",
      "|200.0|   301.71112736444|\n",
      "|250.0|183.40781930850522|\n",
      "|299.0|286.22970084273163|\n",
      "| 95.0|175.66710604765103|\n",
      "|500.0|  427.755148681229|\n",
      "+-----+------------------+\n",
      "only showing top 20 rows\n"
     ]
    }
   ],
   "source": [
    "predDF.select('price','prediction').show()"
   ]
  },
  {
   "cell_type": "code",
   "execution_count": 179,
   "id": "dd8572a4-e959-41b9-938c-eff646cb7959",
   "metadata": {},
   "outputs": [],
   "source": [
    "#prediction for test data\n",
    "\n",
    "vectestDF = vecAssembler.transform(testDF)"
   ]
  },
  {
   "cell_type": "code",
   "execution_count": 180,
   "id": "073cdeac-b655-4114-8e52-d84dbdc30e56",
   "metadata": {},
   "outputs": [],
   "source": [
    "predDFTest = lrModel.transform(vectestDF)"
   ]
  },
  {
   "cell_type": "code",
   "execution_count": 181,
   "id": "7ba20819-5c12-4375-ad5e-5a65527ba079",
   "metadata": {},
   "outputs": [
    {
     "name": "stdout",
     "output_type": "stream",
     "text": [
      "root\n",
      " |-- host_is_superhost: string (nullable = true)\n",
      " |-- cancellation_policy: string (nullable = true)\n",
      " |-- instant_bookable: string (nullable = true)\n",
      " |-- host_total_listings_count: double (nullable = true)\n",
      " |-- neighbourhood_cleansed: string (nullable = true)\n",
      " |-- latitude: double (nullable = true)\n",
      " |-- longitude: double (nullable = true)\n",
      " |-- property_type: string (nullable = true)\n",
      " |-- room_type: string (nullable = true)\n",
      " |-- accommodates: double (nullable = true)\n",
      " |-- bathrooms: double (nullable = true)\n",
      " |-- bedrooms: double (nullable = true)\n",
      " |-- beds: double (nullable = true)\n",
      " |-- bed_type: string (nullable = true)\n",
      " |-- minimum_nights: double (nullable = true)\n",
      " |-- number_of_reviews: double (nullable = true)\n",
      " |-- review_scores_rating: double (nullable = true)\n",
      " |-- review_scores_accuracy: double (nullable = true)\n",
      " |-- review_scores_cleanliness: double (nullable = true)\n",
      " |-- review_scores_checkin: double (nullable = true)\n",
      " |-- review_scores_communication: double (nullable = true)\n",
      " |-- review_scores_location: double (nullable = true)\n",
      " |-- review_scores_value: double (nullable = true)\n",
      " |-- price: double (nullable = true)\n",
      " |-- bedrooms_na: double (nullable = true)\n",
      " |-- bathrooms_na: double (nullable = true)\n",
      " |-- beds_na: double (nullable = true)\n",
      " |-- review_scores_rating_na: double (nullable = true)\n",
      " |-- review_scores_accuracy_na: double (nullable = true)\n",
      " |-- review_scores_cleanliness_na: double (nullable = true)\n",
      " |-- review_scores_checkin_na: double (nullable = true)\n",
      " |-- review_scores_communication_na: double (nullable = true)\n",
      " |-- review_scores_location_na: double (nullable = true)\n",
      " |-- review_scores_value_na: double (nullable = true)\n",
      " |-- features: vector (nullable = true)\n",
      " |-- prediction: double (nullable = false)\n",
      "\n"
     ]
    }
   ],
   "source": [
    "predDFTest.printSchema()"
   ]
  },
  {
   "cell_type": "code",
   "execution_count": 182,
   "id": "63425b66-26f1-4bf5-931e-b1a4ba23bcab",
   "metadata": {},
   "outputs": [
    {
     "name": "stdout",
     "output_type": "stream",
     "text": [
      "+------+------------------+\n",
      "| price|        prediction|\n",
      "+------+------------------+\n",
      "|  85.0|167.92639278679684|\n",
      "|  45.0|167.92639278679684|\n",
      "|  70.0|167.92639278679684|\n",
      "| 128.0|167.92639278679684|\n",
      "| 159.0|167.92639278679684|\n",
      "| 250.0|286.22970084273163|\n",
      "|  99.0|167.92639278679684|\n",
      "|  95.0|167.92639278679684|\n",
      "| 100.0|167.92639278679684|\n",
      "|2010.0|167.92639278679684|\n",
      "| 270.0|167.92639278679684|\n",
      "| 500.0| 317.1925538861484|\n",
      "| 125.0| 49.62308473086201|\n",
      "| 210.0| 404.5330088986664|\n",
      "|  60.0|175.66710604765103|\n",
      "| 170.0| 420.0144354203748|\n",
      "| 214.0|167.92639278679684|\n",
      "| 120.0|167.92639278679684|\n",
      "|  82.0|183.40781930850522|\n",
      "| 169.0| 404.5330088986664|\n",
      "+------+------------------+\n",
      "only showing top 20 rows\n"
     ]
    }
   ],
   "source": [
    "predDFTest.select('price','prediction').show()"
   ]
  },
  {
   "cell_type": "code",
   "execution_count": 183,
   "id": "29a5400d-67ba-4d00-8cc4-b6182e111cb3",
   "metadata": {},
   "outputs": [],
   "source": [
    "from pyspark.ml.feature import VectorAssembler\n",
    "from pyspark.ml.regression import LinearRegression\n"
   ]
  },
  {
   "cell_type": "code",
   "execution_count": 184,
   "id": "9f256094-78f2-4660-a1d1-695444e49730",
   "metadata": {},
   "outputs": [
    {
     "name": "stderr",
     "output_type": "stream",
     "text": [
      "25/10/22 01:39:37 WARN Instrumentation: [6901ee9e] regParam is zero, which might cause numerical instability and overfitting.\n"
     ]
    }
   ],
   "source": [
    "VecAssenmb = VectorAssembler(inputCols=['bathrooms','bedrooms'] , outputCol='features')\n",
    "trainvecdf = VecAssenmb.transform(trainDF)\n",
    "lr = LinearRegression(featuresCol='features', labelCol='price')\n",
    "MlModel = lr.fit(trainvecdf)"
   ]
  },
  {
   "cell_type": "code",
   "execution_count": 185,
   "id": "9151e0ef-4288-4b4a-85ea-0f1f68f3616f",
   "metadata": {},
   "outputs": [],
   "source": [
    "testvecdf = VecAssenmb.transform(testDF)"
   ]
  },
  {
   "cell_type": "code",
   "execution_count": 186,
   "id": "bad6d147-4180-456c-98c4-60769a8dc494",
   "metadata": {},
   "outputs": [],
   "source": [
    "pred=MlModel.transform(testvecdf)"
   ]
  },
  {
   "cell_type": "code",
   "execution_count": 187,
   "id": "280180e8-c9e7-4611-af7b-4f9164e850ad",
   "metadata": {},
   "outputs": [
    {
     "name": "stdout",
     "output_type": "stream",
     "text": [
      "+--------+---------+---------+------+------------------+\n",
      "|bedrooms|bathrooms| features| price|        prediction|\n",
      "+--------+---------+---------+------+------------------+\n",
      "|     1.0|      1.0|[1.0,1.0]|  85.0|167.92639278679684|\n",
      "|     1.0|      1.0|[1.0,1.0]|  45.0|167.92639278679684|\n",
      "|     1.0|      1.0|[1.0,1.0]|  70.0|167.92639278679684|\n",
      "|     1.0|      1.0|[1.0,1.0]| 128.0|167.92639278679684|\n",
      "|     1.0|      1.0|[1.0,1.0]| 159.0|167.92639278679684|\n",
      "|     2.0|      1.0|[1.0,2.0]| 250.0|286.22970084273163|\n",
      "|     1.0|      1.0|[1.0,1.0]|  99.0|167.92639278679684|\n",
      "|     1.0|      1.0|[1.0,1.0]|  95.0|167.92639278679684|\n",
      "|     1.0|      1.0|[1.0,1.0]| 100.0|167.92639278679684|\n",
      "|     1.0|      1.0|[1.0,1.0]|2010.0|167.92639278679684|\n",
      "|     1.0|      1.0|[1.0,1.0]| 270.0|167.92639278679684|\n",
      "|     2.0|      3.0|[3.0,2.0]| 500.0| 317.1925538861484|\n",
      "|     0.0|      1.0|[1.0,0.0]| 125.0| 49.62308473086201|\n",
      "|     3.0|      1.0|[1.0,3.0]| 210.0| 404.5330088986664|\n",
      "|     1.0|      1.5|[1.5,1.0]|  60.0|175.66710604765103|\n",
      "|     3.0|      2.0|[2.0,3.0]| 170.0| 420.0144354203748|\n",
      "|     1.0|      1.0|[1.0,1.0]| 214.0|167.92639278679684|\n",
      "|     1.0|      1.0|[1.0,1.0]| 120.0|167.92639278679684|\n",
      "|     1.0|      2.0|[2.0,1.0]|  82.0|183.40781930850522|\n",
      "|     3.0|      1.0|[1.0,3.0]| 169.0| 404.5330088986664|\n",
      "+--------+---------+---------+------+------------------+\n",
      "only showing top 20 rows\n"
     ]
    }
   ],
   "source": [
    "pred.select('bedrooms','bathrooms','features','price','prediction').show()"
   ]
  },
  {
   "cell_type": "code",
   "execution_count": 188,
   "id": "7f61980c-0429-478a-b12d-47882c9ce6a2",
   "metadata": {},
   "outputs": [],
   "source": [
    "VecAssenmb = VectorAssembler(inputCols=['bathrooms','bedrooms'] , outputCol='features')\n",
    "lr = LinearRegression(featuresCol='features', labelCol='price')\n",
    "\n",
    "from pyspark.ml import Pipeline"
   ]
  },
  {
   "cell_type": "code",
   "execution_count": 189,
   "id": "96c433a3-daa2-4136-81f7-b14326c4dbe1",
   "metadata": {},
   "outputs": [],
   "source": [
    "pl = Pipeline(stages=[VecAssenmb,lr])"
   ]
  },
  {
   "cell_type": "code",
   "execution_count": 190,
   "id": "60b7b0bf-47b3-4138-b251-3e9f4238db1a",
   "metadata": {},
   "outputs": [
    {
     "name": "stderr",
     "output_type": "stream",
     "text": [
      "25/10/22 01:39:38 WARN Instrumentation: [73a2ca84] regParam is zero, which might cause numerical instability and overfitting.\n"
     ]
    }
   ],
   "source": [
    "plModel = pl.fit(trainDF)"
   ]
  },
  {
   "cell_type": "code",
   "execution_count": 191,
   "id": "0b6c71e3-7d29-438f-b0ee-c93f176463b7",
   "metadata": {},
   "outputs": [],
   "source": [
    "pred = plModel.transform(testDF)"
   ]
  },
  {
   "cell_type": "code",
   "execution_count": 192,
   "id": "c071d4a6-8463-41cb-b729-0cc46e3b1824",
   "metadata": {},
   "outputs": [
    {
     "name": "stdout",
     "output_type": "stream",
     "text": [
      "+-----------------+-------------------+----------------+-------------------------+----------------------+--------+----------+-------------+---------------+------------+---------+--------+----+--------+--------------+-----------------+--------------------+----------------------+-------------------------+---------------------+---------------------------+----------------------+-------------------+------+-----------+------------+-------+-----------------------+-------------------------+----------------------------+------------------------+------------------------------+-------------------------+----------------------+---------+------------------+\n",
      "|host_is_superhost|cancellation_policy|instant_bookable|host_total_listings_count|neighbourhood_cleansed|latitude| longitude|property_type|      room_type|accommodates|bathrooms|bedrooms|beds|bed_type|minimum_nights|number_of_reviews|review_scores_rating|review_scores_accuracy|review_scores_cleanliness|review_scores_checkin|review_scores_communication|review_scores_location|review_scores_value| price|bedrooms_na|bathrooms_na|beds_na|review_scores_rating_na|review_scores_accuracy_na|review_scores_cleanliness_na|review_scores_checkin_na|review_scores_communication_na|review_scores_location_na|review_scores_value_na| features|        prediction|\n",
      "+-----------------+-------------------+----------------+-------------------------+----------------------+--------+----------+-------------+---------------+------------+---------+--------+----+--------+--------------+-----------------+--------------------+----------------------+-------------------------+---------------------+---------------------------+----------------------+-------------------+------+-----------+------------+-------+-----------------------+-------------------------+----------------------------+------------------------+------------------------------+-------------------------+----------------------+---------+------------------+\n",
      "|                f|           flexible|               f|                      1.0|               Bayview|37.72001|-122.39249|        House|Entire home/apt|         2.0|      1.0|     1.0| 1.0|Real Bed|           2.0|            128.0|                97.0|                  10.0|                     10.0|                 10.0|                       10.0|                   9.0|               10.0|  85.0|        0.0|         0.0|    0.0|                    0.0|                      0.0|                         0.0|                     0.0|                           0.0|                      0.0|                   0.0|[1.0,1.0]|167.92639278679684|\n",
      "|                f|           flexible|               f|                      1.0|               Bayview| 37.7325|-122.39221|        House|   Private room|         1.0|      1.0|     1.0| 1.0|Real Bed|          31.0|              0.0|                98.0|                  10.0|                     10.0|                 10.0|                       10.0|                  10.0|               10.0|  45.0|        0.0|         0.0|    0.0|                    1.0|                      1.0|                         1.0|                     1.0|                           1.0|                      1.0|                   1.0|[1.0,1.0]|167.92639278679684|\n",
      "|                f|           flexible|               f|                      1.0|               Bayview|37.73555|-122.39779|        House|   Private room|         1.0|      1.0|     1.0| 1.0|Real Bed|          30.0|              0.0|                98.0|                  10.0|                     10.0|                 10.0|                       10.0|                  10.0|               10.0|  70.0|        0.0|         0.0|    0.0|                    1.0|                      1.0|                         1.0|                     1.0|                           1.0|                      1.0|                   1.0|[1.0,1.0]|167.92639278679684|\n",
      "|                f|           flexible|               f|                      1.0|        Bernal Heights|37.73905|-122.41269|    Apartment|   Private room|         1.0|      1.0|     1.0| 1.0|Real Bed|          30.0|              1.0|                80.0|                  10.0|                      8.0|                 10.0|                       10.0|                   8.0|               10.0| 128.0|        0.0|         0.0|    0.0|                    0.0|                      0.0|                         0.0|                     0.0|                           0.0|                      0.0|                   0.0|[1.0,1.0]|167.92639278679684|\n",
      "|                f|           flexible|               f|                      1.0|        Bernal Heights|37.74473|-122.41516|        House|   Private room|         1.0|      1.0|     1.0| 1.0|Real Bed|           1.0|              3.0|               100.0|                  10.0|                     10.0|                 10.0|                       10.0|                  10.0|               10.0| 159.0|        0.0|         0.0|    0.0|                    0.0|                      0.0|                         0.0|                     0.0|                           0.0|                      0.0|                   0.0|[1.0,1.0]|167.92639278679684|\n",
      "|                f|           flexible|               f|                      1.0|        Bernal Heights|37.74697|-122.41193|        House|Entire home/apt|         3.0|      1.0|     2.0| 2.0|Real Bed|           2.0|             15.0|                96.0|                  10.0|                     10.0|                 10.0|                       10.0|                  10.0|               10.0| 250.0|        0.0|         0.0|    0.0|                    0.0|                      0.0|                         0.0|                     0.0|                           0.0|                      0.0|                   0.0|[1.0,2.0]|286.22970084273163|\n",
      "|                f|           flexible|               f|                      1.0|   Castro/Upper Market|37.76269|-122.43188|    Apartment|Entire home/apt|         2.0|      1.0|     1.0| 1.0|Real Bed|          30.0|              1.0|               100.0|                  10.0|                     10.0|                 10.0|                       10.0|                  10.0|               10.0|  99.0|        0.0|         0.0|    0.0|                    0.0|                      0.0|                         0.0|                     0.0|                           0.0|                      0.0|                   0.0|[1.0,1.0]|167.92639278679684|\n",
      "|                f|           flexible|               f|                      1.0|             Chinatown|37.79199|-122.40704|    Apartment|Entire home/apt|         3.0|      1.0|     1.0| 3.0|Real Bed|          45.0|              0.0|                98.0|                  10.0|                     10.0|                 10.0|                       10.0|                  10.0|               10.0|  95.0|        0.0|         0.0|    0.0|                    1.0|                      1.0|                         1.0|                     1.0|                           1.0|                      1.0|                   1.0|[1.0,1.0]|167.92639278679684|\n",
      "|                f|           flexible|               f|                      1.0|    Financial District|37.78424|-122.39925|    Apartment|   Private room|         2.0|      1.0|     1.0| 1.0|Real Bed|         180.0|              0.0|                98.0|                  10.0|                     10.0|                 10.0|                       10.0|                  10.0|               10.0| 100.0|        0.0|         0.0|    0.0|                    1.0|                      1.0|                         1.0|                     1.0|                           1.0|                      1.0|                   1.0|[1.0,1.0]|167.92639278679684|\n",
      "|                f|           flexible|               f|                      1.0|    Financial District|37.79376|-122.39462|        House|Entire home/apt|         2.0|      1.0|     1.0| 1.0|Real Bed|          31.0|              0.0|                98.0|                  10.0|                     10.0|                 10.0|                       10.0|                  10.0|               10.0|2010.0|        0.0|         0.0|    0.0|                    1.0|                      1.0|                         1.0|                     1.0|                           1.0|                      1.0|                   1.0|[1.0,1.0]|167.92639278679684|\n",
      "|                f|           flexible|               f|                      1.0|             Glen Park|37.73477|-122.43194|        House|Entire home/apt|         2.0|      1.0|     1.0| 1.0|Real Bed|           3.0|             12.0|                98.0|                  10.0|                     10.0|                 10.0|                       10.0|                  10.0|                9.0| 270.0|        0.0|         0.0|    0.0|                    0.0|                      0.0|                         0.0|                     0.0|                           0.0|                      0.0|                   0.0|[1.0,1.0]|167.92639278679684|\n",
      "|                f|           flexible|               f|                      1.0|             Glen Park|37.73632|-122.43353|        House|Entire home/apt|         6.0|      3.0|     2.0| 3.0|Real Bed|           4.0|              0.0|                98.0|                  10.0|                     10.0|                 10.0|                       10.0|                  10.0|               10.0| 500.0|        0.0|         0.0|    0.0|                    1.0|                      1.0|                         1.0|                     1.0|                           1.0|                      1.0|                   1.0|[3.0,2.0]| 317.1925538861484|\n",
      "|                f|           flexible|               f|                      1.0|             Glen Park|37.74185|-122.42977|    Apartment|Entire home/apt|         3.0|      1.0|     0.0| 2.0|Real Bed|          30.0|              0.0|                98.0|                  10.0|                     10.0|                 10.0|                       10.0|                  10.0|               10.0| 125.0|        0.0|         0.0|    0.0|                    1.0|                      1.0|                         1.0|                     1.0|                           1.0|                      1.0|                   1.0|[1.0,0.0]| 49.62308473086201|\n",
      "|                f|           flexible|               f|                      1.0|        Haight Ashbury|37.76977|-122.45061|    Apartment|Entire home/apt|         5.0|      1.0|     3.0| 3.0|Real Bed|           2.0|             14.0|               100.0|                  10.0|                     10.0|                 10.0|                       10.0|                  10.0|               10.0| 210.0|        0.0|         0.0|    0.0|                    0.0|                      0.0|                         0.0|                     0.0|                           0.0|                      0.0|                   0.0|[1.0,3.0]| 404.5330088986664|\n",
      "|                f|           flexible|               f|                      1.0|        Inner Richmond|37.77581| -122.4734|        House|   Private room|         2.0|      1.5|     1.0| 1.0|Real Bed|           2.0|             17.0|               100.0|                  10.0|                     10.0|                 10.0|                       10.0|                  10.0|               10.0|  60.0|        0.0|         0.0|    0.0|                    0.0|                      0.0|                         0.0|                     0.0|                           0.0|                      0.0|                   0.0|[1.5,1.0]|175.66710604765103|\n",
      "|                f|           flexible|               f|                      1.0|          Inner Sunset|37.75455|-122.46697|    Apartment|Entire home/apt|         7.0|      2.0|     3.0| 3.0|Real Bed|          30.0|              0.0|                98.0|                  10.0|                     10.0|                 10.0|                       10.0|                  10.0|               10.0| 170.0|        0.0|         0.0|    0.0|                    1.0|                      1.0|                         1.0|                     1.0|                           1.0|                      1.0|                   1.0|[2.0,3.0]| 420.0144354203748|\n",
      "|                f|           flexible|               f|                      1.0|                Marina| 37.8042|-122.43622|    Apartment|Entire home/apt|         3.0|      1.0|     1.0| 2.0|Real Bed|          30.0|             27.0|                97.0|                  10.0|                     10.0|                 10.0|                       10.0|                  10.0|               10.0| 214.0|        0.0|         0.0|    0.0|                    0.0|                      0.0|                         0.0|                     0.0|                           0.0|                      0.0|                   0.0|[1.0,1.0]|167.92639278679684|\n",
      "|                f|           flexible|               f|                      1.0|            Noe Valley|37.74683|-122.43746|  Guest suite|   Private room|         2.0|      1.0|     1.0| 1.0|Real Bed|           2.0|              0.0|                98.0|                  10.0|                     10.0|                 10.0|                       10.0|                  10.0|               10.0| 120.0|        0.0|         0.0|    1.0|                    1.0|                      1.0|                         1.0|                     1.0|                           1.0|                      1.0|                   1.0|[1.0,1.0]|167.92639278679684|\n",
      "|                f|           flexible|               f|                      1.0|           North Beach| 37.8006|-122.40995|    Apartment|   Private room|         1.0|      2.0|     1.0| 1.0|Real Bed|          31.0|              1.0|               100.0|                  10.0|                     10.0|                 10.0|                       10.0|                  10.0|               10.0|  82.0|        0.0|         0.0|    0.0|                    0.0|                      0.0|                         0.0|                     0.0|                           0.0|                      0.0|                   0.0|[2.0,1.0]|183.40781930850522|\n",
      "|                f|           flexible|               f|                      1.0|            Ocean View|37.72339|-122.46983|        House|Entire home/apt|         6.0|      1.0|     3.0| 4.0|Real Bed|           3.0|              6.0|                96.0|                  10.0|                     10.0|                 10.0|                       10.0|                  10.0|               10.0| 169.0|        0.0|         0.0|    0.0|                    0.0|                      0.0|                         0.0|                     0.0|                           0.0|                      0.0|                   0.0|[1.0,3.0]| 404.5330088986664|\n",
      "+-----------------+-------------------+----------------+-------------------------+----------------------+--------+----------+-------------+---------------+------------+---------+--------+----+--------+--------------+-----------------+--------------------+----------------------+-------------------------+---------------------+---------------------------+----------------------+-------------------+------+-----------+------------+-------+-----------------------+-------------------------+----------------------------+------------------------+------------------------------+-------------------------+----------------------+---------+------------------+\n",
      "only showing top 20 rows\n"
     ]
    }
   ],
   "source": [
    "pred.show()"
   ]
  },
  {
   "cell_type": "code",
   "execution_count": 193,
   "id": "595f30d4-cbea-478b-9396-4e7895716661",
   "metadata": {},
   "outputs": [],
   "source": [
    " #----------------------- ML for House Pricing Prediction------------------------\n",
    "#--------------------------------------------------------------------------------"
   ]
  },
  {
   "cell_type": "code",
   "execution_count": 194,
   "id": "1de1f7e7-2ea3-4b53-bc5a-70558232b362",
   "metadata": {},
   "outputs": [
    {
     "data": {
      "text/plain": [
       "[('host_is_superhost', 'string'),\n",
       " ('cancellation_policy', 'string'),\n",
       " ('instant_bookable', 'string'),\n",
       " ('host_total_listings_count', 'double'),\n",
       " ('neighbourhood_cleansed', 'string'),\n",
       " ('latitude', 'double'),\n",
       " ('longitude', 'double'),\n",
       " ('property_type', 'string'),\n",
       " ('room_type', 'string'),\n",
       " ('accommodates', 'double'),\n",
       " ('bathrooms', 'double'),\n",
       " ('bedrooms', 'double'),\n",
       " ('beds', 'double'),\n",
       " ('bed_type', 'string'),\n",
       " ('minimum_nights', 'double'),\n",
       " ('number_of_reviews', 'double'),\n",
       " ('review_scores_rating', 'double'),\n",
       " ('review_scores_accuracy', 'double'),\n",
       " ('review_scores_cleanliness', 'double'),\n",
       " ('review_scores_checkin', 'double'),\n",
       " ('review_scores_communication', 'double'),\n",
       " ('review_scores_location', 'double'),\n",
       " ('review_scores_value', 'double'),\n",
       " ('price', 'double'),\n",
       " ('bedrooms_na', 'double'),\n",
       " ('bathrooms_na', 'double'),\n",
       " ('beds_na', 'double'),\n",
       " ('review_scores_rating_na', 'double'),\n",
       " ('review_scores_accuracy_na', 'double'),\n",
       " ('review_scores_cleanliness_na', 'double'),\n",
       " ('review_scores_checkin_na', 'double'),\n",
       " ('review_scores_communication_na', 'double'),\n",
       " ('review_scores_location_na', 'double'),\n",
       " ('review_scores_value_na', 'double')]"
      ]
     },
     "execution_count": 194,
     "metadata": {},
     "output_type": "execute_result"
    }
   ],
   "source": [
    "trainCol = trainDF.dtypes\n",
    "trainCol"
   ]
  },
  {
   "cell_type": "code",
   "execution_count": 195,
   "id": "8e5d34af-a75e-43dc-852b-4afe4787b6af",
   "metadata": {},
   "outputs": [
    {
     "data": {
      "text/plain": [
       "['host_is_superhost',\n",
       " 'cancellation_policy',\n",
       " 'instant_bookable',\n",
       " 'neighbourhood_cleansed',\n",
       " 'property_type',\n",
       " 'room_type',\n",
       " 'bed_type']"
      ]
     },
     "execution_count": 195,
     "metadata": {},
     "output_type": "execute_result"
    }
   ],
   "source": [
    "StringColumns =[f for (f,v) in trainCol if v =='string']\n",
    "StringColumns"
   ]
  },
  {
   "cell_type": "code",
   "execution_count": 196,
   "id": "d8ecab31-97e6-4caa-a646-931d33b7d34b",
   "metadata": {},
   "outputs": [
    {
     "data": {
      "text/plain": [
       "['host_total_listings_count',\n",
       " 'latitude',\n",
       " 'longitude',\n",
       " 'accommodates',\n",
       " 'bathrooms',\n",
       " 'bedrooms',\n",
       " 'beds',\n",
       " 'minimum_nights',\n",
       " 'number_of_reviews',\n",
       " 'review_scores_rating',\n",
       " 'review_scores_accuracy',\n",
       " 'review_scores_cleanliness',\n",
       " 'review_scores_checkin',\n",
       " 'review_scores_communication',\n",
       " 'review_scores_location',\n",
       " 'review_scores_value',\n",
       " 'bedrooms_na',\n",
       " 'bathrooms_na',\n",
       " 'beds_na',\n",
       " 'review_scores_rating_na',\n",
       " 'review_scores_accuracy_na',\n",
       " 'review_scores_cleanliness_na',\n",
       " 'review_scores_checkin_na',\n",
       " 'review_scores_communication_na',\n",
       " 'review_scores_location_na',\n",
       " 'review_scores_value_na']"
      ]
     },
     "execution_count": 196,
     "metadata": {},
     "output_type": "execute_result"
    }
   ],
   "source": [
    "NumericeColumns =[f for (f,v) in trainCol if ((v =='double')&(f!='price'))]\n",
    "NumericeColumns"
   ]
  },
  {
   "cell_type": "code",
   "execution_count": 197,
   "id": "0c143d46-9aa8-4220-a3e7-e58c11356f95",
   "metadata": {},
   "outputs": [
    {
     "data": {
      "text/plain": [
       "['host_is_superhost_Index',\n",
       " 'cancellation_policy_Index',\n",
       " 'instant_bookable_Index',\n",
       " 'neighbourhood_cleansed_Index',\n",
       " 'property_type_Index',\n",
       " 'room_type_Index',\n",
       " 'bed_type_Index']"
      ]
     },
     "execution_count": 197,
     "metadata": {},
     "output_type": "execute_result"
    }
   ],
   "source": [
    "strIndxCols = [s+'_Index' for s in StringColumns]\n",
    "strIndxCols"
   ]
  },
  {
   "cell_type": "code",
   "execution_count": 198,
   "id": "b0b82f6b-79ab-477c-9251-e4ff4523048f",
   "metadata": {},
   "outputs": [
    {
     "data": {
      "text/plain": [
       "['host_is_superhost_OHE',\n",
       " 'cancellation_policy_OHE',\n",
       " 'instant_bookable_OHE',\n",
       " 'neighbourhood_cleansed_OHE',\n",
       " 'property_type_OHE',\n",
       " 'room_type_OHE',\n",
       " 'bed_type_OHE']"
      ]
     },
     "execution_count": 198,
     "metadata": {},
     "output_type": "execute_result"
    }
   ],
   "source": [
    "oheOut = [s+'_OHE' for s in StringColumns]\n",
    "oheOut"
   ]
  },
  {
   "cell_type": "code",
   "execution_count": 199,
   "id": "074e0e52-4f49-454a-924d-95727b6fac2a",
   "metadata": {},
   "outputs": [
    {
     "data": {
      "text/plain": [
       "['host_total_listings_count',\n",
       " 'latitude',\n",
       " 'longitude',\n",
       " 'accommodates',\n",
       " 'bathrooms',\n",
       " 'bedrooms',\n",
       " 'beds',\n",
       " 'minimum_nights',\n",
       " 'number_of_reviews',\n",
       " 'review_scores_rating',\n",
       " 'review_scores_accuracy',\n",
       " 'review_scores_cleanliness',\n",
       " 'review_scores_checkin',\n",
       " 'review_scores_communication',\n",
       " 'review_scores_location',\n",
       " 'review_scores_value',\n",
       " 'bedrooms_na',\n",
       " 'bathrooms_na',\n",
       " 'beds_na',\n",
       " 'review_scores_rating_na',\n",
       " 'review_scores_accuracy_na',\n",
       " 'review_scores_cleanliness_na',\n",
       " 'review_scores_checkin_na',\n",
       " 'review_scores_communication_na',\n",
       " 'review_scores_location_na',\n",
       " 'review_scores_value_na',\n",
       " 'host_is_superhost_OHE',\n",
       " 'cancellation_policy_OHE',\n",
       " 'instant_bookable_OHE',\n",
       " 'neighbourhood_cleansed_OHE',\n",
       " 'property_type_OHE',\n",
       " 'room_type_OHE',\n",
       " 'bed_type_OHE']"
      ]
     },
     "execution_count": 199,
     "metadata": {},
     "output_type": "execute_result"
    }
   ],
   "source": [
    "AllDataCol = NumericeColumns + oheOut\n",
    "AllDataCol"
   ]
  },
  {
   "cell_type": "code",
   "execution_count": 200,
   "id": "a1b5ea91-bb47-4a4f-8b29-82669aedc250",
   "metadata": {},
   "outputs": [],
   "source": [
    "from pyspark.ml.feature import OneHotEncoder , StringIndexer , VectorAssembler"
   ]
  },
  {
   "cell_type": "code",
   "execution_count": 201,
   "id": "f7785a90-0efc-4bb6-9976-d5141e140601",
   "metadata": {},
   "outputs": [],
   "source": [
    "from pyspark.ml.regression import LinearRegression\n",
    "from pyspark.ml import pipeline"
   ]
  },
  {
   "cell_type": "code",
   "execution_count": 202,
   "id": "bdedee85-572d-4237-8d37-95c604f81020",
   "metadata": {},
   "outputs": [],
   "source": [
    "\n",
    "\n",
    "\n",
    "strIndx = StringIndexer(inputCols=StringColumns,outputCols=strIndxCols , handleInvalid='skip')\n",
    "\n",
    "ohe = OneHotEncoder(inputCols=strIndxCols , outputCols=oheOut,)\n",
    "\n",
    "vecAss =VectorAssembler(inputCols=AllDataCol , outputCol='features')\n",
    "\n",
    "lr = LinearRegression(featuresCol='features' , labelCol='price',predictionCol='prediction')"
   ]
  },
  {
   "cell_type": "code",
   "execution_count": 203,
   "id": "8a982b4d-e651-479d-8341-84d34ff4b436",
   "metadata": {},
   "outputs": [],
   "source": [
    "stagespl = [strIndx , ohe , vecAss , lr]"
   ]
  },
  {
   "cell_type": "code",
   "execution_count": 204,
   "id": "cad4e754-2348-4254-b050-ba9ead24a88c",
   "metadata": {},
   "outputs": [],
   "source": [
    "pl = Pipeline(stages=stagespl)"
   ]
  },
  {
   "cell_type": "code",
   "execution_count": 205,
   "id": "9eb16e60-6cd1-4569-b6e6-2ffd6e75ab2b",
   "metadata": {},
   "outputs": [
    {
     "name": "stderr",
     "output_type": "stream",
     "text": [
      "25/10/22 01:39:40 WARN Instrumentation: [000555d5] regParam is zero, which might cause numerical instability and overfitting.\n",
      "25/10/22 01:39:41 WARN Instrumentation: [000555d5] Cholesky solver failed due to singular covariance matrix. Retrying with Quasi-Newton solver.\n"
     ]
    }
   ],
   "source": [
    "plModel = pl.fit(trainDF)"
   ]
  },
  {
   "cell_type": "code",
   "execution_count": 206,
   "id": "ae56223c-5f7f-4317-bed7-81fad8a30aa8",
   "metadata": {},
   "outputs": [
    {
     "data": {
      "text/plain": [
       "PipelineModel_8273e5111050"
      ]
     },
     "execution_count": 206,
     "metadata": {},
     "output_type": "execute_result"
    }
   ],
   "source": [
    "plModel"
   ]
  },
  {
   "cell_type": "code",
   "execution_count": 207,
   "id": "ade40041-cb71-4929-9038-50785268e53f",
   "metadata": {},
   "outputs": [],
   "source": [
    "plModel.write().overwrite().save('plModelReg')"
   ]
  },
  {
   "cell_type": "code",
   "execution_count": 208,
   "id": "a1c84f49-6372-45b0-aee9-b563c7a9d9bb",
   "metadata": {},
   "outputs": [],
   "source": [
    "from pyspark.ml  import PipelineModel"
   ]
  },
  {
   "cell_type": "code",
   "execution_count": 209,
   "id": "86364135-6e6f-42c6-b501-1d72a280f7ad",
   "metadata": {},
   "outputs": [],
   "source": [
    "savedPlModel = PipelineModel.load('plModelReg')"
   ]
  },
  {
   "cell_type": "code",
   "execution_count": 210,
   "id": "a80a6dde-4439-4134-aad8-665038b33503",
   "metadata": {},
   "outputs": [],
   "source": [
    "pred = savedPlModel.transform(testDF)"
   ]
  },
  {
   "cell_type": "code",
   "execution_count": 211,
   "id": "c29d20d6-69f8-4a6a-a008-5d94778b8637",
   "metadata": {},
   "outputs": [
    {
     "name": "stdout",
     "output_type": "stream",
     "text": [
      "+-----------------------------------------------------------------------------------------------------------------------------------------------------------------------------------+-----+-----------------+\n",
      "|features                                                                                                                                                                           |price|prediction       |\n",
      "+-----------------------------------------------------------------------------------------------------------------------------------------------------------------------------------+-----+-----------------+\n",
      "|(98,[0,1,2,3,4,5,6,7,8,9,10,11,12,13,14,15,26,29,32,48,69,92,94],[1.0,37.72001,-122.39249,2.0,1.0,1.0,1.0,2.0,128.0,97.0,10.0,10.0,10.0,10.0,9.0,10.0,1.0,1.0,1.0,1.0,1.0,1.0,1.0])|85.0 |55.41964567628929|\n",
      "+-----------------------------------------------------------------------------------------------------------------------------------------------------------------------------------+-----+-----------------+\n",
      "only showing top 1 row\n"
     ]
    }
   ],
   "source": [
    "pred.select ('features','price' , 'prediction').show(1,truncate = False)"
   ]
  },
  {
   "cell_type": "code",
   "execution_count": 212,
   "id": "7b125451-a1fb-480c-b317-eca7c8341c33",
   "metadata": {},
   "outputs": [],
   "source": [
    "from pyspark.ml.evaluation import RegressionEvaluator"
   ]
  },
  {
   "cell_type": "code",
   "execution_count": 213,
   "id": "c8db49be-9574-47bc-89af-e72aead16dc5",
   "metadata": {},
   "outputs": [],
   "source": [
    "regeval = RegressionEvaluator(predictionCol='prediction' , labelCol='price')"
   ]
  },
  {
   "cell_type": "code",
   "execution_count": 214,
   "id": "2c8d5d60-08c2-459c-86cc-4cdb43721f0c",
   "metadata": {},
   "outputs": [
    {
     "data": {
      "text/plain": [
       "220.67727485028183"
      ]
     },
     "execution_count": 214,
     "metadata": {},
     "output_type": "execute_result"
    }
   ],
   "source": [
    "regeval.evaluate(pred)"
   ]
  },
  {
   "cell_type": "code",
   "execution_count": 215,
   "id": "7a1d66c6-c412-4ea4-a3c9-071f466d5804",
   "metadata": {},
   "outputs": [],
   "source": [
    "regeval = RegressionEvaluator(predictionCol='prediction' , labelCol='price' , metricName='r2')"
   ]
  },
  {
   "cell_type": "code",
   "execution_count": 216,
   "id": "b9b398ef-7b2c-4f1a-924b-851b1f0d8db3",
   "metadata": {},
   "outputs": [
    {
     "data": {
      "text/plain": [
       "0.15956462738252108"
      ]
     },
     "execution_count": 216,
     "metadata": {},
     "output_type": "execute_result"
    }
   ],
   "source": [
    "regeval.evaluate(pred)"
   ]
  },
  {
   "cell_type": "code",
   "execution_count": 217,
   "id": "bfa26f0a-2cbf-4be9-8761-84f8f2c2b7eb",
   "metadata": {},
   "outputs": [],
   "source": [
    "#-----------------------------Handle Invalid -----------------------------\n",
    "#-------------------------------------------------------------------------\n"
   ]
  },
  {
   "cell_type": "code",
   "execution_count": 218,
   "id": "9762129a-7cd1-4b34-99af-92492c09dd63",
   "metadata": {},
   "outputs": [],
   "source": [
    "columns = ['seqno', 'Name']\n",
    "data = [('1','John Jones'),('2','Mary Johnson'),('3','Peter Smith'),\n",
    "        ('4','Linda Davis'),('5','James Wilson'),('6','Patricia Brown'),('7','Michael Garcia'),\n",
    "        ('8','Barbara Martinez'),('9','William Rodriguez'),('10','Elizabeth Hernandez')]"
   ]
  },
  {
   "cell_type": "code",
   "execution_count": 219,
   "id": "6677b42f-ccb5-4460-9546-d0ca88002381",
   "metadata": {},
   "outputs": [],
   "source": [
    "df = spark.createDataFrame(data , schema=columns)"
   ]
  },
  {
   "cell_type": "code",
   "execution_count": 220,
   "id": "b193eaf8-c381-42db-a827-0f4e4f1b4d7d",
   "metadata": {},
   "outputs": [
    {
     "name": "stdout",
     "output_type": "stream",
     "text": [
      "+-----+-------------------+\n",
      "|seqno|               Name|\n",
      "+-----+-------------------+\n",
      "|    1|         John Jones|\n",
      "|    2|       Mary Johnson|\n",
      "|    3|        Peter Smith|\n",
      "|    4|        Linda Davis|\n",
      "|    5|       James Wilson|\n",
      "|    6|     Patricia Brown|\n",
      "|    7|     Michael Garcia|\n",
      "|    8|   Barbara Martinez|\n",
      "|    9|  William Rodriguez|\n",
      "|   10|Elizabeth Hernandez|\n",
      "+-----+-------------------+\n",
      "\n"
     ]
    }
   ],
   "source": [
    "df.show()"
   ]
  },
  {
   "cell_type": "code",
   "execution_count": 221,
   "id": "ed9fa575-2845-4469-b814-6588cfa05d55",
   "metadata": {},
   "outputs": [],
   "source": [
    "# '''\n",
    "# #handle Invalid\n",
    "# skip =filter rows with invalid data\n",
    "# error = throw error\n",
    "# keep = give a number for new categories (all new categories have same number)\n",
    "# '''"
   ]
  },
  {
   "cell_type": "code",
   "execution_count": null,
   "id": "f548351e-d0d2-4ab4-a2c9-a3d7656a7c6d",
   "metadata": {},
   "outputs": [],
   "source": []
  }
 ],
 "metadata": {
  "kernelspec": {
   "display_name": "Python 3 (ipykernel)",
   "language": "python",
   "name": "python3"
  },
  "language_info": {
   "codemirror_mode": {
    "name": "ipython",
    "version": 3
   },
   "file_extension": ".py",
   "mimetype": "text/x-python",
   "name": "python",
   "nbconvert_exporter": "python",
   "pygments_lexer": "ipython3",
   "version": "3.13.5"
  }
 },
 "nbformat": 4,
 "nbformat_minor": 5
}
