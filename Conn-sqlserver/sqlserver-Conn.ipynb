{
 "cells": [
  {
   "cell_type": "code",
   "execution_count": 1,
   "id": "c85814f4-307e-43ca-bed3-06e08a5a6380",
   "metadata": {},
   "outputs": [
    {
     "name": "stderr",
     "output_type": "stream",
     "text": [
      "25/10/19 16:44:53 WARN SparkSession: Using an existing Spark session; only runtime SQL configurations will take effect.\n",
      "[Stage 0:>                                                          (0 + 1) / 1]"
     ]
    },
    {
     "name": "stdout",
     "output_type": "stream",
     "text": [
      "+---------------+\n",
      "|test_connection|\n",
      "+---------------+\n",
      "|              1|\n",
      "+---------------+\n",
      "\n"
     ]
    },
    {
     "name": "stderr",
     "output_type": "stream",
     "text": [
      "                                                                                "
     ]
    }
   ],
   "source": [
    "from pyspark.sql import SparkSession\n",
    "\n",
    "spark = SparkSession.builder.appName(\"SQLServerConnection\").getOrCreate()\n",
    "\n",
    "jdbc_url = \"jdbc:sqlserver://localhost:1433;databaseName=master;encrypt=false;\"\n",
    "properties = {\n",
    "    \"user\": \"SA\",\n",
    "    \"password\": \"StrongPass123!\",\n",
    "    \"driver\": \"com.microsoft.sqlserver.jdbc.SQLServerDriver\"\n",
    "}\n",
    "\n",
    "df = spark.read.jdbc(url=jdbc_url, table=\"(SELECT 1 AS test_connection) AS tmp\", properties=properties)\n",
    "df.show()\n"
   ]
  },
  {
   "cell_type": "code",
   "execution_count": 2,
   "id": "5244c0b2-995b-4808-96db-af493d77b724",
   "metadata": {},
   "outputs": [
    {
     "name": "stderr",
     "output_type": "stream",
     "text": [
      "                                                                                "
     ]
    },
    {
     "name": "stdout",
     "output_type": "stream",
     "text": [
      "+---+-------+----------+\n",
      "| id|   name|      city|\n",
      "+---+-------+----------+\n",
      "|  1|  Fares|Alexandria|\n",
      "|  2|   Omar|     Cairo|\n",
      "|  3|Youssef|      Giza|\n",
      "+---+-------+----------+\n",
      "\n"
     ]
    }
   ],
   "source": [
    "data = [\n",
    "    (1, \"Fares\", \"Alexandria\"),\n",
    "    (2, \"Omar\", \"Cairo\"),\n",
    "    (3, \"Youssef\", \"Giza\")\n",
    "]\n",
    "\n",
    "columns = [\"id\", \"name\", \"city\"]\n",
    "\n",
    "df = spark.createDataFrame(data, columns)\n",
    "df.show()\n"
   ]
  },
  {
   "cell_type": "code",
   "execution_count": 3,
   "id": "658dce91-0f0e-4744-9047-a87d2e382cbc",
   "metadata": {},
   "outputs": [
    {
     "name": "stderr",
     "output_type": "stream",
     "text": [
      "                                                                                "
     ]
    }
   ],
   "source": [
    "df.write.jdbc(\n",
    "    url=jdbc_url,\n",
    "    table=\"people\",     \n",
    "    mode=\"overwrite\",\n",
    "    properties=properties\n",
    ")\n"
   ]
  },
  {
   "cell_type": "code",
   "execution_count": 4,
   "id": "c423e01a-8941-4de8-bb0a-4038c0eb7fd5",
   "metadata": {},
   "outputs": [
    {
     "name": "stdout",
     "output_type": "stream",
     "text": [
      "+---+-------+----------+\n",
      "| id|   name|      city|\n",
      "+---+-------+----------+\n",
      "|  2|   Omar|     Cairo|\n",
      "|  3|Youssef|      Giza|\n",
      "|  1|  Fares|Alexandria|\n",
      "+---+-------+----------+\n",
      "\n"
     ]
    }
   ],
   "source": [
    "df_sql = spark.read.jdbc(url=jdbc_url, table=\"people\", properties=properties)\n",
    "df_sql.show()\n"
   ]
  },
  {
   "cell_type": "code",
   "execution_count": 5,
   "id": "1be251ee-8a4b-47de-b858-4f1a86f7455f",
   "metadata": {},
   "outputs": [
    {
     "name": "stdout",
     "output_type": "stream",
     "text": [
      "+----+-----+\n",
      "|name| city|\n",
      "+----+-----+\n",
      "|Omar|Cairo|\n",
      "+----+-----+\n",
      "\n"
     ]
    }
   ],
   "source": [
    "query = \"(SELECT name, city FROM people WHERE city = 'Cairo') AS tmp\"\n",
    "df_filtered = spark.read.jdbc(url=jdbc_url, table=query, properties=properties)\n",
    "df_filtered.show()\n"
   ]
  },
  {
   "cell_type": "code",
   "execution_count": null,
   "id": "90be10de-63cb-4a71-a944-7907f86bf9c0",
   "metadata": {},
   "outputs": [],
   "source": []
  }
 ],
 "metadata": {
  "kernelspec": {
   "display_name": "Python 3 (ipykernel)",
   "language": "python",
   "name": "python3"
  },
  "language_info": {
   "codemirror_mode": {
    "name": "ipython",
    "version": 3
   },
   "file_extension": ".py",
   "mimetype": "text/x-python",
   "name": "python",
   "nbconvert_exporter": "python",
   "pygments_lexer": "ipython3",
   "version": "3.13.5"
  }
 },
 "nbformat": 4,
 "nbformat_minor": 5
}
