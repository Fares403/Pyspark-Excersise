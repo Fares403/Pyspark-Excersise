{
 "cells": [
  {
   "cell_type": "code",
   "execution_count": 31,
   "id": "9d0007a5-4b71-4601-b566-1437debb4fc2",
   "metadata": {},
   "outputs": [],
   "source": [
    "from pyspark.sql import SparkSession"
   ]
  },
  {
   "cell_type": "code",
   "execution_count": 32,
   "id": "08a4f17c-ca35-4115-9e48-a7684a5a2721",
   "metadata": {},
   "outputs": [],
   "source": [
    "spark = SparkSession.builder \\\n",
    "    .appName(\"PostgresConnection\") \\\n",
    "    .getOrCreate()"
   ]
  },
  {
   "cell_type": "code",
   "execution_count": 33,
   "id": "d7bd7845-b036-428c-8399-02d760cab902",
   "metadata": {},
   "outputs": [],
   "source": [
    "jdbc_url = \"jdbc:postgresql://localhost:5432/mydb\"\n",
    "connection_properties = {\n",
    "    \"user\": \"postgres\",\n",
    "    \"password\": \"1234\",\n",
    "    \"driver\": \"org.postgresql.Driver\"\n",
    "}"
   ]
  },
  {
   "cell_type": "code",
   "execution_count": 34,
   "id": "1f733a7b-0eeb-439d-867c-bdc26ac9f8e7",
   "metadata": {},
   "outputs": [],
   "source": [
    "df = spark.read.jdbc(url=jdbc_url, table=\"employees\", properties=connection_properties)"
   ]
  },
  {
   "cell_type": "code",
   "execution_count": 35,
   "id": "98a8e81d-b117-49aa-944a-cfb536db3a58",
   "metadata": {},
   "outputs": [
    {
     "name": "stdout",
     "output_type": "stream",
     "text": [
      "+---+------------+-----------+------+\n",
      "| id|        name| department|salary|\n",
      "+---+------------+-----------+------+\n",
      "|  1|   Ahmed Ali|Engineering| 12000|\n",
      "|  2|Sara Mohamed|         HR|  9000|\n",
      "|  3| Omar Hassan|    Finance| 11000|\n",
      "|  4|  Nour Samir|  Marketing|  9500|\n",
      "|  5|Fares Ashraf|       Data| 15000|\n",
      "+---+------------+-----------+------+\n",
      "\n"
     ]
    }
   ],
   "source": [
    "df.show()"
   ]
  },
  {
   "cell_type": "code",
   "execution_count": 36,
   "id": "3e4c3099-1c98-4625-be0a-bc1b010acac0",
   "metadata": {},
   "outputs": [],
   "source": [
    "df.write.jdbc(url=jdbc_url, table=\"employees_copy\", mode=\"overwrite\", properties=connection_properties)"
   ]
  },
  {
   "cell_type": "code",
   "execution_count": 37,
   "id": "dbaf9897-cac8-4c1c-907d-97dde9c01c89",
   "metadata": {},
   "outputs": [
    {
     "data": {
      "text/html": [
       "\n",
       "            <div>\n",
       "                <p><b>SparkSession - hive</b></p>\n",
       "                \n",
       "        <div>\n",
       "            <p><b>SparkContext</b></p>\n",
       "\n",
       "            <p><a href=\"http://10.0.2.15:4040\">Spark UI</a></p>\n",
       "\n",
       "            <dl>\n",
       "              <dt>Version</dt>\n",
       "                <dd><code>v4.0.1</code></dd>\n",
       "              <dt>Master</dt>\n",
       "                <dd><code>local[*]</code></dd>\n",
       "              <dt>AppName</dt>\n",
       "                <dd><code>PySparkShell</code></dd>\n",
       "            </dl>\n",
       "        </div>\n",
       "        \n",
       "            </div>\n",
       "        "
      ],
      "text/plain": [
       "<pyspark.sql.session.SparkSession at 0x704c31a342f0>"
      ]
     },
     "execution_count": 37,
     "metadata": {},
     "output_type": "execute_result"
    }
   ],
   "source": [
    "spark"
   ]
  },
  {
   "cell_type": "code",
   "execution_count": null,
   "id": "95f969b7-cc4a-4079-9cc6-20a043c8acff",
   "metadata": {},
   "outputs": [],
   "source": []
  }
 ],
 "metadata": {
  "kernelspec": {
   "display_name": "Python 3 (ipykernel)",
   "language": "python",
   "name": "python3"
  },
  "language_info": {
   "codemirror_mode": {
    "name": "ipython",
    "version": 3
   },
   "file_extension": ".py",
   "mimetype": "text/x-python",
   "name": "python",
   "nbconvert_exporter": "python",
   "pygments_lexer": "ipython3",
   "version": "3.13.5"
  }
 },
 "nbformat": 4,
 "nbformat_minor": 5
}
