{
 "cells": [
  {
   "cell_type": "code",
   "execution_count": 1,
   "id": "04ea9125-359a-407f-9b05-71ed14d114ac",
   "metadata": {},
   "outputs": [],
   "source": [
    "import findspark\n",
    "findspark.init()"
   ]
  },
  {
   "cell_type": "code",
   "execution_count": 2,
   "id": "abd6af33-1506-4cfb-b6ac-c6f1ee0edd43",
   "metadata": {},
   "outputs": [],
   "source": [
    "from pyspark.sql import SparkSession"
   ]
  },
  {
   "cell_type": "raw",
   "id": "72793325-7df4-4aa8-8c2c-2bba21c65100",
   "metadata": {},
   "source": [
    "spark = SparkSession.builder.getOrCreate()"
   ]
  },
  {
   "cell_type": "code",
   "execution_count": 3,
   "id": "d583107c-11a1-4a6b-bb16-433f7cbebb47",
   "metadata": {},
   "outputs": [],
   "source": [
    "#from pyspark import SparkContext"
   ]
  },
  {
   "cell_type": "code",
   "execution_count": 4,
   "id": "5486eea9-b74b-4fe6-a3d7-c1709a570c0b",
   "metadata": {},
   "outputs": [],
   "source": [
    "#sc = SparkContext()"
   ]
  },
  {
   "cell_type": "code",
   "execution_count": 5,
   "id": "0965afdc-6266-4ebd-84cd-ffcb60e60bea",
   "metadata": {},
   "outputs": [],
   "source": [
    "sc = spark.sparkContext"
   ]
  },
  {
   "cell_type": "code",
   "execution_count": 6,
   "id": "3d52891b-ef83-4ef2-ba2b-aa6c27c54b0b",
   "metadata": {},
   "outputs": [
    {
     "data": {
      "text/html": [
       "\n",
       "            <div>\n",
       "                <p><b>SparkSession - hive</b></p>\n",
       "                \n",
       "        <div>\n",
       "            <p><b>SparkContext</b></p>\n",
       "\n",
       "            <p><a href=\"http://10.0.2.15:4040\">Spark UI</a></p>\n",
       "\n",
       "            <dl>\n",
       "              <dt>Version</dt>\n",
       "                <dd><code>v4.0.1</code></dd>\n",
       "              <dt>Master</dt>\n",
       "                <dd><code>local[*]</code></dd>\n",
       "              <dt>AppName</dt>\n",
       "                <dd><code>PySparkShell</code></dd>\n",
       "            </dl>\n",
       "        </div>\n",
       "        \n",
       "            </div>\n",
       "        "
      ],
      "text/plain": [
       "<pyspark.sql.session.SparkSession at 0x7e85514682f0>"
      ]
     },
     "execution_count": 6,
     "metadata": {},
     "output_type": "execute_result"
    }
   ],
   "source": [
    "spark"
   ]
  },
  {
   "cell_type": "code",
   "execution_count": 7,
   "id": "bc50408c-75e9-4652-8e00-7b62516b8c2f",
   "metadata": {},
   "outputs": [],
   "source": [
    "import numpy as np"
   ]
  },
  {
   "cell_type": "code",
   "execution_count": 8,
   "id": "5a841256-16f6-4e85-9b98-bfe59d50b0b4",
   "metadata": {},
   "outputs": [],
   "source": [
    "data = np.arange(1,51)"
   ]
  },
  {
   "cell_type": "code",
   "execution_count": 9,
   "id": "b4f025c1-e007-45b1-9699-e64a71c19b5e",
   "metadata": {},
   "outputs": [
    {
     "data": {
      "text/plain": [
       "array([ 1,  2,  3,  4,  5,  6,  7,  8,  9, 10, 11, 12, 13, 14, 15, 16, 17,\n",
       "       18, 19, 20, 21, 22, 23, 24, 25, 26, 27, 28, 29, 30, 31, 32, 33, 34,\n",
       "       35, 36, 37, 38, 39, 40, 41, 42, 43, 44, 45, 46, 47, 48, 49, 50])"
      ]
     },
     "execution_count": 9,
     "metadata": {},
     "output_type": "execute_result"
    }
   ],
   "source": [
    "data"
   ]
  },
  {
   "cell_type": "code",
   "execution_count": 10,
   "id": "1cc9ce29-2ce8-41e8-a0d2-a9ffd01e142d",
   "metadata": {},
   "outputs": [],
   "source": [
    "rdd1 = sc.parallelize(data)"
   ]
  },
  {
   "cell_type": "code",
   "execution_count": 11,
   "id": "9bd56fb3-200b-4161-b641-56a6dfa3bac0",
   "metadata": {},
   "outputs": [
    {
     "data": {
      "text/plain": [
       "ParallelCollectionRDD[0] at readRDDFromFile at PythonRDD.scala:297"
      ]
     },
     "execution_count": 11,
     "metadata": {},
     "output_type": "execute_result"
    }
   ],
   "source": [
    "rdd1"
   ]
  },
  {
   "cell_type": "code",
   "execution_count": 12,
   "id": "d1351fdb-0985-4e7d-b1a9-db2c4c782f89",
   "metadata": {},
   "outputs": [],
   "source": [
    "rdd2 =  rdd1.map(lambda x : x**2)"
   ]
  },
  {
   "cell_type": "code",
   "execution_count": 13,
   "id": "8d6818c0-98f8-47a5-a076-efe389ddbb3d",
   "metadata": {},
   "outputs": [
    {
     "data": {
      "text/plain": [
       "PythonRDD[1] at RDD at PythonRDD.scala:56"
      ]
     },
     "execution_count": 13,
     "metadata": {},
     "output_type": "execute_result"
    }
   ],
   "source": [
    "rdd2"
   ]
  },
  {
   "cell_type": "code",
   "execution_count": 14,
   "id": "4bb3fb12-f60d-4ade-9884-3d80f03838cc",
   "metadata": {},
   "outputs": [],
   "source": [
    "rdd3 = rdd2.map(lambda x: x+20 )"
   ]
  },
  {
   "cell_type": "code",
   "execution_count": 15,
   "id": "8d61359d-28fa-4ca9-b90f-ee7c08404ada",
   "metadata": {},
   "outputs": [
    {
     "data": {
      "text/plain": [
       "PythonRDD[2] at RDD at PythonRDD.scala:56"
      ]
     },
     "execution_count": 15,
     "metadata": {},
     "output_type": "execute_result"
    }
   ],
   "source": [
    "rdd3"
   ]
  },
  {
   "cell_type": "code",
   "execution_count": 16,
   "id": "a323c85d-711a-4fd0-890d-0f3991c71bf0",
   "metadata": {},
   "outputs": [
    {
     "data": {
      "text/plain": [
       "3"
      ]
     },
     "execution_count": 16,
     "metadata": {},
     "output_type": "execute_result"
    }
   ],
   "source": [
    "rdd1.getNumPartitions()"
   ]
  },
  {
   "cell_type": "code",
   "execution_count": 17,
   "id": "574236f8-b81c-4278-8fa5-03be894fee7a",
   "metadata": {},
   "outputs": [
    {
     "data": {
      "text/plain": [
       "3"
      ]
     },
     "execution_count": 17,
     "metadata": {},
     "output_type": "execute_result"
    }
   ],
   "source": [
    "rdd2.getNumPartitions()"
   ]
  },
  {
   "cell_type": "code",
   "execution_count": 18,
   "id": "63b77064-3394-4911-9211-01ef9ee027cd",
   "metadata": {},
   "outputs": [],
   "source": [
    "rdd4 = rdd2.map(lambda x : x-5 )"
   ]
  },
  {
   "cell_type": "code",
   "execution_count": 19,
   "id": "cee68095-5220-4d99-82f1-6c2dc23ee63d",
   "metadata": {},
   "outputs": [],
   "source": [
    "rdd5 = rdd2.map(lambda x : x/2 )"
   ]
  },
  {
   "cell_type": "code",
   "execution_count": 20,
   "id": "e0c8e870-6103-4ce8-87a2-78552f06277a",
   "metadata": {},
   "outputs": [],
   "source": [
    "rdd6 = rdd2.map(lambda  x: x%2 )"
   ]
  },
  {
   "cell_type": "code",
   "execution_count": 21,
   "id": "294fcd08-3168-4879-a470-17e0571c7079",
   "metadata": {},
   "outputs": [
    {
     "data": {
      "text/plain": [
       "PythonRDD[1] at RDD at PythonRDD.scala:56"
      ]
     },
     "execution_count": 21,
     "metadata": {},
     "output_type": "execute_result"
    }
   ],
   "source": [
    "rdd2.cache()"
   ]
  },
  {
   "cell_type": "code",
   "execution_count": 22,
   "id": "a21dc040-f4fc-46d2-9353-7a3d8ba82a8e",
   "metadata": {},
   "outputs": [
    {
     "name": "stderr",
     "output_type": "stream",
     "text": [
      "                                                                                "
     ]
    },
    {
     "data": {
      "text/plain": [
       "[np.int64(-4),\n",
       " np.int64(-1),\n",
       " np.int64(4),\n",
       " np.int64(11),\n",
       " np.int64(20),\n",
       " np.int64(31),\n",
       " np.int64(44),\n",
       " np.int64(59),\n",
       " np.int64(76),\n",
       " np.int64(95),\n",
       " np.int64(116),\n",
       " np.int64(139),\n",
       " np.int64(164),\n",
       " np.int64(191),\n",
       " np.int64(220),\n",
       " np.int64(251),\n",
       " np.int64(284),\n",
       " np.int64(319),\n",
       " np.int64(356),\n",
       " np.int64(395),\n",
       " np.int64(436),\n",
       " np.int64(479),\n",
       " np.int64(524),\n",
       " np.int64(571),\n",
       " np.int64(620),\n",
       " np.int64(671),\n",
       " np.int64(724),\n",
       " np.int64(779),\n",
       " np.int64(836),\n",
       " np.int64(895),\n",
       " np.int64(956),\n",
       " np.int64(1019),\n",
       " np.int64(1084),\n",
       " np.int64(1151),\n",
       " np.int64(1220),\n",
       " np.int64(1291),\n",
       " np.int64(1364),\n",
       " np.int64(1439),\n",
       " np.int64(1516),\n",
       " np.int64(1595),\n",
       " np.int64(1676),\n",
       " np.int64(1759),\n",
       " np.int64(1844),\n",
       " np.int64(1931),\n",
       " np.int64(2020),\n",
       " np.int64(2111),\n",
       " np.int64(2204),\n",
       " np.int64(2299),\n",
       " np.int64(2396),\n",
       " np.int64(2495)]"
      ]
     },
     "execution_count": 22,
     "metadata": {},
     "output_type": "execute_result"
    }
   ],
   "source": [
    "rdd4.collect() # Most Expensive Action"
   ]
  },
  {
   "cell_type": "code",
   "execution_count": 23,
   "id": "719a4925-a5c6-46bb-b182-cb852d0a5ecc",
   "metadata": {},
   "outputs": [
    {
     "name": "stderr",
     "output_type": "stream",
     "text": [
      "                                                                                "
     ]
    },
    {
     "data": {
      "text/plain": [
       "[np.int64(1),\n",
       " np.int64(4),\n",
       " np.int64(9),\n",
       " np.int64(16),\n",
       " np.int64(25),\n",
       " np.int64(36),\n",
       " np.int64(49),\n",
       " np.int64(64),\n",
       " np.int64(81),\n",
       " np.int64(100),\n",
       " np.int64(121),\n",
       " np.int64(144),\n",
       " np.int64(169),\n",
       " np.int64(196),\n",
       " np.int64(225),\n",
       " np.int64(256),\n",
       " np.int64(289),\n",
       " np.int64(324),\n",
       " np.int64(361),\n",
       " np.int64(400),\n",
       " np.int64(441),\n",
       " np.int64(484),\n",
       " np.int64(529),\n",
       " np.int64(576),\n",
       " np.int64(625),\n",
       " np.int64(676),\n",
       " np.int64(729),\n",
       " np.int64(784),\n",
       " np.int64(841),\n",
       " np.int64(900),\n",
       " np.int64(961),\n",
       " np.int64(1024),\n",
       " np.int64(1089),\n",
       " np.int64(1156),\n",
       " np.int64(1225),\n",
       " np.int64(1296),\n",
       " np.int64(1369),\n",
       " np.int64(1444),\n",
       " np.int64(1521),\n",
       " np.int64(1600),\n",
       " np.int64(1681),\n",
       " np.int64(1764),\n",
       " np.int64(1849),\n",
       " np.int64(1936),\n",
       " np.int64(2025),\n",
       " np.int64(2116),\n",
       " np.int64(2209),\n",
       " np.int64(2304),\n",
       " np.int64(2401),\n",
       " np.int64(2500)]"
      ]
     },
     "execution_count": 23,
     "metadata": {},
     "output_type": "execute_result"
    }
   ],
   "source": [
    "rdd2.collect()"
   ]
  },
  {
   "cell_type": "code",
   "execution_count": 24,
   "id": "3264851c-173b-4284-b2f3-420a6b608c0d",
   "metadata": {},
   "outputs": [
    {
     "data": {
      "text/plain": [
       "[np.float64(0.5), np.float64(2.0), np.float64(4.5)]"
      ]
     },
     "execution_count": 24,
     "metadata": {},
     "output_type": "execute_result"
    }
   ],
   "source": [
    "rdd5.take(3)"
   ]
  },
  {
   "cell_type": "code",
   "execution_count": 25,
   "id": "0927052d-5821-47c4-add9-15a4d7af86f3",
   "metadata": {},
   "outputs": [],
   "source": [
    "rdd = sc.parallelize(data)"
   ]
  },
  {
   "cell_type": "code",
   "execution_count": 26,
   "id": "52e47880-7746-4f70-9178-71d1ca83c656",
   "metadata": {},
   "outputs": [],
   "source": [
    "rdd_2 = (rdd1.map(lambda x : x**2).\n",
    "         map(lambda x:x/2).\n",
    "         map(lambda x: x-4))"
   ]
  },
  {
   "cell_type": "code",
   "execution_count": 27,
   "id": "27a0b866-9796-406e-bc48-00005c05075b",
   "metadata": {},
   "outputs": [
    {
     "data": {
      "text/plain": [
       "[np.float64(-3.5),\n",
       " np.float64(-2.0),\n",
       " np.float64(0.5),\n",
       " np.float64(4.0),\n",
       " np.float64(8.5)]"
      ]
     },
     "execution_count": 27,
     "metadata": {},
     "output_type": "execute_result"
    }
   ],
   "source": [
    "rdd_2.take(5)"
   ]
  },
  {
   "cell_type": "code",
   "execution_count": 28,
   "id": "2bc02fd0-856e-4c0c-9f89-d7dc3c6be6f6",
   "metadata": {},
   "outputs": [],
   "source": [
    "rddFile = sc.textFile('sample.txt')"
   ]
  },
  {
   "cell_type": "code",
   "execution_count": 29,
   "id": "e9fa2cb2-a55d-4fdc-b49c-713969adb051",
   "metadata": {},
   "outputs": [
    {
     "data": {
      "text/plain": [
       "['first line', 'second line', 'third line', 'fourth line']"
      ]
     },
     "execution_count": 29,
     "metadata": {},
     "output_type": "execute_result"
    }
   ],
   "source": [
    "rddFile.collect()"
   ]
  },
  {
   "cell_type": "code",
   "execution_count": 30,
   "id": "21ebd0c4-419b-4808-820e-674d356604fe",
   "metadata": {},
   "outputs": [],
   "source": [
    "rddFile2 = sc.textFile('sample2.txt')"
   ]
  },
  {
   "cell_type": "code",
   "execution_count": 31,
   "id": "65e445fb-04e0-4b25-9352-ce73ad44464c",
   "metadata": {},
   "outputs": [
    {
     "data": {
      "text/plain": [
       "['first', 'second line', 'third line ', 'fourth', 'fifth']"
      ]
     },
     "execution_count": 31,
     "metadata": {},
     "output_type": "execute_result"
    }
   ],
   "source": [
    "rddFile2.collect()"
   ]
  },
  {
   "cell_type": "code",
   "execution_count": 32,
   "id": "3923ec6e-9e1d-4b1b-882e-068bc71f51bd",
   "metadata": {},
   "outputs": [],
   "source": [
    "rddsecond = rddFile.filter(lambda line : 'second' in line)"
   ]
  },
  {
   "cell_type": "code",
   "execution_count": 33,
   "id": "66738854-4629-4cb0-9eef-f3c9a6211674",
   "metadata": {},
   "outputs": [
    {
     "data": {
      "text/plain": [
       "['second line']"
      ]
     },
     "execution_count": 33,
     "metadata": {},
     "output_type": "execute_result"
    }
   ],
   "source": [
    "rddsecond.collect()"
   ]
  },
  {
   "cell_type": "code",
   "execution_count": 34,
   "id": "b201cc98-6f4e-4d6a-b410-8cab470887b0",
   "metadata": {},
   "outputs": [],
   "source": [
    "rddline = rddFile2.filter(lambda line : 'line' in line)"
   ]
  },
  {
   "cell_type": "code",
   "execution_count": 35,
   "id": "d8a9304d-24a1-4293-b88a-c93199cc03cc",
   "metadata": {},
   "outputs": [
    {
     "data": {
      "text/plain": [
       "['second line', 'third line ']"
      ]
     },
     "execution_count": 35,
     "metadata": {},
     "output_type": "execute_result"
    }
   ],
   "source": [
    "rddline.collect()"
   ]
  },
  {
   "cell_type": "code",
   "execution_count": 36,
   "id": "2a8d2acc-b253-4076-bd63-f8ac5ff82825",
   "metadata": {},
   "outputs": [
    {
     "data": {
      "text/plain": [
       "['second line']"
      ]
     },
     "execution_count": 36,
     "metadata": {},
     "output_type": "execute_result"
    }
   ],
   "source": [
    "rddline.take(1)"
   ]
  },
  {
   "cell_type": "code",
   "execution_count": 37,
   "id": "0801a218-6e1e-4f97-b6ae-df2334f7c821",
   "metadata": {},
   "outputs": [
    {
     "data": {
      "text/plain": [
       "'second line'"
      ]
     },
     "execution_count": 37,
     "metadata": {},
     "output_type": "execute_result"
    }
   ],
   "source": [
    "rddline.first()"
   ]
  },
  {
   "cell_type": "code",
   "execution_count": 38,
   "id": "0a94c3c9-e9bd-4182-873a-7b1335527df1",
   "metadata": {},
   "outputs": [
    {
     "data": {
      "text/plain": [
       "[5, 11, 11, 6, 5]"
      ]
     },
     "execution_count": 38,
     "metadata": {},
     "output_type": "execute_result"
    }
   ],
   "source": [
    "rddFile2.map(lambda line : len(line)).collect()"
   ]
  },
  {
   "cell_type": "code",
   "execution_count": 39,
   "id": "6cd6a9ae-b02f-4374-adfb-af997deb8e11",
   "metadata": {},
   "outputs": [],
   "source": [
    "# map is narrow transformtaion\n",
    "def sq(x):\n",
    "    return x**2"
   ]
  },
  {
   "cell_type": "code",
   "execution_count": 40,
   "id": "7b6fd5e4-d04f-41f0-9126-cd135662aa14",
   "metadata": {},
   "outputs": [],
   "source": [
    "rdd2 = rdd1.map(sq)\n",
    "#rdd2 = rdd1.map(lambda x : x**2)"
   ]
  },
  {
   "cell_type": "code",
   "execution_count": 41,
   "id": "d134c454-c9a7-4723-b12a-0d3a2316a485",
   "metadata": {},
   "outputs": [
    {
     "data": {
      "text/plain": [
       "[np.int64(1), np.int64(4), np.int64(9), np.int64(16), np.int64(25)]"
      ]
     },
     "execution_count": 41,
     "metadata": {},
     "output_type": "execute_result"
    }
   ],
   "source": [
    "rdd2.take(5)"
   ]
  },
  {
   "cell_type": "code",
   "execution_count": 42,
   "id": "2cce2ab4-921c-4ce9-8763-921827c97b13",
   "metadata": {},
   "outputs": [],
   "source": [
    "txtRDD = sc.textFile('sample2.txt')"
   ]
  },
  {
   "cell_type": "code",
   "execution_count": 43,
   "id": "d9ae51af-6530-4512-8d44-86c01a3fc30f",
   "metadata": {},
   "outputs": [
    {
     "data": {
      "text/plain": [
       "['first', 'second line', 'third line ', 'fourth', 'fifth']"
      ]
     },
     "execution_count": 43,
     "metadata": {},
     "output_type": "execute_result"
    }
   ],
   "source": [
    "txtRDD.collect()"
   ]
  },
  {
   "cell_type": "code",
   "execution_count": 44,
   "id": "a28d27c8-0208-471d-b17a-6521f7e3146e",
   "metadata": {},
   "outputs": [
    {
     "data": {
      "text/plain": [
       "[['first'], ['second', 'line'], ['third', 'line'], ['fourth'], ['fifth']]"
      ]
     },
     "execution_count": 44,
     "metadata": {},
     "output_type": "execute_result"
    }
   ],
   "source": [
    "txtRDD.map(lambda line : line.split()).collect()"
   ]
  },
  {
   "cell_type": "code",
   "execution_count": 45,
   "id": "941ad85d-6b5c-4bb0-abd2-d353ff0aa59d",
   "metadata": {},
   "outputs": [
    {
     "data": {
      "text/plain": [
       "['first', 'second', 'line', 'third', 'line', 'fourth', 'fifth']"
      ]
     },
     "execution_count": 45,
     "metadata": {},
     "output_type": "execute_result"
    }
   ],
   "source": [
    "txtRDD.flatMap(lambda line : line.split()).collect()"
   ]
  },
  {
   "cell_type": "code",
   "execution_count": 46,
   "id": "dbbcf4d1-1936-41ba-9c85-3c2ddef45c6b",
   "metadata": {},
   "outputs": [
    {
     "data": {
      "text/plain": [
       "['second line', 'third line ']"
      ]
     },
     "execution_count": 46,
     "metadata": {},
     "output_type": "execute_result"
    }
   ],
   "source": [
    "txtRDD.filter(lambda line : \"line\" in line).collect()"
   ]
  },
  {
   "cell_type": "code",
   "execution_count": 47,
   "id": "740619a4-02e0-4c4a-9eee-b94be4ec997d",
   "metadata": {},
   "outputs": [
    {
     "data": {
      "text/plain": [
       "['second line']"
      ]
     },
     "execution_count": 47,
     "metadata": {},
     "output_type": "execute_result"
    }
   ],
   "source": [
    "txtRDD.filter(lambda line : \"second\" in line).collect()"
   ]
  },
  {
   "cell_type": "code",
   "execution_count": 48,
   "id": "fcc586fd-8078-4ed8-a0a1-75939360388a",
   "metadata": {},
   "outputs": [
    {
     "data": {
      "text/plain": [
       "[np.int64(2),\n",
       " np.int64(4),\n",
       " np.int64(6),\n",
       " np.int64(8),\n",
       " np.int64(10),\n",
       " np.int64(12),\n",
       " np.int64(14),\n",
       " np.int64(16),\n",
       " np.int64(18),\n",
       " np.int64(20),\n",
       " np.int64(22),\n",
       " np.int64(24),\n",
       " np.int64(26),\n",
       " np.int64(28),\n",
       " np.int64(30),\n",
       " np.int64(32),\n",
       " np.int64(34),\n",
       " np.int64(36),\n",
       " np.int64(38),\n",
       " np.int64(40),\n",
       " np.int64(42),\n",
       " np.int64(44),\n",
       " np.int64(46),\n",
       " np.int64(48),\n",
       " np.int64(50)]"
      ]
     },
     "execution_count": 48,
     "metadata": {},
     "output_type": "execute_result"
    }
   ],
   "source": [
    "rdd1.filter(lambda x :  x%2  ==0 ).collect()"
   ]
  },
  {
   "cell_type": "code",
   "execution_count": 49,
   "id": "f42d325b-f41d-476f-a7d6-2d7d7610c1a2",
   "metadata": {},
   "outputs": [
    {
     "data": {
      "text/plain": [
       "[np.int64(1),\n",
       " np.int64(3),\n",
       " np.int64(5),\n",
       " np.int64(7),\n",
       " np.int64(9),\n",
       " np.int64(11),\n",
       " np.int64(13),\n",
       " np.int64(15),\n",
       " np.int64(17),\n",
       " np.int64(19),\n",
       " np.int64(21),\n",
       " np.int64(23),\n",
       " np.int64(25),\n",
       " np.int64(27),\n",
       " np.int64(29),\n",
       " np.int64(31),\n",
       " np.int64(33),\n",
       " np.int64(35),\n",
       " np.int64(37),\n",
       " np.int64(39),\n",
       " np.int64(41),\n",
       " np.int64(43),\n",
       " np.int64(45),\n",
       " np.int64(47),\n",
       " np.int64(49)]"
      ]
     },
     "execution_count": 49,
     "metadata": {},
     "output_type": "execute_result"
    }
   ],
   "source": [
    "rdd1.filter(lambda x :  x%2  !=0 ).collect()"
   ]
  },
  {
   "cell_type": "code",
   "execution_count": 50,
   "id": "d67712e1-c163-4b10-abb3-622ed85a65d2",
   "metadata": {},
   "outputs": [],
   "source": [
    "listNames = ['Ahmed', 'Hadeel', 'Asmaa' , 'Rania', 'Hatem','Fares']"
   ]
  },
  {
   "cell_type": "code",
   "execution_count": 51,
   "id": "c6c420f7-9627-494e-bfed-c0de2cfe670b",
   "metadata": {},
   "outputs": [],
   "source": [
    "rddNames = sc.parallelize(listNames)"
   ]
  },
  {
   "cell_type": "code",
   "execution_count": 52,
   "id": "8beb3522-ca92-4be2-8f3d-b4da37379fbe",
   "metadata": {},
   "outputs": [
    {
     "data": {
      "text/plain": [
       "3"
      ]
     },
     "execution_count": 52,
     "metadata": {},
     "output_type": "execute_result"
    }
   ],
   "source": [
    "rddNames.getNumPartitions()"
   ]
  },
  {
   "cell_type": "code",
   "execution_count": 53,
   "id": "4ce62497-b02b-449e-b895-549f12981eb6",
   "metadata": {},
   "outputs": [
    {
     "data": {
      "text/plain": [
       "ParallelCollectionRDD[25] at readRDDFromFile at PythonRDD.scala:297"
      ]
     },
     "execution_count": 53,
     "metadata": {},
     "output_type": "execute_result"
    }
   ],
   "source": [
    "rddNames"
   ]
  },
  {
   "cell_type": "code",
   "execution_count": 54,
   "id": "2be91237-d72c-4859-9779-cb2991f67916",
   "metadata": {},
   "outputs": [],
   "source": [
    "rdd_Names_G =rddNames.groupBy(lambda w : w[0])"
   ]
  },
  {
   "cell_type": "code",
   "execution_count": 55,
   "id": "564adba2-7529-4d1e-b5d5-5af943c49070",
   "metadata": {},
   "outputs": [
    {
     "data": {
      "text/plain": [
       "PythonRDD[30] at RDD at PythonRDD.scala:56"
      ]
     },
     "execution_count": 55,
     "metadata": {},
     "output_type": "execute_result"
    }
   ],
   "source": [
    "rdd_Names_G"
   ]
  },
  {
   "cell_type": "code",
   "execution_count": 56,
   "id": "d61ee9d7-eb8b-45f9-9bbf-66ec2e57c249",
   "metadata": {},
   "outputs": [
    {
     "data": {
      "text/plain": [
       "3"
      ]
     },
     "execution_count": 56,
     "metadata": {},
     "output_type": "execute_result"
    }
   ],
   "source": [
    "rdd_Names_G.getNumPartitions()"
   ]
  },
  {
   "cell_type": "code",
   "execution_count": 57,
   "id": "0dd386c6-6565-4c5f-974c-45049f496fb9",
   "metadata": {},
   "outputs": [
    {
     "data": {
      "text/plain": [
       "[('H', <pyspark.resultiterable.ResultIterable at 0x7e855146aa50>),\n",
       " ('A', <pyspark.resultiterable.ResultIterable at 0x7e85514734d0>),\n",
       " ('R', <pyspark.resultiterable.ResultIterable at 0x7e8551473750>),\n",
       " ('F', <pyspark.resultiterable.ResultIterable at 0x7e8551466060>)]"
      ]
     },
     "execution_count": 57,
     "metadata": {},
     "output_type": "execute_result"
    }
   ],
   "source": [
    "rdd_Names_G.collect()"
   ]
  },
  {
   "cell_type": "code",
   "execution_count": 58,
   "id": "5abecd7d-d37d-4a2b-a266-4f4033808aef",
   "metadata": {},
   "outputs": [],
   "source": [
    "_1st = rdd_Names_G.collect()[0]"
   ]
  },
  {
   "cell_type": "code",
   "execution_count": 59,
   "id": "b46c48ec-b7e0-44bd-aa81-e1ccaa95387d",
   "metadata": {},
   "outputs": [
    {
     "data": {
      "text/plain": [
       "'H'"
      ]
     },
     "execution_count": 59,
     "metadata": {},
     "output_type": "execute_result"
    }
   ],
   "source": [
    "_1st[0]"
   ]
  },
  {
   "cell_type": "code",
   "execution_count": 60,
   "id": "02333da3-c843-4530-903b-fbe0e3f4ac7d",
   "metadata": {},
   "outputs": [
    {
     "data": {
      "text/plain": [
       "<pyspark.resultiterable.ResultIterable at 0x7e8551465f30>"
      ]
     },
     "execution_count": 60,
     "metadata": {},
     "output_type": "execute_result"
    }
   ],
   "source": [
    "_1st[1]"
   ]
  },
  {
   "cell_type": "code",
   "execution_count": 61,
   "id": "d156173b-4e7b-4413-aacc-70c7f90878bf",
   "metadata": {},
   "outputs": [
    {
     "data": {
      "text/plain": [
       "['Hadeel', 'Hatem']"
      ]
     },
     "execution_count": 61,
     "metadata": {},
     "output_type": "execute_result"
    }
   ],
   "source": [
    "list(_1st[1])"
   ]
  },
  {
   "cell_type": "code",
   "execution_count": 62,
   "id": "90fdcb04-d223-47e2-90ff-6da9ee0d71fd",
   "metadata": {},
   "outputs": [
    {
     "data": {
      "text/plain": [
       "[1, 2, 3, 4, 5]"
      ]
     },
     "execution_count": 62,
     "metadata": {},
     "output_type": "execute_result"
    }
   ],
   "source": [
    "#list comprehension\n",
    "\n",
    "lst = [1,2,3,4,5]\n",
    "lst"
   ]
  },
  {
   "cell_type": "code",
   "execution_count": 63,
   "id": "58809722-9752-4783-b75e-ed08d45689c9",
   "metadata": {},
   "outputs": [
    {
     "data": {
      "text/plain": [
       "[1, 4, 9, 16, 25]"
      ]
     },
     "execution_count": 63,
     "metadata": {},
     "output_type": "execute_result"
    }
   ],
   "source": [
    "[x**2 for x in lst ]"
   ]
  },
  {
   "cell_type": "code",
   "execution_count": 64,
   "id": "bbfdd22d-6246-4b8a-b774-c1303cb27f06",
   "metadata": {},
   "outputs": [
    {
     "data": {
      "text/plain": [
       "[0.5, 1.0, 1.5, 2.0, 2.5]"
      ]
     },
     "execution_count": 64,
     "metadata": {},
     "output_type": "execute_result"
    }
   ],
   "source": [
    "[x/2 for x in lst ]"
   ]
  },
  {
   "cell_type": "code",
   "execution_count": 65,
   "id": "97db5b79-5f0d-48e6-94eb-2096ea880fe5",
   "metadata": {},
   "outputs": [],
   "source": [
    "lst_keys = [(1, 'A'),(2,'B'),(3,'C')]"
   ]
  },
  {
   "cell_type": "code",
   "execution_count": 66,
   "id": "19f53359-5dc9-404e-9f1c-2b96abc69c1f",
   "metadata": {},
   "outputs": [
    {
     "data": {
      "text/plain": [
       "[(1, 'A'), (4, 'B'), (9, 'C')]"
      ]
     },
     "execution_count": 66,
     "metadata": {},
     "output_type": "execute_result"
    }
   ],
   "source": [
    "[(n**2,v) for n , v in lst_keys]"
   ]
  },
  {
   "cell_type": "code",
   "execution_count": 67,
   "id": "e75fe47f-13c1-4c56-9909-1441b7441ba7",
   "metadata": {},
   "outputs": [
    {
     "data": {
      "text/plain": [
       "[('H', <pyspark.resultiterable.ResultIterable at 0x7e855147f250>),\n",
       " ('A', <pyspark.resultiterable.ResultIterable at 0x7e855147f750>),\n",
       " ('R', <pyspark.resultiterable.ResultIterable at 0x7e851006fd40>),\n",
       " ('F', <pyspark.resultiterable.ResultIterable at 0x7e851006fc50>)]"
      ]
     },
     "execution_count": 67,
     "metadata": {},
     "output_type": "execute_result"
    }
   ],
   "source": [
    "lst_groub = rdd_Names_G.collect()\n",
    "lst_groub"
   ]
  },
  {
   "cell_type": "code",
   "execution_count": 68,
   "id": "63228a43-4ff0-4504-87f4-0fadaa23831c",
   "metadata": {},
   "outputs": [
    {
     "data": {
      "text/plain": [
       "[('H', ['Hadeel', 'Hatem']),\n",
       " ('A', ['Ahmed', 'Asmaa']),\n",
       " ('R', ['Rania']),\n",
       " ('F', ['Fares'])]"
      ]
     },
     "execution_count": 68,
     "metadata": {},
     "output_type": "execute_result"
    }
   ],
   "source": [
    "[(n ,list(v)) for n , v in lst_groub]"
   ]
  },
  {
   "cell_type": "code",
   "execution_count": 69,
   "id": "cfec08dd-e746-4223-91a9-71136a41889b",
   "metadata": {},
   "outputs": [],
   "source": [
    "new_dict = dict([(n ,list(v)) for n , v in lst_groub])"
   ]
  },
  {
   "cell_type": "code",
   "execution_count": 70,
   "id": "55ac4a7d-221b-4596-8ab7-d5061a332920",
   "metadata": {},
   "outputs": [
    {
     "data": {
      "text/plain": [
       "{'H': ['Hadeel', 'Hatem'],\n",
       " 'A': ['Ahmed', 'Asmaa'],\n",
       " 'R': ['Rania'],\n",
       " 'F': ['Fares']}"
      ]
     },
     "execution_count": 70,
     "metadata": {},
     "output_type": "execute_result"
    }
   ],
   "source": [
    "new_dict"
   ]
  },
  {
   "cell_type": "code",
   "execution_count": 71,
   "id": "1b4a5148-6c8e-4e2c-8a2b-0e61d05db3f1",
   "metadata": {},
   "outputs": [],
   "source": [
    "rdd = sc.parallelize([('B',4) , ('B',5),('A',3),('A',2),('A',1)])"
   ]
  },
  {
   "cell_type": "code",
   "execution_count": 72,
   "id": "ec949997-05f9-44af-9e37-f9016ffbbec4",
   "metadata": {},
   "outputs": [
    {
     "data": {
      "text/plain": [
       "[('B', 4), ('B', 5), ('A', 3), ('A', 2), ('A', 1)]"
      ]
     },
     "execution_count": 72,
     "metadata": {},
     "output_type": "execute_result"
    }
   ],
   "source": [
    "rdd.collect()"
   ]
  },
  {
   "cell_type": "code",
   "execution_count": 73,
   "id": "8b0aeef4-b782-472b-bd5d-f18e82aa7936",
   "metadata": {},
   "outputs": [
    {
     "data": {
      "text/plain": [
       "[('A', <pyspark.resultiterable.ResultIterable at 0x7e850bf457f0>),\n",
       " ('B', <pyspark.resultiterable.ResultIterable at 0x7e850bf459b0>)]"
      ]
     },
     "execution_count": 73,
     "metadata": {},
     "output_type": "execute_result"
    }
   ],
   "source": [
    "rdd.groupByKey().collect()"
   ]
  },
  {
   "cell_type": "code",
   "execution_count": 74,
   "id": "e0baaa83-8111-4cca-af44-2f8edc9536e2",
   "metadata": {},
   "outputs": [
    {
     "data": {
      "text/plain": [
       "[('A', [3, 2, 1]), ('B', [4, 5])]"
      ]
     },
     "execution_count": 74,
     "metadata": {},
     "output_type": "execute_result"
    }
   ],
   "source": [
    "[(k , list(v)) for k ,v in rdd.groupByKey().collect()]"
   ]
  },
  {
   "cell_type": "code",
   "execution_count": 75,
   "id": "2e76b50a-63ab-45a0-8c81-631a41f6663f",
   "metadata": {},
   "outputs": [
    {
     "data": {
      "text/plain": [
       "{'A': [3, 2, 1], 'B': [4, 5]}"
      ]
     },
     "execution_count": 75,
     "metadata": {},
     "output_type": "execute_result"
    }
   ],
   "source": [
    "dict([(k , list(v)) for k ,v in rdd.groupByKey().collect()])"
   ]
  },
  {
   "cell_type": "code",
   "execution_count": 76,
   "id": "3ab174cf-0a32-449b-b873-aba44bb0a707",
   "metadata": {},
   "outputs": [],
   "source": [
    "# Apply Join \n",
    "\n",
    "rdd1 = sc.parallelize([('a',1),('b',2)])\n",
    "rdd2= sc.parallelize([('a',3),('a',4),('b',5)])"
   ]
  },
  {
   "cell_type": "code",
   "execution_count": 77,
   "id": "f5964a2c-d43e-404f-b516-9cd7c292d393",
   "metadata": {},
   "outputs": [
    {
     "data": {
      "text/plain": [
       "PythonRDD[56] at RDD at PythonRDD.scala:56"
      ]
     },
     "execution_count": 77,
     "metadata": {},
     "output_type": "execute_result"
    }
   ],
   "source": [
    "rdd_j = rdd1.join(rdd2)\n",
    "rdd_j"
   ]
  },
  {
   "cell_type": "code",
   "execution_count": 78,
   "id": "155f7b67-86e6-40b4-9712-39f00e44984b",
   "metadata": {},
   "outputs": [
    {
     "name": "stderr",
     "output_type": "stream",
     "text": [
      "                                                                                "
     ]
    },
    {
     "data": {
      "text/plain": [
       "[('b', (2, 5)), ('a', (1, 3)), ('a', (1, 4))]"
      ]
     },
     "execution_count": 78,
     "metadata": {},
     "output_type": "execute_result"
    }
   ],
   "source": [
    "rdd_j.collect()"
   ]
  },
  {
   "cell_type": "code",
   "execution_count": 79,
   "id": "768125ee-10e2-4c2b-a930-a15382527113",
   "metadata": {},
   "outputs": [
    {
     "data": {
      "text/plain": [
       "[('b', (5, 2)), ('a', (3, 1)), ('a', (4, 1))]"
      ]
     },
     "execution_count": 79,
     "metadata": {},
     "output_type": "execute_result"
    }
   ],
   "source": [
    "rdd_j_2 = rdd2.join(rdd1)\n",
    "rdd_j_2\n",
    "rdd_j_2.collect()"
   ]
  },
  {
   "cell_type": "code",
   "execution_count": 80,
   "id": "2487e4c9-9928-4444-ae68-05a54fcc20de",
   "metadata": {},
   "outputs": [
    {
     "data": {
      "text/plain": [
       "[np.int64(1),\n",
       " np.int64(2),\n",
       " np.int64(3),\n",
       " np.int64(4),\n",
       " np.int64(5),\n",
       " np.int64(6),\n",
       " np.int64(7),\n",
       " np.int64(8),\n",
       " np.int64(9),\n",
       " np.int64(10),\n",
       " np.int64(11),\n",
       " np.int64(12),\n",
       " np.int64(13),\n",
       " np.int64(14),\n",
       " np.int64(15),\n",
       " np.int64(16),\n",
       " np.int64(17),\n",
       " np.int64(18),\n",
       " np.int64(19),\n",
       " np.int64(20)]"
      ]
     },
     "execution_count": 80,
     "metadata": {},
     "output_type": "execute_result"
    }
   ],
   "source": [
    "rdd = sc.parallelize(np.arange(1,21))\n",
    "rdd.collect()"
   ]
  },
  {
   "cell_type": "code",
   "execution_count": 82,
   "id": "a4436bf5-8418-4528-bba5-e982fa76b30d",
   "metadata": {},
   "outputs": [
    {
     "data": {
      "text/plain": [
       "np.int64(210)"
      ]
     },
     "execution_count": 82,
     "metadata": {},
     "output_type": "execute_result"
    }
   ],
   "source": [
    "rdd.reduce(lambda a,b : a+b)"
   ]
  },
  {
   "cell_type": "code",
   "execution_count": 83,
   "id": "157d8ece-e15b-46fe-b250-85f0dd663aaf",
   "metadata": {},
   "outputs": [
    {
     "data": {
      "text/plain": [
       "np.int64(210)"
      ]
     },
     "execution_count": 83,
     "metadata": {},
     "output_type": "execute_result"
    }
   ],
   "source": [
    "def addition (a,b):\n",
    "    return a + b\n",
    "rdd.reduce(addition)"
   ]
  },
  {
   "cell_type": "code",
   "execution_count": 84,
   "id": "12b9b7f7-1c95-42f9-898e-dc862654214b",
   "metadata": {},
   "outputs": [
    {
     "data": {
      "text/plain": [
       "np.float64(566730830.7692307)"
      ]
     },
     "execution_count": 84,
     "metadata": {},
     "output_type": "execute_result"
    }
   ],
   "source": [
    "rdd.reduce(lambda a,b : a/b)"
   ]
  },
  {
   "cell_type": "code",
   "execution_count": 85,
   "id": "04bcef48-0530-420b-b083-425692c0a26e",
   "metadata": {},
   "outputs": [
    {
     "data": {
      "text/plain": [
       "np.int64(20)"
      ]
     },
     "execution_count": 85,
     "metadata": {},
     "output_type": "execute_result"
    }
   ],
   "source": [
    "rdd.max()"
   ]
  },
  {
   "cell_type": "code",
   "execution_count": 86,
   "id": "901e7e2a-227a-437d-9864-e5bfbeaa0e78",
   "metadata": {},
   "outputs": [
    {
     "data": {
      "text/plain": [
       "np.int64(1)"
      ]
     },
     "execution_count": 86,
     "metadata": {},
     "output_type": "execute_result"
    }
   ],
   "source": [
    "rdd.min()"
   ]
  },
  {
   "cell_type": "code",
   "execution_count": 87,
   "id": "bd9c32c1-36aa-4ae6-9efb-c3e615e1addc",
   "metadata": {},
   "outputs": [
    {
     "data": {
      "text/plain": [
       "np.int64(210)"
      ]
     },
     "execution_count": 87,
     "metadata": {},
     "output_type": "execute_result"
    }
   ],
   "source": [
    "rdd.sum()"
   ]
  },
  {
   "cell_type": "code",
   "execution_count": 88,
   "id": "0125f61f-e37c-493f-803f-301e9fa3f365",
   "metadata": {},
   "outputs": [
    {
     "data": {
      "text/plain": [
       "np.float64(10.5)"
      ]
     },
     "execution_count": 88,
     "metadata": {},
     "output_type": "execute_result"
    }
   ],
   "source": [
    "rdd.mean()"
   ]
  },
  {
   "cell_type": "code",
   "execution_count": 90,
   "id": "4f942c82-2c3a-42d2-b15d-82cad9c0a153",
   "metadata": {},
   "outputs": [
    {
     "data": {
      "text/plain": [
       "np.float64(33.25)"
      ]
     },
     "execution_count": 90,
     "metadata": {},
     "output_type": "execute_result"
    }
   ],
   "source": [
    "rdd.variance()"
   ]
  },
  {
   "cell_type": "code",
   "execution_count": 91,
   "id": "3ba2eec6-441f-4ab3-ad5e-4e39d8b93a71",
   "metadata": {},
   "outputs": [
    {
     "data": {
      "text/plain": [
       "np.float64(5.766281297335398)"
      ]
     },
     "execution_count": 91,
     "metadata": {},
     "output_type": "execute_result"
    }
   ],
   "source": [
    "rdd.stdev()"
   ]
  },
  {
   "cell_type": "code",
   "execution_count": 94,
   "id": "2c7b1794-97bc-4a1f-a09c-97bcfeede67a",
   "metadata": {},
   "outputs": [
    {
     "data": {
      "text/plain": [
       "20"
      ]
     },
     "execution_count": 94,
     "metadata": {},
     "output_type": "execute_result"
    }
   ],
   "source": [
    "rdd.count()"
   ]
  },
  {
   "cell_type": "code",
   "execution_count": 95,
   "id": "755c384a-fd82-40d7-9d20-c744ab3bd428",
   "metadata": {},
   "outputs": [],
   "source": [
    "rdd_2 = sc.parallelize([('B',4) , ('B',5),('A',3),('A',2),('A',1)])"
   ]
  },
  {
   "cell_type": "code",
   "execution_count": 96,
   "id": "7d13c4be-1dc2-4341-8cd5-5cb40a3bb073",
   "metadata": {},
   "outputs": [
    {
     "data": {
      "text/plain": [
       "defaultdict(int, {'B': 2, 'A': 3})"
      ]
     },
     "execution_count": 96,
     "metadata": {},
     "output_type": "execute_result"
    }
   ],
   "source": [
    "rdd_2.countByKey()"
   ]
  },
  {
   "cell_type": "code",
   "execution_count": 121,
   "id": "bd6354a1-c60c-4ce8-8eb1-eb7370d8207e",
   "metadata": {},
   "outputs": [],
   "source": [
    " # Task \n",
    "dataRDD = sc.parallelize([('Brooke',20),('Denny',31),('Jules',30),('TD',35),('Brooke',25),('Jules',40),('Denny',51),('TD',15),('TD',12)])\n"
   ]
  },
  {
   "cell_type": "code",
   "execution_count": 122,
   "id": "aa2e247d-a44b-4b5e-9202-2c23482109fc",
   "metadata": {},
   "outputs": [
    {
     "data": {
      "text/plain": [
       "[('Brooke', <pyspark.resultiterable.ResultIterable at 0x7e8508aa9250>),\n",
       " ('Denny', <pyspark.resultiterable.ResultIterable at 0x7e8508aaac90>),\n",
       " ('TD', <pyspark.resultiterable.ResultIterable at 0x7e8508aa8710>),\n",
       " ('Jules', <pyspark.resultiterable.ResultIterable at 0x7e8508aa8a10>)]"
      ]
     },
     "execution_count": 122,
     "metadata": {},
     "output_type": "execute_result"
    }
   ],
   "source": [
    "dataRDD.groupByKey().collect()"
   ]
  },
  {
   "cell_type": "code",
   "execution_count": 123,
   "id": "6c9e9a66-2c44-491c-9781-68a29c09d696",
   "metadata": {},
   "outputs": [
    {
     "data": {
      "text/plain": [
       "[('Brooke', [20, 25]),\n",
       " ('Denny', [31, 51]),\n",
       " ('TD', [35, 15, 12]),\n",
       " ('Jules', [30, 40])]"
      ]
     },
     "execution_count": 123,
     "metadata": {},
     "output_type": "execute_result"
    }
   ],
   "source": [
    "[(n,list(v)) for n , v in dataRDD.groupByKey().collect()]"
   ]
  },
  {
   "cell_type": "code",
   "execution_count": 124,
   "id": "473986fb-ec42-4a4d-bff2-3decc506ef7b",
   "metadata": {},
   "outputs": [
    {
     "data": {
      "text/plain": [
       "{'Brooke': 22.5, 'Denny': 41.0, 'TD': 20.666666666666668, 'Jules': 35.0}"
      ]
     },
     "execution_count": 124,
     "metadata": {},
     "output_type": "execute_result"
    }
   ],
   "source": [
    "dict([(n, float(np.average(list(v))))for n , v in dataRDD.groupByKey().collect()])"
   ]
  },
  {
   "cell_type": "code",
   "execution_count": 125,
   "id": "017e2bf6-567a-4cb4-966a-31b5ae7cbe43",
   "metadata": {},
   "outputs": [],
   "source": [
    "rdds1 = dataRDD.map(lambda x: (x[0],(x[1],1)))"
   ]
  },
  {
   "cell_type": "code",
   "execution_count": 126,
   "id": "79a1dd58-7c2b-459d-9285-0710f0eed2a0",
   "metadata": {},
   "outputs": [
    {
     "data": {
      "text/plain": [
       "[('Brooke', (20, 1)),\n",
       " ('Denny', (31, 1)),\n",
       " ('Jules', (30, 1)),\n",
       " ('TD', (35, 1)),\n",
       " ('Brooke', (25, 1)),\n",
       " ('Jules', (40, 1)),\n",
       " ('Denny', (51, 1)),\n",
       " ('TD', (15, 1)),\n",
       " ('TD', (12, 1))]"
      ]
     },
     "execution_count": 126,
     "metadata": {},
     "output_type": "execute_result"
    }
   ],
   "source": [
    "rdds1.collect()"
   ]
  },
  {
   "cell_type": "code",
   "execution_count": 127,
   "id": "20d2d94b-acc8-4d8b-ac60-c326640b55ce",
   "metadata": {},
   "outputs": [],
   "source": [
    "rdds2 = rdds1.reduceByKey(lambda x , y : (x[0]+y[0], x[1]+y[1]))"
   ]
  },
  {
   "cell_type": "code",
   "execution_count": 128,
   "id": "92e4d875-c00a-4083-9fdb-ccea8521735d",
   "metadata": {},
   "outputs": [
    {
     "data": {
      "text/plain": [
       "[('Brooke', (45, 2)), ('Denny', (82, 2)), ('TD', (62, 3)), ('Jules', (70, 2))]"
      ]
     },
     "execution_count": 128,
     "metadata": {},
     "output_type": "execute_result"
    }
   ],
   "source": [
    "rdds2.collect()"
   ]
  },
  {
   "cell_type": "code",
   "execution_count": 133,
   "id": "64f41286-6a8c-4fb8-8975-04c26bd05d81",
   "metadata": {},
   "outputs": [],
   "source": [
    "rdds3 = rdds2.map(lambda x : (x[0], x[1][0]/ x[1][1]))"
   ]
  },
  {
   "cell_type": "code",
   "execution_count": 134,
   "id": "c5e1ee9d-8965-480e-a459-52d158980967",
   "metadata": {},
   "outputs": [
    {
     "data": {
      "text/plain": [
       "[('Brooke', 22.5),\n",
       " ('Denny', 41.0),\n",
       " ('TD', 20.666666666666668),\n",
       " ('Jules', 35.0)]"
      ]
     },
     "execution_count": 134,
     "metadata": {},
     "output_type": "execute_result"
    }
   ],
   "source": [
    "rdds3.collect()"
   ]
  },
  {
   "cell_type": "code",
   "execution_count": 139,
   "id": "91244936-d618-44db-9d91-692d56bbd038",
   "metadata": {},
   "outputs": [],
   "source": [
    "df = spark.createDataFrame(dataRDD, ['name', 'age'])"
   ]
  },
  {
   "cell_type": "code",
   "execution_count": 140,
   "id": "0ba2806a-5d22-47dc-b40d-346ee092b121",
   "metadata": {},
   "outputs": [
    {
     "data": {
      "text/plain": [
       "DataFrame[name: string, age: bigint]"
      ]
     },
     "metadata": {},
     "output_type": "display_data"
    }
   ],
   "source": [
    "display(df)"
   ]
  },
  {
   "cell_type": "code",
   "execution_count": 141,
   "id": "c8bf2b65-ec1e-4234-84ed-ca68f16a99cd",
   "metadata": {},
   "outputs": [
    {
     "name": "stdout",
     "output_type": "stream",
     "text": [
      "root\n",
      " |-- name: string (nullable = true)\n",
      " |-- age: long (nullable = true)\n",
      "\n"
     ]
    }
   ],
   "source": [
    "df.printSchema()"
   ]
  },
  {
   "cell_type": "code",
   "execution_count": 142,
   "id": "5b98b0a1-bdd8-4490-8b1d-95514e0f583e",
   "metadata": {},
   "outputs": [
    {
     "name": "stdout",
     "output_type": "stream",
     "text": [
      "+------+---+\n",
      "|  name|age|\n",
      "+------+---+\n",
      "|Brooke| 20|\n",
      "| Denny| 31|\n",
      "| Jules| 30|\n",
      "|    TD| 35|\n",
      "|Brooke| 25|\n",
      "| Jules| 40|\n",
      "| Denny| 51|\n",
      "|    TD| 15|\n",
      "|    TD| 12|\n",
      "+------+---+\n",
      "\n"
     ]
    }
   ],
   "source": [
    "df.show()"
   ]
  },
  {
   "cell_type": "code",
   "execution_count": 149,
   "id": "47e89930-21f8-4c45-8f69-363bbd6a51f1",
   "metadata": {},
   "outputs": [],
   "source": [
    "df_2 = df.groupby('name').avg('age')"
   ]
  },
  {
   "cell_type": "code",
   "execution_count": 150,
   "id": "5e9dfcb5-208b-4b2f-a667-c12bebb92071",
   "metadata": {},
   "outputs": [
    {
     "name": "stdout",
     "output_type": "stream",
     "text": [
      "+------+------------------+\n",
      "|  name|          avg(age)|\n",
      "+------+------------------+\n",
      "|Brooke|              22.5|\n",
      "| Jules|              35.0|\n",
      "| Denny|              41.0|\n",
      "|    TD|20.666666666666668|\n",
      "+------+------------------+\n",
      "\n"
     ]
    }
   ],
   "source": [
    "df_2.show()"
   ]
  },
  {
   "cell_type": "code",
   "execution_count": null,
   "id": "0a2d9c6d-4dc6-41a7-a377-115f36e2ae31",
   "metadata": {},
   "outputs": [],
   "source": []
  }
 ],
 "metadata": {
  "kernelspec": {
   "display_name": "Python 3 (ipykernel)",
   "language": "python",
   "name": "python3"
  },
  "language_info": {
   "codemirror_mode": {
    "name": "ipython",
    "version": 3
   },
   "file_extension": ".py",
   "mimetype": "text/x-python",
   "name": "python",
   "nbconvert_exporter": "python",
   "pygments_lexer": "ipython3",
   "version": "3.13.5"
  }
 },
 "nbformat": 4,
 "nbformat_minor": 5
}
