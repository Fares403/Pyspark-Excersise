{
 "cells": [
  {
   "cell_type": "code",
   "execution_count": 96,
   "id": "89c4792c-268e-4aaa-aac5-403ac8d33302",
   "metadata": {},
   "outputs": [],
   "source": [
    "import findspark"
   ]
  },
  {
   "cell_type": "code",
   "execution_count": 97,
   "id": "fc307c4b-cd62-443f-96c9-cd3e59055341",
   "metadata": {},
   "outputs": [],
   "source": [
    "findspark.init()"
   ]
  },
  {
   "cell_type": "code",
   "execution_count": 98,
   "id": "1eb70be5-bec3-48ff-800c-552579b10066",
   "metadata": {},
   "outputs": [],
   "source": [
    "from pyspark.sql import SparkSession"
   ]
  },
  {
   "cell_type": "code",
   "execution_count": 99,
   "id": "0ba8184b-1af1-47b2-9ad8-279bdcd4993a",
   "metadata": {},
   "outputs": [],
   "source": [
    "spark = SparkSession.builder.getOrCreate()"
   ]
  },
  {
   "cell_type": "code",
   "execution_count": 100,
   "id": "6731fde8-1801-4e3f-bdda-904d0b3f8124",
   "metadata": {},
   "outputs": [
    {
     "data": {
      "text/html": [
       "\n",
       "            <div>\n",
       "                <p><b>SparkSession - hive</b></p>\n",
       "                \n",
       "        <div>\n",
       "            <p><b>SparkContext</b></p>\n",
       "\n",
       "            <p><a href=\"http://10.0.2.15:4040\">Spark UI</a></p>\n",
       "\n",
       "            <dl>\n",
       "              <dt>Version</dt>\n",
       "                <dd><code>v4.0.1</code></dd>\n",
       "              <dt>Master</dt>\n",
       "                <dd><code>local[*]</code></dd>\n",
       "              <dt>AppName</dt>\n",
       "                <dd><code>PySparkShell</code></dd>\n",
       "            </dl>\n",
       "        </div>\n",
       "        \n",
       "            </div>\n",
       "        "
      ],
      "text/plain": [
       "<pyspark.sql.session.SparkSession at 0x721e43c742f0>"
      ]
     },
     "execution_count": 100,
     "metadata": {},
     "output_type": "execute_result"
    }
   ],
   "source": [
    "spark"
   ]
  },
  {
   "cell_type": "code",
   "execution_count": 101,
   "id": "348293c6-8682-4705-896e-099b86901640",
   "metadata": {},
   "outputs": [],
   "source": [
    "sc = spark.sparkContext"
   ]
  },
  {
   "cell_type": "code",
   "execution_count": 102,
   "id": "f1c19602-21a6-41cd-90f5-cd84bf4dce31",
   "metadata": {},
   "outputs": [],
   "source": [
    " # Task \n",
    "dataRDD = sc.parallelize([('Brooke',20),('Denny',31),('Jules',30),('TD',35),\n",
    "                          ('Brooke',25),('Jules',40),('Denny',51),('TD',15),\n",
    "                          ('TD',12)])\n"
   ]
  },
  {
   "cell_type": "code",
   "execution_count": 103,
   "id": "6f9f2ec2-ec9b-45ad-b568-61e2d919f990",
   "metadata": {},
   "outputs": [
    {
     "data": {
      "text/plain": [
       "[('Brooke', 20),\n",
       " ('Denny', 31),\n",
       " ('Jules', 30),\n",
       " ('TD', 35),\n",
       " ('Brooke', 25),\n",
       " ('Jules', 40),\n",
       " ('Denny', 51),\n",
       " ('TD', 15),\n",
       " ('TD', 12)]"
      ]
     },
     "execution_count": 103,
     "metadata": {},
     "output_type": "execute_result"
    }
   ],
   "source": [
    "dataRDD.collect() # data written in list "
   ]
  },
  {
   "cell_type": "code",
   "execution_count": 104,
   "id": "e507a232-f6ef-45bd-be1f-89b39aab50ce",
   "metadata": {},
   "outputs": [],
   "source": [
    "data_df = spark.createDataFrame(dataRDD, ['name','age'])"
   ]
  },
  {
   "cell_type": "code",
   "execution_count": 105,
   "id": "767ec09b-2340-4cbe-991f-4469fce1714c",
   "metadata": {},
   "outputs": [
    {
     "name": "stdout",
     "output_type": "stream",
     "text": [
      "root\n",
      " |-- name: string (nullable = true)\n",
      " |-- age: long (nullable = true)\n",
      "\n"
     ]
    }
   ],
   "source": [
    "data_df.printSchema()"
   ]
  },
  {
   "cell_type": "code",
   "execution_count": 106,
   "id": "3f8d5bd7-0847-4b6b-8c5f-ac82a39c1e8e",
   "metadata": {},
   "outputs": [
    {
     "name": "stdout",
     "output_type": "stream",
     "text": [
      "+------+---+\n",
      "|  name|age|\n",
      "+------+---+\n",
      "|Brooke| 20|\n",
      "| Denny| 31|\n",
      "| Jules| 30|\n",
      "|    TD| 35|\n",
      "|Brooke| 25|\n",
      "| Jules| 40|\n",
      "| Denny| 51|\n",
      "|    TD| 15|\n",
      "|    TD| 12|\n",
      "+------+---+\n",
      "\n"
     ]
    }
   ],
   "source": [
    " data_df.show()"
   ]
  },
  {
   "cell_type": "code",
   "execution_count": 107,
   "id": "2b3acf36-be9d-4877-a7a6-1eb61f137c6f",
   "metadata": {},
   "outputs": [
    {
     "name": "stdout",
     "output_type": "stream",
     "text": [
      "+------+---+\n",
      "|  name|age|\n",
      "+------+---+\n",
      "|Brooke| 20|\n",
      "| Denny| 31|\n",
      "| Jules| 30|\n",
      "+------+---+\n",
      "only showing top 3 rows\n"
     ]
    }
   ],
   "source": [
    "data_df.show(3)"
   ]
  },
  {
   "cell_type": "code",
   "execution_count": 108,
   "id": "64719f70-912a-4716-a3a9-e58954cc96b3",
   "metadata": {},
   "outputs": [
    {
     "data": {
      "text/plain": [
       "[Row(name='Brooke', age=20),\n",
       " Row(name='Denny', age=31),\n",
       " Row(name='Jules', age=30),\n",
       " Row(name='TD', age=35),\n",
       " Row(name='Brooke', age=25),\n",
       " Row(name='Jules', age=40),\n",
       " Row(name='Denny', age=51),\n",
       " Row(name='TD', age=15),\n",
       " Row(name='TD', age=12)]"
      ]
     },
     "execution_count": 108,
     "metadata": {},
     "output_type": "execute_result"
    }
   ],
   "source": [
    "data_df.collect()"
   ]
  },
  {
   "cell_type": "code",
   "execution_count": 109,
   "id": "418efa05-dea3-48a8-a52e-6f4c836c5abf",
   "metadata": {},
   "outputs": [],
   "source": [
    "r = data_df.collect()[0]"
   ]
  },
  {
   "cell_type": "code",
   "execution_count": 110,
   "id": "d39d03c6-710a-4ba1-ae62-ab1e63fec51f",
   "metadata": {},
   "outputs": [
    {
     "data": {
      "text/plain": [
       "'Brooke'"
      ]
     },
     "execution_count": 110,
     "metadata": {},
     "output_type": "execute_result"
    }
   ],
   "source": [
    "r.name"
   ]
  },
  {
   "cell_type": "code",
   "execution_count": 111,
   "id": "890d2aa7-e902-4cae-a63b-dae85d7a108a",
   "metadata": {},
   "outputs": [
    {
     "data": {
      "text/plain": [
       "20"
      ]
     },
     "execution_count": 111,
     "metadata": {},
     "output_type": "execute_result"
    }
   ],
   "source": [
    "r.age"
   ]
  },
  {
   "cell_type": "code",
   "execution_count": 112,
   "id": "0333bcf4-d525-4316-bd82-c8a0d67d3f17",
   "metadata": {},
   "outputs": [
    {
     "data": {
      "text/plain": [
       "[Row(name='Brooke', age=20),\n",
       " Row(name='Denny', age=31),\n",
       " Row(name='Jules', age=30),\n",
       " Row(name='TD', age=35),\n",
       " Row(name='Brooke', age=25)]"
      ]
     },
     "execution_count": 112,
     "metadata": {},
     "output_type": "execute_result"
    }
   ],
   "source": [
    "data_df.take(5)"
   ]
  },
  {
   "cell_type": "code",
   "execution_count": 113,
   "id": "25191d7b-7fe7-40e5-aae5-99c440b7a99b",
   "metadata": {},
   "outputs": [],
   "source": [
    "avg_age =data_df.groupby('name').avg('age')"
   ]
  },
  {
   "cell_type": "code",
   "execution_count": 114,
   "id": "b1f9c274-580f-4424-a0a7-5e03e59a46c9",
   "metadata": {},
   "outputs": [
    {
     "name": "stdout",
     "output_type": "stream",
     "text": [
      "+------+------------------+\n",
      "|  name|          avg(age)|\n",
      "+------+------------------+\n",
      "|Brooke|              22.5|\n",
      "| Denny|              41.0|\n",
      "| Jules|              35.0|\n",
      "|    TD|20.666666666666668|\n",
      "+------+------------------+\n",
      "\n"
     ]
    }
   ],
   "source": [
    "avg_age.show()"
   ]
  },
  {
   "cell_type": "code",
   "execution_count": 115,
   "id": "cf0cbf4d-acac-403d-91db-bd984f27f014",
   "metadata": {},
   "outputs": [
    {
     "data": {
      "text/plain": [
       "1"
      ]
     },
     "execution_count": 115,
     "metadata": {},
     "output_type": "execute_result"
    }
   ],
   "source": [
    "avg_age.rdd.getNumPartitions()"
   ]
  },
  {
   "cell_type": "code",
   "execution_count": 116,
   "id": "7734f146-1a1c-485b-9f77-03591df34bbb",
   "metadata": {},
   "outputs": [
    {
     "data": {
      "text/plain": [
       "4"
      ]
     },
     "execution_count": 116,
     "metadata": {},
     "output_type": "execute_result"
    }
   ],
   "source": [
    "data_df.rdd.getNumPartitions()"
   ]
  },
  {
   "cell_type": "code",
   "execution_count": 117,
   "id": "4b1b7adb-e0ba-4772-bac9-58a006315c52",
   "metadata": {},
   "outputs": [
    {
     "data": {
      "text/plain": [
       "Row(name='Brooke', age=20)"
      ]
     },
     "execution_count": 117,
     "metadata": {},
     "output_type": "execute_result"
    }
   ],
   "source": [
    "data_df.head()"
   ]
  },
  {
   "cell_type": "code",
   "execution_count": 118,
   "id": "964c3905-436c-47bc-9071-c0b1f29f710b",
   "metadata": {},
   "outputs": [],
   "source": [
    "from pyspark.sql.functions import avg"
   ]
  },
  {
   "cell_type": "code",
   "execution_count": 119,
   "id": "38caa84d-fb58-4371-882a-dbc23056afac",
   "metadata": {},
   "outputs": [],
   "source": [
    " avg_age =data_df.groupby('name').agg(avg('age').alias('Average age'))"
   ]
  },
  {
   "cell_type": "code",
   "execution_count": 120,
   "id": "3f3edcb2-4749-43a0-b9f9-ac24259e1467",
   "metadata": {},
   "outputs": [
    {
     "name": "stdout",
     "output_type": "stream",
     "text": [
      "root\n",
      " |-- name: string (nullable = true)\n",
      " |-- Average age: double (nullable = true)\n",
      "\n"
     ]
    }
   ],
   "source": [
    "avg_age.printSchema()"
   ]
  },
  {
   "cell_type": "code",
   "execution_count": 121,
   "id": "d8b09ea0-fbe9-4cb1-af5e-9d309a657f16",
   "metadata": {},
   "outputs": [
    {
     "name": "stdout",
     "output_type": "stream",
     "text": [
      "+------+------------------+\n",
      "|  name|       Average age|\n",
      "+------+------------------+\n",
      "|Brooke|              22.5|\n",
      "| Denny|              41.0|\n",
      "| Jules|              35.0|\n",
      "|    TD|20.666666666666668|\n",
      "+------+------------------+\n",
      "\n"
     ]
    }
   ],
   "source": [
    "avg_age.show()"
   ]
  },
  {
   "cell_type": "code",
   "execution_count": 122,
   "id": "5cd3d945-9e0e-4fac-9e0d-bdc8c4690d66",
   "metadata": {},
   "outputs": [],
   "source": [
    "df = spark.read.json('people.json')"
   ]
  },
  {
   "cell_type": "code",
   "execution_count": 123,
   "id": "a3927f84-9104-49d0-8d75-efa917575600",
   "metadata": {},
   "outputs": [
    {
     "name": "stdout",
     "output_type": "stream",
     "text": [
      "root\n",
      " |-- age: long (nullable = true)\n",
      " |-- name: string (nullable = true)\n",
      "\n"
     ]
    }
   ],
   "source": [
    "df.printSchema()"
   ]
  },
  {
   "cell_type": "code",
   "execution_count": 124,
   "id": "24713726-400d-4537-99a4-265f79f27305",
   "metadata": {},
   "outputs": [
    {
     "name": "stdout",
     "output_type": "stream",
     "text": [
      "+----+-------+\n",
      "| age|   name|\n",
      "+----+-------+\n",
      "|NULL|Michael|\n",
      "|  30|   Andy|\n",
      "|  19| Justin|\n",
      "+----+-------+\n",
      "\n"
     ]
    }
   ],
   "source": [
    "df.show()"
   ]
  },
  {
   "cell_type": "code",
   "execution_count": 125,
   "id": "5d5bad6f-6502-4b1f-b373-363cf1862ad5",
   "metadata": {},
   "outputs": [
    {
     "data": {
      "text/plain": [
       "(Column<'age'>, Column<'name'>)"
      ]
     },
     "execution_count": 125,
     "metadata": {},
     "output_type": "execute_result"
    }
   ],
   "source": [
    "df.age , df.name"
   ]
  },
  {
   "cell_type": "code",
   "execution_count": 126,
   "id": "15ba1f87-40b0-4a20-8608-8f2a1f383778",
   "metadata": {},
   "outputs": [
    {
     "data": {
      "text/plain": [
       "(Column<'age'>, Column<'name'>)"
      ]
     },
     "execution_count": 126,
     "metadata": {},
     "output_type": "execute_result"
    }
   ],
   "source": [
    "df['age'] , df['name']"
   ]
  },
  {
   "cell_type": "code",
   "execution_count": 127,
   "id": "1efa40a3-94d3-4b50-bf37-5bcd76160af5",
   "metadata": {},
   "outputs": [],
   "source": [
    "from pyspark.sql.functions import col"
   ]
  },
  {
   "cell_type": "code",
   "execution_count": 128,
   "id": "c4246fbc-54a6-44ff-898d-22c3804c4202",
   "metadata": {},
   "outputs": [
    {
     "data": {
      "text/plain": [
       "Column<'AAA'>"
      ]
     },
     "execution_count": 128,
     "metadata": {},
     "output_type": "execute_result"
    }
   ],
   "source": [
    "col('AAA')"
   ]
  },
  {
   "cell_type": "code",
   "execution_count": 129,
   "id": "83ed1b40-4d90-4626-abf8-354585b17666",
   "metadata": {},
   "outputs": [
    {
     "data": {
      "text/plain": [
       "DataFrame[name: string]"
      ]
     },
     "execution_count": 129,
     "metadata": {},
     "output_type": "execute_result"
    }
   ],
   "source": [
    "df.select('name')"
   ]
  },
  {
   "cell_type": "code",
   "execution_count": 130,
   "id": "b98e17b6-bf21-47ef-9f97-a1799110bb33",
   "metadata": {},
   "outputs": [],
   "source": [
    "df_names =df.select('name')"
   ]
  },
  {
   "cell_type": "code",
   "execution_count": 131,
   "id": "85363ddb-a1f1-4c6a-b9ab-3adffad69d87",
   "metadata": {},
   "outputs": [
    {
     "name": "stdout",
     "output_type": "stream",
     "text": [
      "root\n",
      " |-- name: string (nullable = true)\n",
      "\n"
     ]
    }
   ],
   "source": [
    "df_names.printSchema()"
   ]
  },
  {
   "cell_type": "code",
   "execution_count": 132,
   "id": "f37a557a-7e2e-445d-93cc-5afc02d437a2",
   "metadata": {},
   "outputs": [
    {
     "name": "stdout",
     "output_type": "stream",
     "text": [
      "+-------+\n",
      "|   name|\n",
      "+-------+\n",
      "|Michael|\n",
      "|   Andy|\n",
      "| Justin|\n",
      "+-------+\n",
      "\n"
     ]
    }
   ],
   "source": [
    "df_names.show()"
   ]
  },
  {
   "cell_type": "code",
   "execution_count": 133,
   "id": "a6f9f024-3d96-450a-8690-5d5385f647e2",
   "metadata": {},
   "outputs": [],
   "source": [
    "df_ages = df.select(\"age\")"
   ]
  },
  {
   "cell_type": "code",
   "execution_count": 134,
   "id": "7a115037-cdcb-4735-ac96-3eed46ede434",
   "metadata": {},
   "outputs": [
    {
     "name": "stdout",
     "output_type": "stream",
     "text": [
      "+----+\n",
      "| age|\n",
      "+----+\n",
      "|NULL|\n",
      "|  30|\n",
      "|  19|\n",
      "+----+\n",
      "\n"
     ]
    }
   ],
   "source": [
    "df_ages.show()"
   ]
  },
  {
   "cell_type": "code",
   "execution_count": 135,
   "id": "adac32ed-c008-4212-bf99-746329a5f1b9",
   "metadata": {},
   "outputs": [],
   "source": [
    "# Spark Job is A collection of Transformation followed By Action "
   ]
  },
  {
   "cell_type": "code",
   "execution_count": 136,
   "id": "d1e7cb90-e8ac-4beb-89c1-ce0aa2356b34",
   "metadata": {},
   "outputs": [],
   "source": [
    "df_adults =df_ages.where(col('age') > 20)"
   ]
  },
  {
   "cell_type": "code",
   "execution_count": 137,
   "id": "18fa7ab4-ef79-458b-92b8-9f1206529e23",
   "metadata": {},
   "outputs": [
    {
     "name": "stdout",
     "output_type": "stream",
     "text": [
      "+---+\n",
      "|age|\n",
      "+---+\n",
      "| 30|\n",
      "+---+\n",
      "\n"
     ]
    }
   ],
   "source": [
    "df_adults.show()"
   ]
  },
  {
   "cell_type": "code",
   "execution_count": 138,
   "id": "6f31010d-76d9-4820-a4c1-ad63ed270110",
   "metadata": {},
   "outputs": [],
   "source": [
    "# OPerations in DF in 'DAG'"
   ]
  },
  {
   "cell_type": "code",
   "execution_count": 139,
   "id": "004b9503-9428-4e7c-a184-4d2af4565b50",
   "metadata": {},
   "outputs": [
    {
     "name": "stderr",
     "output_type": "stream",
     "text": [
      "25/10/16 00:56:52 WARN CacheManager: Asked to cache already cached data.\n"
     ]
    },
    {
     "data": {
      "text/plain": [
       "DataFrame[age: bigint, name: string]"
      ]
     },
     "execution_count": 139,
     "metadata": {},
     "output_type": "execute_result"
    }
   ],
   "source": [
    "df.cache() "
   ]
  },
  {
   "cell_type": "code",
   "execution_count": 140,
   "id": "786ab85d-c9ac-412c-b8e0-2c7a1da76849",
   "metadata": {},
   "outputs": [],
   "source": [
    "#-----------------------------------------------------"
   ]
  },
  {
   "cell_type": "code",
   "execution_count": 141,
   "id": "7627342c-fc63-4fd9-ac36-c078ce85a94f",
   "metadata": {},
   "outputs": [],
   "source": [
    "import pandas as pd "
   ]
  },
  {
   "cell_type": "code",
   "execution_count": 142,
   "id": "79845cda-d785-49e8-a5a8-a020dd8fd144",
   "metadata": {},
   "outputs": [],
   "source": [
    "pdf = pd.read_csv('fruits.csv')"
   ]
  },
  {
   "cell_type": "code",
   "execution_count": 143,
   "id": "0138f497-d537-471a-8487-7f533efa64bb",
   "metadata": {},
   "outputs": [
    {
     "name": "stdout",
     "output_type": "stream",
     "text": [
      "+------+------+---+---+\n",
      "| color| fruit| v1| v2|\n",
      "+------+------+---+---+\n",
      "|   red| apple|3.0|5.0|\n",
      "|   red| apple|5.0|6.0|\n",
      "|Yellow| banna|5.0|3.0|\n",
      "|  blue| grape|6.0|1.0|\n",
      "|Yellow| banna|2.0|7.0|\n",
      "|  blue| grape|7.0|1.0|\n",
      "|Yellow| banna|1.0|2.0|\n",
      "|Yellow|carrot|2.0|3.0|\n",
      "|  blue| grape|7.0|1.0|\n",
      "|Yellow| banna|1.0|2.0|\n",
      "+------+------+---+---+\n",
      "\n"
     ]
    }
   ],
   "source": [
    "df = spark.createDataFrame(pdf)\n",
    "df.show()"
   ]
  },
  {
   "cell_type": "code",
   "execution_count": 144,
   "id": "df60532b-f410-4ecd-8b93-b9422ab41d54",
   "metadata": {},
   "outputs": [
    {
     "data": {
      "text/plain": [
       "DataFrame[color: string, fruit: string, v1: double, v2: double]"
      ]
     },
     "execution_count": 144,
     "metadata": {},
     "output_type": "execute_result"
    }
   ],
   "source": [
    "df.cache()"
   ]
  },
  {
   "cell_type": "code",
   "execution_count": 145,
   "id": "9f489928-0941-489f-9ac2-b6a6d82f34d3",
   "metadata": {},
   "outputs": [
    {
     "name": "stdout",
     "output_type": "stream",
     "text": [
      "+------+-----------------+-------+\n",
      "| fruit|          avg(v1)|avg(v2)|\n",
      "+------+-----------------+-------+\n",
      "| apple|              4.0|    5.5|\n",
      "| grape|6.666666666666667|    1.0|\n",
      "| banna|             2.25|    3.5|\n",
      "|carrot|              2.0|    3.0|\n",
      "+------+-----------------+-------+\n",
      "\n"
     ]
    }
   ],
   "source": [
    "df.groupBy('fruit').avg().show()"
   ]
  },
  {
   "cell_type": "code",
   "execution_count": 146,
   "id": "9701f62c-c0de-43ba-8564-b20e9194a625",
   "metadata": {},
   "outputs": [
    {
     "name": "stdout",
     "output_type": "stream",
     "text": [
      "+------+-------+-------+\n",
      "| fruit|sum(v1)|sum(v2)|\n",
      "+------+-------+-------+\n",
      "| apple|    8.0|   11.0|\n",
      "| grape|   20.0|    3.0|\n",
      "| banna|    9.0|   14.0|\n",
      "|carrot|    2.0|    3.0|\n",
      "+------+-------+-------+\n",
      "\n"
     ]
    }
   ],
   "source": [
    "df.groupBy('fruit').sum().show()"
   ]
  },
  {
   "cell_type": "code",
   "execution_count": 147,
   "id": "9414601b-ea0d-4320-be5e-1fb020bf46af",
   "metadata": {},
   "outputs": [
    {
     "name": "stdout",
     "output_type": "stream",
     "text": [
      "+------+-------+\n",
      "| fruit|sum(v1)|\n",
      "+------+-------+\n",
      "| apple|    8.0|\n",
      "| grape|   20.0|\n",
      "| banna|    9.0|\n",
      "|carrot|    2.0|\n",
      "+------+-------+\n",
      "\n"
     ]
    }
   ],
   "source": [
    "df.groupBy('fruit').sum('v1').show()"
   ]
  },
  {
   "cell_type": "code",
   "execution_count": 148,
   "id": "656222c7-efc2-4ef4-a271-638d83d6cec0",
   "metadata": {},
   "outputs": [
    {
     "name": "stdout",
     "output_type": "stream",
     "text": [
      "+------+-----------------+\n",
      "| fruit|           avg_v1|\n",
      "+------+-----------------+\n",
      "| apple|              4.0|\n",
      "| grape|6.666666666666667|\n",
      "| banna|             2.25|\n",
      "|carrot|              2.0|\n",
      "+------+-----------------+\n",
      "\n"
     ]
    }
   ],
   "source": [
    "df.groupBy('fruit').agg(avg('v1').alias('avg_v1')).show()"
   ]
  },
  {
   "cell_type": "code",
   "execution_count": 149,
   "id": "28e484da-a9bc-40f9-b5e7-185c2798cb8d",
   "metadata": {},
   "outputs": [],
   "source": [
    "from pyspark.sql.functions import *\n",
    "import pyspark.sql.functions as fn "
   ]
  },
  {
   "cell_type": "code",
   "execution_count": 150,
   "id": "e1a8bc51-6aea-4b8c-a1e1-694ff8232014",
   "metadata": {},
   "outputs": [
    {
     "name": "stdout",
     "output_type": "stream",
     "text": [
      "+------+-------+\n",
      "| color|sum(v1)|\n",
      "+------+-------+\n",
      "|   red|    8.0|\n",
      "|Yellow|   11.0|\n",
      "|  blue|   20.0|\n",
      "+------+-------+\n",
      "\n"
     ]
    }
   ],
   "source": [
    "df.groupBy('color').sum('v1').show()"
   ]
  },
  {
   "cell_type": "code",
   "execution_count": 151,
   "id": "3a369b8c-9d19-492c-acdc-0ad14fb7d0b7",
   "metadata": {},
   "outputs": [
    {
     "name": "stdout",
     "output_type": "stream",
     "text": [
      "+------+------+-------+-------+\n",
      "| color| fruit|sum(v1)|sum(v2)|\n",
      "+------+------+-------+-------+\n",
      "|   red| apple|    8.0|   11.0|\n",
      "|  blue| grape|   20.0|    3.0|\n",
      "|Yellow| banna|    9.0|   14.0|\n",
      "|Yellow|carrot|    2.0|    3.0|\n",
      "+------+------+-------+-------+\n",
      "\n"
     ]
    }
   ],
   "source": [
    "  df.groupBy('color','fruit').sum('v1','v2').show()"
   ]
  },
  {
   "cell_type": "code",
   "execution_count": 152,
   "id": "8022a58a-4456-42cd-8bb8-6d9845e78a42",
   "metadata": {},
   "outputs": [
    {
     "name": "stdout",
     "output_type": "stream",
     "text": [
      "+------+-----------------+\n",
      "| color|       average_v1|\n",
      "+------+-----------------+\n",
      "|   red|              4.0|\n",
      "|Yellow|              2.2|\n",
      "|  blue|6.666666666666667|\n",
      "+------+-----------------+\n",
      "\n"
     ]
    }
   ],
   "source": [
    "df.groupBy('color').agg(avg('v1').alias('average_v1')).show()"
   ]
  },
  {
   "cell_type": "code",
   "execution_count": 153,
   "id": "bf23d9ea-c9d2-461a-a91c-b6f10245cd1c",
   "metadata": {},
   "outputs": [
    {
     "name": "stdout",
     "output_type": "stream",
     "text": [
      "+------+-----------------+------+\n",
      "| color|           avg_v1|avg_v2|\n",
      "+------+-----------------+------+\n",
      "|   red|              4.0|   5.5|\n",
      "|Yellow|              2.2|   3.4|\n",
      "|  blue|6.666666666666667|   1.0|\n",
      "+------+-----------------+------+\n",
      "\n"
     ]
    }
   ],
   "source": [
    "df.groupBy('color').agg(avg('v1').alias('avg_v1') , avg('v2').alias('avg_v2')).show()"
   ]
  },
  {
   "cell_type": "code",
   "execution_count": 154,
   "id": "63848492-2222-4a80-99c1-b8982efa1045",
   "metadata": {},
   "outputs": [
    {
     "name": "stdout",
     "output_type": "stream",
     "text": [
      "+------+------+-----------------+------+-------+\n",
      "| color| fruit|           avg_v1|avg_v2|sum(v1)|\n",
      "+------+------+-----------------+------+-------+\n",
      "|   red| apple|              4.0|   5.5|    8.0|\n",
      "|  blue| grape|6.666666666666667|   1.0|   20.0|\n",
      "|Yellow| banna|             2.25|   3.5|    9.0|\n",
      "|Yellow|carrot|              2.0|   3.0|    2.0|\n",
      "+------+------+-----------------+------+-------+\n",
      "\n"
     ]
    }
   ],
   "source": [
    "df.groupBy('color','fruit').agg(avg('v1').alias('avg_v1') , avg('v2').alias('avg_v2') ,fn.sum('v1')).show()"
   ]
  },
  {
   "cell_type": "code",
   "execution_count": 155,
   "id": "46c95954-9931-4c9b-a7b1-45d3b3d5cea7",
   "metadata": {},
   "outputs": [
    {
     "name": "stderr",
     "output_type": "stream",
     "text": [
      "25/10/16 00:56:56 WARN CacheManager: Asked to cache already cached data.\n"
     ]
    },
    {
     "data": {
      "text/plain": [
       "DataFrame[color: string, fruit: string, v1: double, v2: double]"
      ]
     },
     "execution_count": 155,
     "metadata": {},
     "output_type": "execute_result"
    }
   ],
   "source": [
    "df.persist() #after first action , df will persisted in memory"
   ]
  },
  {
   "cell_type": "code",
   "execution_count": 156,
   "id": "231c4e1e-62d4-47a7-a72a-27c07e202533",
   "metadata": {},
   "outputs": [
    {
     "name": "stdout",
     "output_type": "stream",
     "text": [
      "+------+------+-------+\n",
      "| color| fruit|#fruits|\n",
      "+------+------+-------+\n",
      "|   red| apple|      2|\n",
      "|  blue| grape|      3|\n",
      "|Yellow| banna|      4|\n",
      "|Yellow|carrot|      1|\n",
      "+------+------+-------+\n",
      "\n"
     ]
    }
   ],
   "source": [
    "df.groupBy('color','fruit').agg(count('fruit').alias('#fruits')).show()"
   ]
  },
  {
   "cell_type": "code",
   "execution_count": 157,
   "id": "79257adb-d9b0-4864-ae8f-fc6db54309d7",
   "metadata": {},
   "outputs": [
    {
     "data": {
      "text/plain": [
       "DataFrame[color: string, fruit: string, v1: double, v2: double]"
      ]
     },
     "execution_count": 157,
     "metadata": {},
     "output_type": "execute_result"
    }
   ],
   "source": [
    "df.unpersist() # remove df from memory"
   ]
  },
  {
   "cell_type": "code",
   "execution_count": 158,
   "id": "db288b1f-a263-48c0-a475-a35965515a74",
   "metadata": {},
   "outputs": [
    {
     "data": {
      "text/plain": [
       "DataFrame[color: string, fruit: string, v1: double, v2: double]"
      ]
     },
     "execution_count": 158,
     "metadata": {},
     "output_type": "execute_result"
    }
   ],
   "source": [
    "df.cache()"
   ]
  },
  {
   "cell_type": "code",
   "execution_count": 159,
   "id": "1652bb8e-02f5-4ba7-88f4-4164d253677b",
   "metadata": {},
   "outputs": [],
   "source": [
    "df_sorted = df.sort('fruit')"
   ]
  },
  {
   "cell_type": "code",
   "execution_count": 160,
   "id": "c98149fc-80de-4ca5-8ddc-54be2dddfa74",
   "metadata": {},
   "outputs": [
    {
     "name": "stdout",
     "output_type": "stream",
     "text": [
      "+------+------+---+---+\n",
      "| color| fruit| v1| v2|\n",
      "+------+------+---+---+\n",
      "|   red| apple|3.0|5.0|\n",
      "|   red| apple|5.0|6.0|\n",
      "|Yellow| banna|5.0|3.0|\n",
      "|Yellow| banna|2.0|7.0|\n",
      "|Yellow| banna|1.0|2.0|\n",
      "|Yellow| banna|1.0|2.0|\n",
      "|Yellow|carrot|2.0|3.0|\n",
      "|  blue| grape|6.0|1.0|\n",
      "|  blue| grape|7.0|1.0|\n",
      "|  blue| grape|7.0|1.0|\n",
      "+------+------+---+---+\n",
      "\n"
     ]
    }
   ],
   "source": [
    "df_sorted.show()"
   ]
  },
  {
   "cell_type": "code",
   "execution_count": 161,
   "id": "fec91511-fddc-44fa-86ca-3b52180ac63c",
   "metadata": {},
   "outputs": [],
   "source": [
    "df_sorted_2 = df.sort('color' , 'fruit')"
   ]
  },
  {
   "cell_type": "code",
   "execution_count": 162,
   "id": "0e488796-98ca-459e-8f7d-508d9a81f89b",
   "metadata": {},
   "outputs": [
    {
     "name": "stdout",
     "output_type": "stream",
     "text": [
      "+------+------+---+---+\n",
      "| color| fruit| v1| v2|\n",
      "+------+------+---+---+\n",
      "|Yellow| banna|1.0|2.0|\n",
      "|Yellow| banna|5.0|3.0|\n",
      "|Yellow| banna|2.0|7.0|\n",
      "|Yellow| banna|1.0|2.0|\n",
      "|Yellow|carrot|2.0|3.0|\n",
      "|  blue| grape|6.0|1.0|\n",
      "|  blue| grape|7.0|1.0|\n",
      "|  blue| grape|7.0|1.0|\n",
      "|   red| apple|3.0|5.0|\n",
      "|   red| apple|5.0|6.0|\n",
      "+------+------+---+---+\n",
      "\n"
     ]
    }
   ],
   "source": [
    "df_sorted_2.show()"
   ]
  },
  {
   "cell_type": "code",
   "execution_count": 163,
   "id": "f3e037f7-5b31-49a2-8605-761fa13aa384",
   "metadata": {},
   "outputs": [
    {
     "name": "stdout",
     "output_type": "stream",
     "text": [
      "root\n",
      " |-- color: string (nullable = true)\n",
      " |-- fruit: string (nullable = true)\n",
      " |-- v1: double (nullable = true)\n",
      " |-- v2: double (nullable = true)\n",
      "\n"
     ]
    }
   ],
   "source": [
    "df_sorted_2.printSchema()"
   ]
  },
  {
   "cell_type": "code",
   "execution_count": 164,
   "id": "f260d941-be80-44d6-8d5a-a9e4874c8ca2",
   "metadata": {},
   "outputs": [
    {
     "name": "stdout",
     "output_type": "stream",
     "text": [
      "root\n",
      " |-- color: string (nullable = true)\n",
      " |-- fruit: string (nullable = true)\n",
      " |-- v1: double (nullable = true)\n",
      " |-- v2: double (nullable = true)\n",
      "\n"
     ]
    }
   ],
   "source": [
    "df.printSchema()"
   ]
  },
  {
   "cell_type": "code",
   "execution_count": 165,
   "id": "6bbce22d-1855-4809-aebc-f972ed4a1337",
   "metadata": {},
   "outputs": [],
   "source": [
    "#Defining Schema for df\n",
    "# Note : Parquet file has built in Schema\n",
    "# -- Defining Schema as two types: (Programmatically , DDL)"
   ]
  },
  {
   "cell_type": "code",
   "execution_count": 166,
   "id": "0fbbcb61-8805-4862-b373-6eab2694ed7c",
   "metadata": {},
   "outputs": [],
   "source": [
    "#Schema Programmatically\n",
    "\n",
    "from pyspark.sql.types import *"
   ]
  },
  {
   "cell_type": "code",
   "execution_count": 167,
   "id": "32dca815-d6df-465d-afdd-9e7f34ec37bf",
   "metadata": {},
   "outputs": [],
   "source": [
    "MySchema = StructType([StructField('author',StringType(),False),\n",
    "                       StructField('title',StringType(),False),\n",
    "                       StructField('pages',IntegerType(),False)])"
   ]
  },
  {
   "cell_type": "code",
   "execution_count": 168,
   "id": "7faf9f34-55dc-4a2b-9869-e9b59d444db2",
   "metadata": {},
   "outputs": [],
   "source": [
    "# spark.read.csv(schema=MySchema)"
   ]
  },
  {
   "cell_type": "code",
   "execution_count": 169,
   "id": "ec526609-5827-4396-8f64-da387462a788",
   "metadata": {},
   "outputs": [],
   "source": [
    "# spark.createDataFrame(schema=MySchema)"
   ]
  },
  {
   "cell_type": "code",
   "execution_count": 170,
   "id": "98efd497-142e-4025-9e5b-8bfb73b7e324",
   "metadata": {},
   "outputs": [],
   "source": [
    "MyNewSchema = 'ID INT not null, First STRING, Last STRING, Url STRING, Published STRING, Hits INT, Campaigns ARRAY<STRING>'"
   ]
  },
  {
   "cell_type": "code",
   "execution_count": 171,
   "id": "02bde1db-293f-47b0-8bf6-375024ef577c",
   "metadata": {},
   "outputs": [],
   "source": [
    "MyNewSchema_ = 'ID INT not null, First STRING, `Last Name` STRING, Url STRING, Published STRING, Hits INT, Campaigns ARRAY<STRING>'"
   ]
  },
  {
   "cell_type": "code",
   "execution_count": 172,
   "id": "52772fa9-86c0-4647-ad15-ed9f140cbe70",
   "metadata": {},
   "outputs": [
    {
     "data": {
      "text/plain": [
       "'ID INT not null, First STRING, Last STRING, Url STRING, Published STRING, Hits INT, Campaigns ARRAY<STRING>'"
      ]
     },
     "execution_count": 172,
     "metadata": {},
     "output_type": "execute_result"
    }
   ],
   "source": [
    "MyNewSchema"
   ]
  },
  {
   "cell_type": "code",
   "execution_count": 173,
   "id": "d4f00386-ba22-4c6c-9beb-2587ced334c0",
   "metadata": {},
   "outputs": [],
   "source": [
    "data =[[1,\"Jules\",\"Verne\",\"http://www.example.com/1\",\"2014-01-01\",254,[\"email\",\"web\"]],\n",
    "       [2,\"H.G.\",\"Wells\",\"http://www.example.com/2\",\"2014-01-02\",123,[\"web\"]],\n",
    "       [3,\"Isaac\",\"Asimov\",\"http://www.example.com/3\",\"2014-02-01\",456,[\"email\",\"ads\",\"web\"]],\n",
    "       [4,\"Douglas\",\"Adams\",\"http://www.example.com/4\",\"2014-03-05\",321,[\"ads\",\"web\"]],\n",
    "       [5,\"Arthur C.\",\"Clarke\",\"http://www.example.com/5\",\"2014-04-01\",213,[\"email\",\"ads\"]],\n",
    "       [6,\"Frank\",\"Herbert\",\"http://www.example.com/6\",\"2014-04-15\",312,[\"email\",\"web\"]],\n",
    "       [7,\"Ursula K.\",\"Le Guin\",\"http://www.example.com/7\",\"2014-05-21\",213,[\"web\"]]]"
   ]
  },
  {
   "cell_type": "code",
   "execution_count": 174,
   "id": "77571466-5abd-4add-895d-0f339b0282b5",
   "metadata": {},
   "outputs": [],
   "source": [
    "blogs_df = spark.createDataFrame(data, schema = MyNewSchema)"
   ]
  },
  {
   "cell_type": "code",
   "execution_count": 175,
   "id": "76652936-ac8e-47a3-9d91-4daa8365f1be",
   "metadata": {},
   "outputs": [
    {
     "name": "stdout",
     "output_type": "stream",
     "text": [
      "+---+---------+-------+--------------------+----------+----+-----------------+\n",
      "| ID|    First|   Last|                 Url| Published|Hits|        Campaigns|\n",
      "+---+---------+-------+--------------------+----------+----+-----------------+\n",
      "|  1|    Jules|  Verne|http://www.exampl...|2014-01-01| 254|     [email, web]|\n",
      "|  2|     H.G.|  Wells|http://www.exampl...|2014-01-02| 123|            [web]|\n",
      "|  3|    Isaac| Asimov|http://www.exampl...|2014-02-01| 456|[email, ads, web]|\n",
      "|  4|  Douglas|  Adams|http://www.exampl...|2014-03-05| 321|       [ads, web]|\n",
      "|  5|Arthur C.| Clarke|http://www.exampl...|2014-04-01| 213|     [email, ads]|\n",
      "|  6|    Frank|Herbert|http://www.exampl...|2014-04-15| 312|     [email, web]|\n",
      "|  7|Ursula K.|Le Guin|http://www.exampl...|2014-05-21| 213|            [web]|\n",
      "+---+---------+-------+--------------------+----------+----+-----------------+\n",
      "\n"
     ]
    }
   ],
   "source": [
    "blogs_df.show()"
   ]
  },
  {
   "cell_type": "code",
   "execution_count": 176,
   "id": "d6d412f9-27f2-4dbd-b18f-ef021adc1233",
   "metadata": {},
   "outputs": [
    {
     "name": "stdout",
     "output_type": "stream",
     "text": [
      "root\n",
      " |-- ID: integer (nullable = false)\n",
      " |-- First: string (nullable = true)\n",
      " |-- Last: string (nullable = true)\n",
      " |-- Url: string (nullable = true)\n",
      " |-- Published: string (nullable = true)\n",
      " |-- Hits: integer (nullable = true)\n",
      " |-- Campaigns: array (nullable = true)\n",
      " |    |-- element: string (containsNull = true)\n",
      "\n"
     ]
    }
   ],
   "source": [
    "blogs_df.printSchema()"
   ]
  },
  {
   "cell_type": "code",
   "execution_count": 177,
   "id": "9f99f00c-54b0-49f7-80d5-cd15a6aa0b04",
   "metadata": {},
   "outputs": [
    {
     "name": "stdout",
     "output_type": "stream",
     "text": [
      "+---+---------+-------+--------------------+----------+----+-----------------+\n",
      "| ID|    First|   Last|                 Url| Published|Hits|        Campaigns|\n",
      "+---+---------+-------+--------------------+----------+----+-----------------+\n",
      "|  1|    Jules|  Verne|http://www.exampl...|2014-01-01| 254|     [email, web]|\n",
      "|  2|     H.G.|  Wells|http://www.exampl...|2014-01-02| 123|            [web]|\n",
      "|  3|    Isaac| Asimov|http://www.exampl...|2014-02-01| 456|[email, ads, web]|\n",
      "|  4|  Douglas|  Adams|http://www.exampl...|2014-03-05| 321|       [ads, web]|\n",
      "|  5|Arthur C.| Clarke|http://www.exampl...|2014-04-01| 213|     [email, ads]|\n",
      "|  6|    Frank|Herbert|http://www.exampl...|2014-04-15| 312|     [email, web]|\n",
      "|  7|Ursula K.|Le Guin|http://www.exampl...|2014-05-21| 213|            [web]|\n",
      "+---+---------+-------+--------------------+----------+----+-----------------+\n",
      "\n"
     ]
    }
   ],
   "source": [
    "blogs_df.show()"
   ]
  },
  {
   "cell_type": "code",
   "execution_count": 178,
   "id": "586e9cfa-90f2-405f-ab41-0782987dffa6",
   "metadata": {},
   "outputs": [],
   "source": [
    "#Create df without schema difine \n",
    "blog_df_2 = spark.createDataFrame(data)"
   ]
  },
  {
   "cell_type": "code",
   "execution_count": 179,
   "id": "86cb22bd-5896-4a63-b063-e9f9b8c21a0d",
   "metadata": {},
   "outputs": [
    {
     "name": "stdout",
     "output_type": "stream",
     "text": [
      "root\n",
      " |-- _1: long (nullable = true)\n",
      " |-- _2: string (nullable = true)\n",
      " |-- _3: string (nullable = true)\n",
      " |-- _4: string (nullable = true)\n",
      " |-- _5: string (nullable = true)\n",
      " |-- _6: long (nullable = true)\n",
      " |-- _7: array (nullable = true)\n",
      " |    |-- element: string (containsNull = true)\n",
      "\n"
     ]
    }
   ],
   "source": [
    "blog_df_2.printSchema()"
   ]
  },
  {
   "cell_type": "code",
   "execution_count": 181,
   "id": "9d6f7b01-b4a3-4b9b-b5d1-650eda05ee6b",
   "metadata": {},
   "outputs": [
    {
     "data": {
      "text/plain": [
       "DataFrame[ID: int, First: string, Last: string, Url: string, Published: string, Hits: int, Campaigns: array<string>]"
      ]
     },
     "execution_count": 181,
     "metadata": {},
     "output_type": "execute_result"
    }
   ],
   "source": [
    "blogs_df.cache()"
   ]
  },
  {
   "cell_type": "code",
   "execution_count": 190,
   "id": "9d0b86f4-48bb-47ff-b0bc-bd6c341ea6ac",
   "metadata": {},
   "outputs": [],
   "source": [
    "df2 = blogs_df.select(blogs_df['Hits']*10)"
   ]
  },
  {
   "cell_type": "code",
   "execution_count": 191,
   "id": "3c67fff8-8679-41df-8b17-462849625ab7",
   "metadata": {},
   "outputs": [
    {
     "name": "stdout",
     "output_type": "stream",
     "text": [
      "root\n",
      " |-- (Hits * 10): integer (nullable = true)\n",
      "\n"
     ]
    }
   ],
   "source": [
    "df2.printSchema()"
   ]
  },
  {
   "cell_type": "code",
   "execution_count": 195,
   "id": "b009ea42-d1f7-494c-a2c6-3034729f3396",
   "metadata": {},
   "outputs": [],
   "source": [
    "df3= blogs_df.select((col('Hits')*10).alias('10Hits'))"
   ]
  },
  {
   "cell_type": "code",
   "execution_count": 196,
   "id": "f1efa457-f8ec-4697-8d5e-4ae082d02cf9",
   "metadata": {},
   "outputs": [
    {
     "name": "stdout",
     "output_type": "stream",
     "text": [
      "+------+\n",
      "|10Hits|\n",
      "+------+\n",
      "|  2540|\n",
      "|  1230|\n",
      "|  4560|\n",
      "|  3210|\n",
      "|  2130|\n",
      "|  3120|\n",
      "|  2130|\n",
      "+------+\n",
      "\n"
     ]
    }
   ],
   "source": [
    "df3.show()"
   ]
  },
  {
   "cell_type": "code",
   "execution_count": 201,
   "id": "c5bddd70-1300-49e5-847e-80b73513f4b2",
   "metadata": {},
   "outputs": [],
   "source": [
    "df4= blogs_df.select(expr('Hits * 10 ').alias('10Hits'))"
   ]
  },
  {
   "cell_type": "code",
   "execution_count": 202,
   "id": "0eccc058-24f2-4123-b624-5bb9a7b78d22",
   "metadata": {},
   "outputs": [
    {
     "name": "stdout",
     "output_type": "stream",
     "text": [
      "+------+\n",
      "|10Hits|\n",
      "+------+\n",
      "|  2540|\n",
      "|  1230|\n",
      "|  4560|\n",
      "|  3210|\n",
      "|  2130|\n",
      "|  3120|\n",
      "|  2130|\n",
      "+------+\n",
      "\n"
     ]
    }
   ],
   "source": [
    "df4.show()"
   ]
  },
  {
   "cell_type": "code",
   "execution_count": 204,
   "id": "8b4b899e-43e2-434a-8fdc-7a2af30019b2",
   "metadata": {},
   "outputs": [],
   "source": [
    "# 1-  Adding New COlumns Based On Specific Condition"
   ]
  },
  {
   "cell_type": "code",
   "execution_count": 205,
   "id": "f64bef2a-3c78-489c-8646-305c8cbec2f4",
   "metadata": {},
   "outputs": [
    {
     "name": "stdout",
     "output_type": "stream",
     "text": [
      "+---+---------+-------+--------------------+----------+----+-----------------+\n",
      "| ID|    First|   Last|                 Url| Published|Hits|        Campaigns|\n",
      "+---+---------+-------+--------------------+----------+----+-----------------+\n",
      "|  1|    Jules|  Verne|http://www.exampl...|2014-01-01| 254|     [email, web]|\n",
      "|  2|     H.G.|  Wells|http://www.exampl...|2014-01-02| 123|            [web]|\n",
      "|  3|    Isaac| Asimov|http://www.exampl...|2014-02-01| 456|[email, ads, web]|\n",
      "|  4|  Douglas|  Adams|http://www.exampl...|2014-03-05| 321|       [ads, web]|\n",
      "|  5|Arthur C.| Clarke|http://www.exampl...|2014-04-01| 213|     [email, ads]|\n",
      "|  6|    Frank|Herbert|http://www.exampl...|2014-04-15| 312|     [email, web]|\n",
      "|  7|Ursula K.|Le Guin|http://www.exampl...|2014-05-21| 213|            [web]|\n",
      "+---+---------+-------+--------------------+----------+----+-----------------+\n",
      "\n"
     ]
    }
   ],
   "source": [
    "blogs_df.show()"
   ]
  },
  {
   "cell_type": "code",
   "execution_count": 208,
   "id": "7f0f10cd-31ae-4fb4-b10a-1ac24d2d3010",
   "metadata": {},
   "outputs": [],
   "source": [
    "df_BIgHits =blogs_df.withColumn('BigHits', col('Hits')>300)"
   ]
  },
  {
   "cell_type": "code",
   "execution_count": 211,
   "id": "fae14c34-4c32-4189-ae19-92ea671367f5",
   "metadata": {},
   "outputs": [
    {
     "name": "stdout",
     "output_type": "stream",
     "text": [
      "+---+---------+-------+--------------------+----------+----+-----------------+-------+\n",
      "| ID|    First|   Last|                 Url| Published|Hits|        Campaigns|BigHits|\n",
      "+---+---------+-------+--------------------+----------+----+-----------------+-------+\n",
      "|  1|    Jules|  Verne|http://www.exampl...|2014-01-01| 254|     [email, web]|  false|\n",
      "|  2|     H.G.|  Wells|http://www.exampl...|2014-01-02| 123|            [web]|  false|\n",
      "|  3|    Isaac| Asimov|http://www.exampl...|2014-02-01| 456|[email, ads, web]|   true|\n",
      "|  4|  Douglas|  Adams|http://www.exampl...|2014-03-05| 321|       [ads, web]|   true|\n",
      "|  5|Arthur C.| Clarke|http://www.exampl...|2014-04-01| 213|     [email, ads]|  false|\n",
      "|  6|    Frank|Herbert|http://www.exampl...|2014-04-15| 312|     [email, web]|   true|\n",
      "|  7|Ursula K.|Le Guin|http://www.exampl...|2014-05-21| 213|            [web]|  false|\n",
      "+---+---------+-------+--------------------+----------+----+-----------------+-------+\n",
      "\n"
     ]
    }
   ],
   "source": [
    "df_BIgHits.show()"
   ]
  },
  {
   "cell_type": "code",
   "execution_count": 210,
   "id": "1e89f8fd-4541-49d5-bf02-1ae28d0ee6c1",
   "metadata": {},
   "outputs": [
    {
     "data": {
      "text/html": [
       "<style>pre {white-space: pre !important; }</style>"
      ],
      "text/plain": [
       "<IPython.core.display.HTML object>"
      ]
     },
     "metadata": {},
     "output_type": "display_data"
    }
   ],
   "source": [
    "#Dispaly notebook cell with horizontal Scroll bar\n",
    "from IPython.display import display , HTML\n",
    "display(HTML(\"<style>pre {white-space: pre !important; }</style>\"))"
   ]
  },
  {
   "cell_type": "code",
   "execution_count": 216,
   "id": "0fc7e1fb-d0f4-4fe7-a147-9f0916fa0af8",
   "metadata": {},
   "outputs": [],
   "source": [
    "df_FullName =blogs_df.withColumn('Fullname', concat(col('First'), col('Last')))"
   ]
  },
  {
   "cell_type": "code",
   "execution_count": 217,
   "id": "66644d28-421b-48e7-8cb2-70203e177493",
   "metadata": {},
   "outputs": [
    {
     "name": "stdout",
     "output_type": "stream",
     "text": [
      "+---+---------+-------+--------------------+----------+----+-----------------+----------------+\n",
      "| ID|    First|   Last|                 Url| Published|Hits|        Campaigns|        Fullname|\n",
      "+---+---------+-------+--------------------+----------+----+-----------------+----------------+\n",
      "|  1|    Jules|  Verne|http://www.exampl...|2014-01-01| 254|     [email, web]|      JulesVerne|\n",
      "|  2|     H.G.|  Wells|http://www.exampl...|2014-01-02| 123|            [web]|       H.G.Wells|\n",
      "|  3|    Isaac| Asimov|http://www.exampl...|2014-02-01| 456|[email, ads, web]|     IsaacAsimov|\n",
      "|  4|  Douglas|  Adams|http://www.exampl...|2014-03-05| 321|       [ads, web]|    DouglasAdams|\n",
      "|  5|Arthur C.| Clarke|http://www.exampl...|2014-04-01| 213|     [email, ads]| Arthur C.Clarke|\n",
      "|  6|    Frank|Herbert|http://www.exampl...|2014-04-15| 312|     [email, web]|    FrankHerbert|\n",
      "|  7|Ursula K.|Le Guin|http://www.exampl...|2014-05-21| 213|            [web]|Ursula K.Le Guin|\n",
      "+---+---------+-------+--------------------+----------+----+-----------------+----------------+\n",
      "\n"
     ]
    }
   ],
   "source": [
    "df_FullName.show()"
   ]
  },
  {
   "cell_type": "code",
   "execution_count": 219,
   "id": "6231434e-4ce5-4b07-be2b-a7921f2cd8be",
   "metadata": {},
   "outputs": [],
   "source": [
    "df_FullName =blogs_df.withColumn('Fullname', concat_ws(' ',col('First'), col('Last')))"
   ]
  },
  {
   "cell_type": "code",
   "execution_count": 220,
   "id": "ec6d7436-433b-4515-a64d-1af79f65d055",
   "metadata": {},
   "outputs": [
    {
     "name": "stdout",
     "output_type": "stream",
     "text": [
      "+---+---------+-------+--------------------+----------+----+-----------------+-----------------+\n",
      "| ID|    First|   Last|                 Url| Published|Hits|        Campaigns|         Fullname|\n",
      "+---+---------+-------+--------------------+----------+----+-----------------+-----------------+\n",
      "|  1|    Jules|  Verne|http://www.exampl...|2014-01-01| 254|     [email, web]|      Jules Verne|\n",
      "|  2|     H.G.|  Wells|http://www.exampl...|2014-01-02| 123|            [web]|       H.G. Wells|\n",
      "|  3|    Isaac| Asimov|http://www.exampl...|2014-02-01| 456|[email, ads, web]|     Isaac Asimov|\n",
      "|  4|  Douglas|  Adams|http://www.exampl...|2014-03-05| 321|       [ads, web]|    Douglas Adams|\n",
      "|  5|Arthur C.| Clarke|http://www.exampl...|2014-04-01| 213|     [email, ads]| Arthur C. Clarke|\n",
      "|  6|    Frank|Herbert|http://www.exampl...|2014-04-15| 312|     [email, web]|    Frank Herbert|\n",
      "|  7|Ursula K.|Le Guin|http://www.exampl...|2014-05-21| 213|            [web]|Ursula K. Le Guin|\n",
      "+---+---------+-------+--------------------+----------+----+-----------------+-----------------+\n",
      "\n"
     ]
    }
   ],
   "source": [
    "df_FullName.show()"
   ]
  },
  {
   "cell_type": "code",
   "execution_count": null,
   "id": "67cf4e66-e969-4ac3-bede-ad0fcb7c3fe3",
   "metadata": {},
   "outputs": [],
   "source": []
  }
 ],
 "metadata": {
  "kernelspec": {
   "display_name": "Python 3 (ipykernel)",
   "language": "python",
   "name": "python3"
  },
  "language_info": {
   "codemirror_mode": {
    "name": "ipython",
    "version": 3
   },
   "file_extension": ".py",
   "mimetype": "text/x-python",
   "name": "python",
   "nbconvert_exporter": "python",
   "pygments_lexer": "ipython3",
   "version": "3.13.5"
  }
 },
 "nbformat": 4,
 "nbformat_minor": 5
}
